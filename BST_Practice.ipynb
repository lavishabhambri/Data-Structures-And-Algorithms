{
  "nbformat": 4,
  "nbformat_minor": 0,
  "metadata": {
    "kernelspec": {
      "display_name": "Python 3",
      "language": "python",
      "name": "python3"
    },
    "language_info": {
      "codemirror_mode": {
        "name": "ipython",
        "version": 3
      },
      "file_extension": ".py",
      "mimetype": "text/x-python",
      "name": "python",
      "nbconvert_exporter": "python",
      "pygments_lexer": "ipython3",
      "version": "3.7.6"
    },
    "colab": {
      "name": "BST_Practice.ipynb",
      "provenance": [],
      "include_colab_link": true
    }
  },
  "cells": [
    {
      "cell_type": "markdown",
      "metadata": {
        "id": "view-in-github",
        "colab_type": "text"
      },
      "source": [
        "<a href=\"https://colab.research.google.com/github/lavishabhambri/Data-Structures-and-Algorithms/blob/master/BST_Practice.ipynb\" target=\"_parent\"><img src=\"https://colab.research.google.com/assets/colab-badge.svg\" alt=\"Open In Colab\"/></a>"
      ]
    },
    {
      "cell_type": "markdown",
      "metadata": {
        "id": "4LWOWR7WrnPE",
        "colab_type": "text"
      },
      "source": [
        "# Creating a binary tree\n"
      ]
    },
    {
      "cell_type": "code",
      "metadata": {
        "id": "_k-j5YXKrnPH",
        "colab_type": "code",
        "colab": {}
      },
      "source": [
        "#creating a node\n",
        "class binaryTreeNode:\n",
        "    \n",
        "    def __init__(self, data):\n",
        "        self.data = data\n",
        "        self.left = None\n",
        "        self.right = None"
      ],
      "execution_count": 0,
      "outputs": []
    },
    {
      "cell_type": "markdown",
      "metadata": {
        "id": "ZuLs3nxbrnPP",
        "colab_type": "text"
      },
      "source": [
        "# LevelWise Input of Binary Tree"
      ]
    },
    {
      "cell_type": "code",
      "metadata": {
        "id": "9DcgeI6irnPQ",
        "colab_type": "code",
        "colab": {}
      },
      "source": [
        "import queue\n",
        "def levelWiseInputBinaryTree():\n",
        "    q = queue.Queue()\n",
        "    print(\"Enter the root \")\n",
        "    rootData = int(input())\n",
        "    if rootData == -1:\n",
        "        return None\n",
        "    root = binaryTreeNode(rootData)\n",
        "    \n",
        "    q.put(root)\n",
        "    \n",
        "    while (not (q.empty())) :\n",
        "        current_node = q.get()\n",
        "        print(\"Enter the left chid of \",current_node.data)\n",
        "        leftChildData = int(input())\n",
        "        if leftChildData != -1:\n",
        "            leftChild = binaryTreeNode(leftChildData)\n",
        "            current_node.left = leftChild\n",
        "            q.put(leftChild)\n",
        "            \n",
        "        print(\"Enter the right chid of \",current_node.data)\n",
        "        rightChildData = int(input())\n",
        "        if rightChildData != -1:\n",
        "            rightChild = binaryTreeNode(rightChildData)\n",
        "            current_node.right = rightChild\n",
        "            q.put(rightChild)\n",
        "            \n",
        "        \n",
        "    return root"
      ],
      "execution_count": 0,
      "outputs": []
    },
    {
      "cell_type": "markdown",
      "metadata": {
        "id": "zi_NCmmPrnPX",
        "colab_type": "text"
      },
      "source": [
        "# Print LevelWise Binary Tree\n"
      ]
    },
    {
      "cell_type": "code",
      "metadata": {
        "id": "_Sv1vTsKrnPY",
        "colab_type": "code",
        "colab": {},
        "outputId": "19a8334d-2cca-4b99-ebe1-1ee517618f9f"
      },
      "source": [
        "import queue\n",
        "def printLevelWiseBinaryTree(root):\n",
        "    q = queue.Queue()\n",
        "    \n",
        "    if root != None:\n",
        "        q.put(root)\n",
        "        \n",
        "    while (not q.empty()):\n",
        "        a = q.get()\n",
        "        print(a.data ,end= \" \")\n",
        "        \n",
        "        if a.left != None:\n",
        "            q.put(a.left)\n",
        "        if a.right != None:\n",
        "            q.put(a.right)\n",
        "            \n",
        "root = levelWiseInputBinaryTree()\n",
        "printLevelWiseBinaryTree(root)"
      ],
      "execution_count": 0,
      "outputs": [
        {
          "output_type": "stream",
          "text": [
            "Enter the root \n",
            "1\n",
            "Enter the left chid of  1\n",
            "2\n",
            "Enter the right chid of  1\n",
            "3\n",
            "Enter the left chid of  2\n",
            "-1\n",
            "Enter the right chid of  2\n",
            "-1\n",
            "Enter the left chid of  3\n",
            "-1\n",
            "Enter the right chid of  3\n",
            "-1\n",
            "1 2 3 "
          ],
          "name": "stdout"
        }
      ]
    },
    {
      "cell_type": "markdown",
      "metadata": {
        "id": "Bz-7gaFwrnPg",
        "colab_type": "text"
      },
      "source": [
        "# Search In BST"
      ]
    },
    {
      "cell_type": "code",
      "metadata": {
        "id": "l3AQFbsArnPh",
        "colab_type": "code",
        "colab": {},
        "outputId": "7ad2a45d-fbe5-4ca5-f8a4-9637e200cb63"
      },
      "source": [
        "#Given a BST and an integer k. Find if the integer k is present in given BST or not. Return the node with data k if it is present, return null otherwise.\n",
        "#Assume that BST contains all unique elements.\n",
        "\n",
        "def search(root, k):\n",
        "    \n",
        "    if root == None:\n",
        "        return False\n",
        "    \n",
        "    if k == root.data:\n",
        "        return True\n",
        "    elif k < root.data:\n",
        "        return search(root.left, k)\n",
        "    else:\n",
        "        return search(root.right, k)\n",
        "    \n",
        "root = levelWiseInputBinaryTree()\n",
        "k = 2\n",
        "search(root, k)"
      ],
      "execution_count": 0,
      "outputs": [
        {
          "output_type": "stream",
          "text": [
            "Enter the root \n",
            "8\n",
            "Enter the left chid of  8\n",
            "5\n",
            "Enter the right chid of  8\n",
            "10\n",
            "Enter the left chid of  5\n",
            "2\n",
            "Enter the right chid of  5\n",
            "6\n",
            "Enter the left chid of  10\n",
            "-1\n",
            "Enter the right chid of  10\n",
            "-1\n",
            "Enter the left chid of  2\n",
            "-1\n",
            "Enter the right chid of  2\n",
            "-1\n",
            "Enter the left chid of  6\n",
            "-1\n",
            "Enter the right chid of  6\n",
            "7\n",
            "Enter the left chid of  7\n",
            "-1\n",
            "Enter the right chid of  7\n",
            "-1\n"
          ],
          "name": "stdout"
        },
        {
          "output_type": "execute_result",
          "data": {
            "text/plain": [
              "True"
            ]
          },
          "metadata": {
            "tags": []
          },
          "execution_count": 7
        }
      ]
    },
    {
      "cell_type": "markdown",
      "metadata": {
        "id": "CDNEPvFNrnPm",
        "colab_type": "text"
      },
      "source": [
        "# Elements Between K1 and K2"
      ]
    },
    {
      "cell_type": "code",
      "metadata": {
        "id": "jE-ta5aDrnPn",
        "colab_type": "code",
        "colab": {},
        "outputId": "c0a206dc-6fdf-40ed-c090-8bd4da761462"
      },
      "source": [
        "#Given a Binary Search Tree and two integers k1 and k2, find and print the elements which are in range k1 and k2 (both inclusive).\n",
        "#Print the elements in increasing order.\n",
        "\n",
        "def printBetweenK1K2(root, k1, k2):\n",
        "    if root == None:\n",
        "        return None\n",
        "    \n",
        "    if root.data > k2:\n",
        "        printBetweenK1K2(root.left, k1, k2)\n",
        "   \n",
        "    elif root.data < k1:\n",
        "        printBetweenK1K2(root.right, k1, k2)\n",
        "    \n",
        "    else:\n",
        "        print(root.data)\n",
        "        printBetweenK1K2(root.left, k1, k2)\n",
        "        printBetweenK1K2(root.right, k1, k2)\n",
        "    \n",
        "    \n",
        "        \n",
        "            \n",
        "root = levelWiseInputBinaryTree()\n",
        "k1 = 6 \n",
        "k2 = 10\n",
        "printBetweenK1K2(root, k1, k2)"
      ],
      "execution_count": 0,
      "outputs": [
        {
          "output_type": "stream",
          "text": [
            "Enter the root \n",
            "8\n",
            "Enter the left chid of  8\n",
            "2\n",
            "Enter the right chid of  8\n",
            "10\n",
            "Enter the left chid of  2\n",
            "5\n",
            "Enter the right chid of  2\n",
            "6\n",
            "Enter the left chid of  10\n",
            "-1\n",
            "Enter the right chid of  10\n",
            "-1\n",
            "Enter the left chid of  5\n",
            "-1\n",
            "Enter the right chid of  5\n",
            "-1\n",
            "Enter the left chid of  6\n",
            "-1\n",
            "Enter the right chid of  6\n",
            "7\n",
            "Enter the left chid of  7\n",
            "-1\n",
            "Enter the right chid of  7\n",
            "-1\n",
            "8\n",
            "6\n",
            "7\n",
            "10\n"
          ],
          "name": "stdout"
        }
      ]
    },
    {
      "cell_type": "markdown",
      "metadata": {
        "id": "-EhCHyZfrnPt",
        "colab_type": "text"
      },
      "source": [
        "# Construct BST Using Sorted Array"
      ]
    },
    {
      "cell_type": "code",
      "metadata": {
        "id": "9uAGXFxernPu",
        "colab_type": "code",
        "colab": {},
        "outputId": "d9df95ed-01ba-49dd-bc6e-c3daa7de26cf"
      },
      "source": [
        "#Given a sorted integer array A of size n which contains all unique elements. You need to construct a balanced BST from this input array. Return the root of constructed BST.\n",
        "\n",
        "def constructBST(arr):\n",
        "    length = len(arr)\n",
        "    if length == 0:\n",
        "        return None\n",
        "    \n",
        "    rootData = arr[length//2]\n",
        "    root = binaryTreeNode(rootData)\n",
        "    \n",
        "    leftSubtree = arr[0: length//2 ]\n",
        "    rightSubtree = arr[length//2 + 1: ]\n",
        "    leftChild = constructBST(leftSubtree)\n",
        "    rightChild = constructBST(rightSubtree)\n",
        "    \n",
        "    root.left = leftChild\n",
        "    root.right = rightChild\n",
        "    \n",
        "    return root\n",
        "\n",
        "arr = [1,2,3,4,5,6,7]\n",
        "root = constructBST(arr)\n",
        "printLevelWiseBinaryTree(root)"
      ],
      "execution_count": 0,
      "outputs": [
        {
          "output_type": "stream",
          "text": [
            "4 2 6 1 3 5 7 "
          ],
          "name": "stdout"
        }
      ]
    },
    {
      "cell_type": "code",
      "metadata": {
        "id": "l02LevkArnP0",
        "colab_type": "code",
        "colab": {}
      },
      "source": [
        "#Which type of traversal of binary search tree outputs the value in sorted order ?\n",
        "\n",
        "Ans : Inorder"
      ],
      "execution_count": 0,
      "outputs": []
    },
    {
      "cell_type": "markdown",
      "metadata": {
        "id": "cbjtB1nYrnP6",
        "colab_type": "text"
      },
      "source": [
        "# Check is BST?"
      ]
    },
    {
      "cell_type": "code",
      "metadata": {
        "id": "TKSKzVBRrnP7",
        "colab_type": "code",
        "colab": {},
        "outputId": "b1062f00-2f35-4fb0-b462-e8dfa5857f65"
      },
      "source": [
        "#to find minimum node of a tree\n",
        "def minTree(root):\n",
        "    \n",
        "    if root == None:\n",
        "        return 100000\n",
        "    leftMin = minTree(root.left)\n",
        "    rightMin = minTree(root.right)\n",
        "    return min(leftMin, rightMin, root.data)\n",
        "\n",
        "\n",
        "#to find maximum node of a tree\n",
        "def maxTree(root):\n",
        "    if root == None:\n",
        "        return -100000\n",
        "    leftMax = maxTree(root.left)\n",
        "    rightMax = maxTree(root.right)\n",
        "    return max(leftMax, rightMax, root.data)\n",
        "\n",
        "\n",
        "#to define the function\n",
        "def isBST(root):\n",
        "    if root == None:\n",
        "        return True\n",
        "    \n",
        "    leftMax = maxTree(root.left)\n",
        "    rightMin = minTree(root.right)\n",
        "    \n",
        "    if root.data > rightMin or root.data < leftMax:\n",
        "        return False\n",
        "    \n",
        "    isLeftBST = isBST(root.left)\n",
        "    isRightBST = isBST(root.right)\n",
        "    return isLeftBST and isRightBST\n",
        "\n",
        "root = levelWiseInputBinaryTree()\n",
        "isBST(root)    "
      ],
      "execution_count": 0,
      "outputs": [
        {
          "output_type": "stream",
          "text": [
            "Enter the root \n",
            "4\n",
            "Enter the left chid of  4\n",
            "2\n",
            "Enter the right chid of  4\n",
            "6\n",
            "Enter the left chid of  2\n",
            "1\n",
            "Enter the right chid of  2\n",
            "3\n",
            "Enter the left chid of  6\n",
            "5\n",
            "Enter the right chid of  6\n",
            "7\n",
            "Enter the left chid of  1\n",
            "-1\n",
            "Enter the right chid of  1\n",
            "-1\n",
            "Enter the left chid of  3\n",
            "-1\n",
            "Enter the right chid of  3\n",
            "-1\n",
            "Enter the left chid of  5\n",
            "-1\n",
            "Enter the right chid of  5\n",
            "-1\n",
            "Enter the left chid of  7\n",
            "-1\n",
            "Enter the right chid of  7\n",
            "-1\n"
          ],
          "name": "stdout"
        },
        {
          "output_type": "execute_result",
          "data": {
            "text/plain": [
              "True"
            ]
          },
          "metadata": {
            "tags": []
          },
          "execution_count": 44
        }
      ]
    },
    {
      "cell_type": "markdown",
      "metadata": {
        "id": "gG-ToAM8rnQA",
        "colab_type": "text"
      },
      "source": [
        "# Another way to check a binary tree is BST? -- OPTIMAL WAY"
      ]
    },
    {
      "cell_type": "code",
      "metadata": {
        "id": "QDsm9MShrnQB",
        "colab_type": "code",
        "colab": {},
        "outputId": "ed6db675-83be-41d5-d6f1-872cd2ec3b2d"
      },
      "source": [
        "def isBST2(root):\n",
        "    \n",
        "    if root == None:\n",
        "        return 10000, -100000, True\n",
        "    \n",
        "    leftMin, leftMax, isLeftBST = isBST2(root.left)\n",
        "    rightMin, rightMax, isRightBST = isBST2(root.right)\n",
        "    \n",
        "    maximum = max(leftMax, rightMax, root.data)\n",
        "    minimum = min(leftMin, rightMin, root.data)\n",
        "    isTreeBST = True\n",
        "    if root.data <= leftMax and root.data > rightMin:\n",
        "        isTreeBST = False\n",
        "        \n",
        "    if not(isLeftBST) or not(isRightBST):\n",
        "        isTreeBST = False\n",
        "        \n",
        "    return minimum , maximum , isTreeBST\n",
        "\n",
        "root = levelWiseInputBinaryTree()\n",
        "isBST2(root)   "
      ],
      "execution_count": 0,
      "outputs": [
        {
          "output_type": "stream",
          "text": [
            "Enter the root \n",
            "4\n",
            "Enter the left chid of  4\n",
            "2\n",
            "Enter the right chid of  4\n",
            "6\n",
            "Enter the left chid of  2\n",
            "1\n",
            "Enter the right chid of  2\n",
            "3\n",
            "Enter the left chid of  6\n",
            "5\n",
            "Enter the right chid of  6\n",
            "7\n",
            "Enter the left chid of  1\n",
            "-1\n",
            "Enter the right chid of  1\n",
            "-1\n",
            "Enter the left chid of  3\n",
            "-1\n",
            "Enter the right chid of  3\n",
            "-1\n",
            "Enter the left chid of  5\n",
            "-1\n",
            "Enter the right chid of  5\n",
            "-1\n",
            "Enter the left chid of  7\n",
            "-1\n",
            "Enter the right chid of  7\n",
            "-1\n"
          ],
          "name": "stdout"
        },
        {
          "output_type": "execute_result",
          "data": {
            "text/plain": [
              "(1, 7, True)"
            ]
          },
          "metadata": {
            "tags": []
          },
          "execution_count": 45
        }
      ]
    },
    {
      "cell_type": "markdown",
      "metadata": {
        "id": "5vd6fGORrnQG",
        "colab_type": "text"
      },
      "source": [
        "# Another way to check a binary tree is BST?"
      ]
    },
    {
      "cell_type": "code",
      "metadata": {
        "id": "n36hQ8wVrnQG",
        "colab_type": "code",
        "colab": {},
        "outputId": "878f3717-12dc-4b02-97ac-38eb7c73f409"
      },
      "source": [
        "def isBST3(root, min_range, max_range):\n",
        "    \n",
        "    if root == None:\n",
        "        return True\n",
        "    \n",
        "    if root.data < min_range or root.data > max_range:\n",
        "        return False\n",
        "    \n",
        "    isLeftWithinRange = isBST3(root.left, min_range, root.data -1)\n",
        "    isRightWithinRange = isBST3(root.right, root.data, max_range)\n",
        "    \n",
        "    return isLeftWithinRange and isRightWithinRange\n",
        "  \n",
        "root = levelWiseInputBinaryTree()\n",
        "isBST3(root, -100000, 100000)    "
      ],
      "execution_count": 0,
      "outputs": [
        {
          "output_type": "stream",
          "text": [
            "Enter the root \n",
            "4\n",
            "Enter the left chid of  4\n",
            "2\n",
            "Enter the right chid of  4\n",
            "6\n",
            "Enter the left chid of  2\n",
            "1\n",
            "Enter the right chid of  2\n",
            "3\n",
            "Enter the left chid of  6\n",
            "5\n",
            "Enter the right chid of  6\n",
            "7\n",
            "Enter the left chid of  1\n",
            "-1\n",
            "Enter the right chid of  1\n",
            "-1\n",
            "Enter the left chid of  3\n",
            "-1\n",
            "Enter the right chid of  3\n",
            "-1\n",
            "Enter the left chid of  5\n",
            "-1\n",
            "Enter the right chid of  5\n",
            "-1\n",
            "Enter the left chid of  7\n",
            "-1\n",
            "Enter the right chid of  7\n",
            "-1\n"
          ],
          "name": "stdout"
        },
        {
          "output_type": "execute_result",
          "data": {
            "text/plain": [
              "True"
            ]
          },
          "metadata": {
            "tags": []
          },
          "execution_count": 49
        }
      ]
    },
    {
      "cell_type": "markdown",
      "metadata": {
        "id": "QxE7fvmYrnQL",
        "colab_type": "text"
      },
      "source": [
        "# Find path in BST"
      ]
    },
    {
      "cell_type": "code",
      "metadata": {
        "id": "b_oMcBc9rnQM",
        "colab_type": "code",
        "colab": {},
        "outputId": "a8cf818f-d5c1-4141-dc07-177cd9745462"
      },
      "source": [
        "#Given a BST and an integer k. Find and return the path from the node with data k and root (if a node with data k is present in given BST). Return null otherwise.\n",
        "#Assume that BST contains all unique elements.\n",
        "\n",
        "\n",
        "def nodeToPath(root, s):\n",
        "    if root == None:\n",
        "        return None\n",
        "    \n",
        "    if root.data == s:\n",
        "        l = list()\n",
        "        l.append(root.data)\n",
        "        return l\n",
        "    leftOutput = nodeToPath(root.left, s)\n",
        "    if leftOutput != None:\n",
        "        leftOutput.append(root.data)\n",
        "        return leftOutput\n",
        "    \n",
        "    rightOutput = nodeToPath(root.right, s)\n",
        "    if rightOutput != None:\n",
        "        rightOutput.append(root.data)\n",
        "        return rightOutput\n",
        "    \n",
        "    else:\n",
        "        return None\n",
        "    \n",
        "root = levelWiseInputBinaryTree()\n",
        "s = 2\n",
        "nodeToPath(root, s)"
      ],
      "execution_count": 0,
      "outputs": [
        {
          "output_type": "stream",
          "text": [
            "Enter the root \n",
            "8\n",
            "Enter the left chid of  8\n",
            "5\n",
            "Enter the right chid of  8\n",
            "10\n",
            "Enter the left chid of  5\n",
            "2\n",
            "Enter the right chid of  5\n",
            "6\n",
            "Enter the left chid of  10\n",
            "-1\n",
            "Enter the right chid of  10\n",
            "-1\n",
            "Enter the left chid of  2\n",
            "-1\n",
            "Enter the right chid of  2\n",
            "-1\n",
            "Enter the left chid of  6\n",
            "-1\n",
            "Enter the right chid of  6\n",
            "-1\n"
          ],
          "name": "stdout"
        },
        {
          "output_type": "execute_result",
          "data": {
            "text/plain": [
              "[2, 5, 8]"
            ]
          },
          "metadata": {
            "tags": []
          },
          "execution_count": 50
        }
      ]
    },
    {
      "cell_type": "markdown",
      "metadata": {
        "id": "Hh8tiikvrnQR",
        "colab_type": "text"
      },
      "source": [
        "# BST CLASS"
      ]
    },
    {
      "cell_type": "code",
      "metadata": {
        "id": "founCjyLrnQS",
        "colab_type": "code",
        "colab": {}
      },
      "source": [
        "#creating a node\n",
        "class binaryTreeNode:\n",
        "    \n",
        "    def __init__(self, data):\n",
        "        self.data = data\n",
        "        self.left = None\n",
        "        self.right = None\n",
        "        \n",
        "#creating BST class\n",
        "class BST:\n",
        "    \n",
        "    def __init__(self):\n",
        "        self.root = None\n",
        "        self.numNodes = 0\n",
        "    \n",
        "    \n",
        "    def isPresentHelper(self, root, data):\n",
        "        if root != None:\n",
        "            return False\n",
        "        \n",
        "        if root.data == data:\n",
        "            return True\n",
        "        if root.data > data:\n",
        "            return self.isPresentHelper(root.left, data)\n",
        "        else:\n",
        "            return self.isPresentHelper(root.right, data)\n",
        "            \n",
        "    def isPresent(self, data):\n",
        "        self.isPresentHelper(self.root, data)\n",
        "        \n",
        "    \n",
        "    def printTreeHelper(self):\n",
        "        if root == None:\n",
        "            return \n",
        "        print(root.data,end= \" : \")\n",
        "    \n",
        "        if root.left != None:\n",
        "            print(\"L\" , root.left.data, end=\" , \")\n",
        "        if root.right != None:\n",
        "            print(\"R\", root.right.data, end=\"\")\n",
        "        print( )\n",
        "    \n",
        "        self.printTreeHelper(root.left)\n",
        "        self.printTreeHelper(root.right)\n",
        "        \n",
        "    def printTree(self):\n",
        "        self.printTreeHelper(self.root)\n",
        "        \n",
        "    \n",
        "    def insertHelper(self, root, data):\n",
        "        if root == None:\n",
        "            node = binaryTreeNode(data)\n",
        "            return node\n",
        "        if root.data > data:\n",
        "            root.left = insetHelper(root.left, data)\n",
        "            return root\n",
        "        else:\n",
        "            root.right = insetHelper(root.right, data)\n",
        "            return root\n",
        "        \n",
        "    def insert(self, data):\n",
        "        self.numNodes += 1\n",
        "        self.root = self.insertHelper(self.root, data)\n",
        "        \n",
        "        \n",
        "    def count(self):\n",
        "        return self.numNodes\n",
        "    \n",
        "    \n",
        "    def deleteHelper(self, root, data):\n",
        "        "
      ],
      "execution_count": 0,
      "outputs": []
    },
    {
      "cell_type": "code",
      "metadata": {
        "id": "qWKC_m6ernQW",
        "colab_type": "code",
        "colab": {}
      },
      "source": [
        ""
      ],
      "execution_count": 0,
      "outputs": []
    }
  ]
}