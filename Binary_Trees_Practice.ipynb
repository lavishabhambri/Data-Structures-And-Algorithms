{
  "nbformat": 4,
  "nbformat_minor": 0,
  "metadata": {
    "kernelspec": {
      "display_name": "Python 3",
      "language": "python",
      "name": "python3"
    },
    "language_info": {
      "codemirror_mode": {
        "name": "ipython",
        "version": 3
      },
      "file_extension": ".py",
      "mimetype": "text/x-python",
      "name": "python",
      "nbconvert_exporter": "python",
      "pygments_lexer": "ipython3",
      "version": "3.7.6"
    },
    "colab": {
      "name": "Binary Trees_Practice.ipynb",
      "provenance": [],
      "include_colab_link": true
    }
  },
  "cells": [
    {
      "cell_type": "markdown",
      "metadata": {
        "id": "view-in-github",
        "colab_type": "text"
      },
      "source": [
        "<a href=\"https://colab.research.google.com/github/lavishabhambri/Data-Structures-and-Algorithms/blob/master/Binary_Trees_Practice.ipynb\" target=\"_parent\"><img src=\"https://colab.research.google.com/assets/colab-badge.svg\" alt=\"Open In Colab\"/></a>"
      ]
    },
    {
      "cell_type": "markdown",
      "metadata": {
        "id": "pkkE-0l-rTpZ",
        "colab_type": "text"
      },
      "source": [
        "# Creating a binary tree"
      ]
    },
    {
      "cell_type": "code",
      "metadata": {
        "id": "jvTl-ph4rTpb",
        "colab_type": "code",
        "colab": {}
      },
      "source": [
        "#creating a node\n",
        "class binaryTreeNode:\n",
        "    \n",
        "    def __init__(self, data):\n",
        "        self.data = data\n",
        "        self.left = None\n",
        "        self.right = None\n",
        "#creating nodes\n",
        "bn1 = binaryTreeNode(1)\n",
        "bn2 = binaryTreeNode(4)\n",
        "bn3 = binaryTreeNode(7)\n",
        "\n",
        "#creating connections between nodes\n",
        "bn1.left = bn2\n",
        "bn1.right = bn3"
      ],
      "execution_count": 0,
      "outputs": []
    },
    {
      "cell_type": "markdown",
      "metadata": {
        "id": "asYkgbT3rTpi",
        "colab_type": "text"
      },
      "source": [
        "# Printing a binary tree"
      ]
    },
    {
      "cell_type": "code",
      "metadata": {
        "id": "mLipoWIRrTpj",
        "colab_type": "code",
        "colab": {}
      },
      "source": [
        "def printTree(root):\n",
        "    \n",
        "    if root == None:\n",
        "        return \n",
        "    print(root.data,end= \" : \")\n",
        "    \n",
        "    if root.left != None:\n",
        "        print(\"L\" , root.left.data, end=\" , \")\n",
        "    if root.right != None:\n",
        "        print(\"R\", root.right.data, end=\"\")\n",
        "    print( )\n",
        "    \n",
        "    printTree(root.left)\n",
        "    printTree(root.right)"
      ],
      "execution_count": 0,
      "outputs": []
    },
    {
      "cell_type": "code",
      "metadata": {
        "id": "VRcj-ThyrTpo",
        "colab_type": "code",
        "colab": {},
        "outputId": "f2e31240-7b61-4660-b027-30ad9aecdcdd"
      },
      "source": [
        "#creating a node\n",
        "class binaryTreeNode:\n",
        "    \n",
        "    def __init__(self, data):\n",
        "        self.data = data\n",
        "        self.left = None\n",
        "        self.right = None\n",
        "#creating nodes\n",
        "bn1 = binaryTreeNode(1)\n",
        "bn2 = binaryTreeNode(2)\n",
        "bn3 = binaryTreeNode(3)\n",
        "bn4 = binaryTreeNode(4)\n",
        "bn5 = binaryTreeNode(5)\n",
        "\n",
        "#creating connections between nodes\n",
        "bn1.left = bn2\n",
        "bn1.right = bn3\n",
        "bn2.left = bn4\n",
        "bn2.right = bn5\n",
        "\n",
        "printTree(bn1)"
      ],
      "execution_count": 0,
      "outputs": [
        {
          "output_type": "stream",
          "text": [
            "1 : L 2 , R 3\n",
            "2 : L 4 , R 5\n",
            "4 : \n",
            "5 : \n",
            "3 : \n"
          ],
          "name": "stdout"
        }
      ]
    },
    {
      "cell_type": "markdown",
      "metadata": {
        "id": "j9xJqkcjrTpv",
        "colab_type": "text"
      },
      "source": [
        "# Taking input of binary tree"
      ]
    },
    {
      "cell_type": "code",
      "metadata": {
        "id": "i8WJBoberTpw",
        "colab_type": "code",
        "colab": {},
        "outputId": "d0a5acf9-acfd-42ac-f89e-648839944e80"
      },
      "source": [
        "def treeInput():\n",
        "    rootData = int(input())\n",
        "    if rootData == -1:\n",
        "        return None\n",
        "    root = binaryTreeNode(rootData)\n",
        "    leftTree = treeInput()\n",
        "    rightTree = treeInput()\n",
        "    root.left = leftTree\n",
        "    root.right = rightTree\n",
        "    return root\n",
        "\n",
        "root = treeInput()\n",
        "printTree(root)"
      ],
      "execution_count": 0,
      "outputs": [
        {
          "output_type": "stream",
          "text": [
            "1\n",
            "2\n",
            "-1\n",
            "-1\n",
            "-1\n",
            "1 : L 2 , \n",
            "2 : \n"
          ],
          "name": "stdout"
        }
      ]
    },
    {
      "cell_type": "markdown",
      "metadata": {
        "id": "36cF24fzrTp2",
        "colab_type": "text"
      },
      "source": [
        "# Number of nodes in a binary tree"
      ]
    },
    {
      "cell_type": "code",
      "metadata": {
        "id": "aT9-iNxZrTp3",
        "colab_type": "code",
        "colab": {}
      },
      "source": [
        "def numNodes(root):\n",
        "    if root == None:\n",
        "        return 0\n",
        "    leftCount = numNodes(root.left)\n",
        "    rightCount = numNodes(root.right)\n",
        "    return 1 + leftCount + rightCount \n",
        "\n",
        "root = treeInput()\n",
        "printTree(root)\n",
        "print(numNodes(root))"
      ],
      "execution_count": 0,
      "outputs": []
    },
    {
      "cell_type": "markdown",
      "metadata": {
        "id": "-CDAaEk3rTp8",
        "colab_type": "text"
      },
      "source": [
        "# Sum of nodes in a binary tree"
      ]
    },
    {
      "cell_type": "code",
      "metadata": {
        "id": "v8qP0s0drTp8",
        "colab_type": "code",
        "colab": {}
      },
      "source": [
        "#Given a binary tree, find and return the sum of all nodes.\n",
        "#Input format :\n",
        "\n",
        "#Elements in level order form (separated by space). If any node does not have left or right child, take -1 in its place.\n",
        "import queue\n",
        "class BinaryTreeNode:\n",
        "    def __init__(self, data):\n",
        "        self.data = data\n",
        "        self.left = None\n",
        "        self.right = None\n",
        "\n",
        "def sumOfAllNodes(root):\n",
        "    leftSum = 0\n",
        "    rightSum = 0\n",
        "    \n",
        "    if root == None:\n",
        "        return 0\n",
        "    else:\n",
        "        if root.left != None:\n",
        "            leftSum = sumOfAllNodes(root.left)\n",
        "        if root.right != None:\n",
        "            rightSum = sumOfAllNodes(root.right)\n",
        "    return leftSum + root.data + rightSum \n",
        "\n",
        "def buildLevelTree(levelorder):\n",
        "    index = 0\n",
        "    length = len(levelorder)\n",
        "    if length<=0 or levelorder[0]==-1:\n",
        "        return None\n",
        "    root = BinaryTreeNode(levelorder[index])\n",
        "    index += 1\n",
        "    q = queue.Queue()\n",
        "    q.put(root)\n",
        "    while not q.empty():\n",
        "        currentNode = q.get()\n",
        "        leftChild = levelorder[index]\n",
        "        index += 1\n",
        "        if leftChild != -1:\n",
        "            leftNode = BinaryTreeNode(leftChild)\n",
        "            currentNode.left =leftNode\n",
        "            q.put(leftNode)\n",
        "        rightChild = levelorder[index]\n",
        "        index += 1\n",
        "        if rightChild != -1:\n",
        "            rightNode = BinaryTreeNode(rightChild)\n",
        "            currentNode.right =rightNode\n",
        "            q.put(rightNode)\n",
        "    return root\n",
        "\n",
        "# Main\n",
        "levelOrder = [int(i) for i in input().strip().split()]\n",
        "root = buildLevelTree(levelOrder)\n",
        "print(sumOfAllNodes(root))\n"
      ],
      "execution_count": 0,
      "outputs": []
    },
    {
      "cell_type": "markdown",
      "metadata": {
        "id": "tvg-5zZzrTqC",
        "colab_type": "text"
      },
      "source": [
        "# Preorder Binary Tree"
      ]
    },
    {
      "cell_type": "code",
      "metadata": {
        "id": "jJteara5rTqD",
        "colab_type": "code",
        "colab": {}
      },
      "source": [
        "def printPreorder(root):\n",
        "    \n",
        "    if root: \n",
        "  \n",
        "        # First print the data of node \n",
        "        print(root.data), \n",
        "  \n",
        "        # Then recur on left child \n",
        "        printPreorder(root.left) \n",
        "  \n",
        "        # Finally recur on right child \n",
        "        printPreorder(root.right) \n",
        "    \n",
        "    "
      ],
      "execution_count": 0,
      "outputs": []
    },
    {
      "cell_type": "code",
      "metadata": {
        "id": "3Tz5muIwrTqI",
        "colab_type": "code",
        "colab": {}
      },
      "source": [
        "root = treeInput()\n",
        "printPreorder(root)"
      ],
      "execution_count": 0,
      "outputs": []
    },
    {
      "cell_type": "markdown",
      "metadata": {
        "id": "d1PPcgFXrTqN",
        "colab_type": "text"
      },
      "source": [
        "# Postorder Binary Tree"
      ]
    },
    {
      "cell_type": "code",
      "metadata": {
        "id": "horx1Z25rTqO",
        "colab_type": "code",
        "colab": {}
      },
      "source": [
        "def printPostorder(root): \n",
        "  \n",
        "    if root: \n",
        "  \n",
        "        # First recur on left child \n",
        "        printPostorder(root.left) \n",
        "  \n",
        "        # the recur on right child \n",
        "        printPostorder(root.right) \n",
        "  \n",
        "        # now print the data of node \n",
        "        print(root.data) \n",
        "  \n"
      ],
      "execution_count": 0,
      "outputs": []
    },
    {
      "cell_type": "code",
      "metadata": {
        "id": "gbu6hZdhrTqS",
        "colab_type": "code",
        "colab": {}
      },
      "source": [
        "root = treeInput()\n",
        "printPostorder(root)"
      ],
      "execution_count": 0,
      "outputs": []
    },
    {
      "cell_type": "markdown",
      "metadata": {
        "id": "ol2VhR4lrTqX",
        "colab_type": "text"
      },
      "source": [
        "# Inorder Binary Tree"
      ]
    },
    {
      "cell_type": "code",
      "metadata": {
        "id": "Xto_m3tRrTqY",
        "colab_type": "code",
        "colab": {}
      },
      "source": [
        "def printInorder(root): \n",
        "  \n",
        "    if root: \n",
        "  \n",
        "        # First recur on left child \n",
        "        printInorder(root.left) \n",
        "  \n",
        "        # then print the data of node \n",
        "        print(root.data), \n",
        "  \n",
        "        # now recur on right child \n",
        "        printInorder(root.right) \n",
        "  \n"
      ],
      "execution_count": 0,
      "outputs": []
    },
    {
      "cell_type": "code",
      "metadata": {
        "id": "c211Zb5JrTqd",
        "colab_type": "code",
        "colab": {}
      },
      "source": [
        "root = treeInput()\n",
        "printInorder(root)"
      ],
      "execution_count": 0,
      "outputs": []
    },
    {
      "cell_type": "markdown",
      "metadata": {
        "id": "ZsrXODRRrTqh",
        "colab_type": "text"
      },
      "source": [
        "# Node with largest data"
      ]
    },
    {
      "cell_type": "code",
      "metadata": {
        "id": "MWOg8EU8rTqi",
        "colab_type": "code",
        "colab": {}
      },
      "source": [
        "def largestData(root):\n",
        "    if root == None:\n",
        "        return -1\n",
        "    leftLargest = largestData(root.left)\n",
        "    rightLargest = largestData(root.right)\n",
        "    largest =  max(root.data, leftLargest, rightLargest)\n",
        "    return largest\n",
        "\n",
        "root = treeInput()\n",
        "print(\"The largest data is : \")\n",
        "print(largestData(root))"
      ],
      "execution_count": 0,
      "outputs": []
    },
    {
      "cell_type": "markdown",
      "metadata": {
        "id": "xysLtQKIrTqm",
        "colab_type": "text"
      },
      "source": [
        "# Nodes Greater Than X"
      ]
    },
    {
      "cell_type": "code",
      "metadata": {
        "id": "5YMJzyNwrTqo",
        "colab_type": "code",
        "colab": {}
      },
      "source": [
        "#Given a Binary Tree and an integer x, find and return the count of nodes which are having data greater than x.\n",
        "\n",
        "def count(root, x):\n",
        "    count = 0\n",
        "    if root == None:\n",
        "        return 0\n",
        "    \n",
        "    if root.data > x:\n",
        "        count = 1\n",
        "    \n",
        "   \n",
        "    if root.left != None:\n",
        "        leftCount = count(root.left, x)\n",
        "    if root.right != None:\n",
        "        rightCount = count(root.right, x)\n",
        "    \n",
        "    \n",
        "        #return count\n",
        "        \n",
        "    return count + leftCount + rightCount \n",
        "        \n",
        "    #return leftCount + rightCount + count\n",
        "\n",
        "root = treeInput()\n",
        "x= int(input(\"Enter the value of x : \"))\n",
        "print(\"The no of nodes greater than x are : \",end= '')\n",
        "c = count(root,x)\n",
        "print(c)"
      ],
      "execution_count": 0,
      "outputs": []
    },
    {
      "cell_type": "markdown",
      "metadata": {
        "id": "ZLH93Bs5rTqt",
        "colab_type": "text"
      },
      "source": [
        "# Height Of Tree"
      ]
    },
    {
      "cell_type": "code",
      "metadata": {
        "id": "6YoQu6uVrTqt",
        "colab_type": "code",
        "colab": {}
      },
      "source": [
        "#Given a binary tree, find and return the height of given tree.\n",
        "\n",
        "\n",
        "def height(root):\n",
        "    if root == None:\n",
        "        return 0\n",
        "    \n",
        "    leftHeight = height(root.left)\n",
        "    rightHeight = height(root.right)\n",
        "    \n",
        "    if leftHeight > rightHeight :\n",
        "        return leftHeight + 1\n",
        "    else:\n",
        "        return rightHeight + 1\n",
        "    \n",
        "root = treeInput()\n",
        "print(\"The height of the tree is \" ,end= \"\")\n",
        "print(height(root))"
      ],
      "execution_count": 0,
      "outputs": []
    },
    {
      "cell_type": "markdown",
      "metadata": {
        "id": "28Ytr2gTrTqy",
        "colab_type": "text"
      },
      "source": [
        "# Number of Leaf Nodes\n"
      ]
    },
    {
      "cell_type": "code",
      "metadata": {
        "id": "r4T-2ZYrrTq0",
        "colab_type": "code",
        "colab": {},
        "outputId": "8ccc51b4-c2ff-4d41-c8e0-bcc4f46ec388"
      },
      "source": [
        "def numLeafNode(root):\n",
        "    if root == None:\n",
        "        return 0\n",
        "    if root.left == None and root.right == None:\n",
        "        return 1\n",
        "    \n",
        "    leftNodes = numLeafNode(root.left)\n",
        "    rightNodes = numLeafNode(root.right)\n",
        "    return leftNodes + rightNodes\n",
        "\n",
        "root = treeInput()\n",
        "print(numLeafNode(root))"
      ],
      "execution_count": 0,
      "outputs": [
        {
          "output_type": "stream",
          "text": [
            "10\n",
            "9\n",
            "4\n",
            "-1\n",
            "-1\n",
            "5\n",
            "8\n",
            "-1\n",
            "6\n",
            "-1\n",
            "-1\n",
            "3\n",
            "-1\n",
            "-1\n",
            "-1\n",
            "3\n"
          ],
          "name": "stdout"
        }
      ]
    },
    {
      "cell_type": "markdown",
      "metadata": {
        "id": "ctxdlUiurTq-",
        "colab_type": "text"
      },
      "source": [
        "# Print all Nodes at depth k"
      ]
    },
    {
      "cell_type": "code",
      "metadata": {
        "id": "GzJyUy9frTq_",
        "colab_type": "code",
        "colab": {},
        "outputId": "bbb29848-d090-41ec-f6e8-d24f9bb5b348"
      },
      "source": [
        "#only including k\n",
        "def printDepthK(root, k):\n",
        "    if root == None:\n",
        "        return \n",
        "    if k == 0:\n",
        "        print(root.data)\n",
        "        \n",
        "    printDepthK(root.left, k-1)\n",
        "    printDepthK(root.right, k-1)\n",
        "    \n",
        "root = treeInput()\n",
        "printDepthK(root,2)\n"
      ],
      "execution_count": 0,
      "outputs": [
        {
          "output_type": "stream",
          "text": [
            "1\n",
            "2\n",
            "3\n",
            "-1\n",
            "-1\n",
            "4\n",
            "-1\n",
            "-1\n",
            "5\n",
            "-1\n",
            "-1\n",
            "3\n",
            "4\n"
          ],
          "name": "stdout"
        }
      ]
    },
    {
      "cell_type": "code",
      "metadata": {
        "id": "L-SyOg5TrTrE",
        "colab_type": "code",
        "colab": {},
        "outputId": "782a9b0e-d05e-43bc-a3bf-ee4d3eb44632"
      },
      "source": [
        "#another approach including k and the level where we are present currently\n",
        "def printDepthK(root, k, d=0):\n",
        "    if root == None:\n",
        "        return \n",
        "    if k == d:\n",
        "        print(root.data)\n",
        "        return \n",
        "    printDepthK(root.left, k, d+1)\n",
        "    printDepthK(root.right, k, d+1)\n",
        "\n",
        "root = treeInput()\n",
        "printDepthK(root,2)"
      ],
      "execution_count": 0,
      "outputs": [
        {
          "output_type": "stream",
          "text": [
            "1\n",
            "2\n",
            "3\n",
            "-1\n",
            "-1\n",
            "4\n",
            "-1\n",
            "-1\n",
            "5\n",
            "-1\n",
            "-1\n",
            "3\n",
            "4\n"
          ],
          "name": "stdout"
        }
      ]
    },
    {
      "cell_type": "markdown",
      "metadata": {
        "id": "HQ6wxD3UrTrJ",
        "colab_type": "text"
      },
      "source": [
        "# Replace Node With Depth"
      ]
    },
    {
      "cell_type": "code",
      "metadata": {
        "id": "RZDIV1GErTrK",
        "colab_type": "code",
        "colab": {},
        "outputId": "1387c952-33a5-493d-d4a6-1eeaf956642b"
      },
      "source": [
        "# Given a a binary tree. Replace each of it's data with the depth of tree.\n",
        "#Root is at depth 0, change its value to 0 and next level nodes are at depth 1 and so on.\n",
        "#Print the tree after modifying in inorder fashion.\n",
        "\n",
        "\n",
        "def changeDepthK(root, k=0):\n",
        "    if root == None:\n",
        "        return \n",
        "    \n",
        "    root.data = k\n",
        "    \n",
        "        \n",
        "    changeDepthK(root.left, k+1)\n",
        "    changeDepthK(root.right, k+1)\n",
        "    return root\n",
        "    \n",
        "    \n",
        "def printInorder(root): \n",
        "  \n",
        "    if root: \n",
        "  \n",
        "        # First recur on left child \n",
        "        printInorder(root.left) \n",
        "  \n",
        "        # then print the data of node \n",
        "        print(root.data), \n",
        "  \n",
        "        # now recur on right child \n",
        "        printInorder(root.right) \n",
        "  \n",
        "\n",
        "root = treeInput()\n",
        "root = changeDepthK(root)\n",
        "printInorder(root)        "
      ],
      "execution_count": 0,
      "outputs": [
        {
          "output_type": "stream",
          "text": [
            "1\n",
            "2\n",
            "3\n",
            "-1\n",
            "-1\n",
            "5\n",
            "-1\n",
            "-1\n",
            "4\n",
            "-1\n",
            "-1\n",
            "2\n",
            "1\n",
            "2\n",
            "0\n",
            "1\n"
          ],
          "name": "stdout"
        }
      ]
    },
    {
      "cell_type": "markdown",
      "metadata": {
        "id": "opTy8eawrTrP",
        "colab_type": "text"
      },
      "source": [
        "# Is node present?"
      ]
    },
    {
      "cell_type": "code",
      "metadata": {
        "id": "S1eV5xZ9rTrQ",
        "colab_type": "code",
        "colab": {},
        "outputId": "6ffc5d12-f028-4b24-eaa7-a948d92578cd"
      },
      "source": [
        "#Given a Binary Tree and an integer x, check if node with data x is present in the input binary tree or not. Return true or false.\n",
        "\n",
        "def nodePresent(root, x):\n",
        "    \n",
        "    if root == None:\n",
        "        return False\n",
        "    if root.data == x:\n",
        "        a = True\n",
        "        #return True\n",
        "    else:\n",
        "        a = False\n",
        "        #return False\n",
        "    \n",
        "    left = nodePresent(root.left, x)\n",
        "    right = nodePresent(root.right, x)\n",
        "    return a or left or right\n",
        "root = treeInput()    \n",
        "print(nodePresent(root, 3))    "
      ],
      "execution_count": 0,
      "outputs": [
        {
          "output_type": "stream",
          "text": [
            "10\n",
            "9\n",
            "4\n",
            "-1\n",
            "-1\n",
            "5\n",
            "8\n",
            "-1\n",
            "6\n",
            "-1\n",
            "-1\n",
            "3\n",
            "-1\n",
            "-1\n",
            "-1\n",
            "True\n"
          ],
          "name": "stdout"
        }
      ]
    },
    {
      "cell_type": "markdown",
      "metadata": {
        "id": "E26_m31lrTrV",
        "colab_type": "text"
      },
      "source": [
        "# Nodes without sibling"
      ]
    },
    {
      "cell_type": "code",
      "metadata": {
        "id": "9_khACLMrTrW",
        "colab_type": "code",
        "colab": {},
        "outputId": "1fa368ac-63e9-4738-c252-81e2008b715a"
      },
      "source": [
        "#Given a binary tree, print all nodes that don’t have a sibling.\n",
        "#Edit : Print the elements in different lines. And order of elements doesn't matter.\n",
        "\n",
        "def noSiblings(root):\n",
        "    \n",
        "    if root == None:\n",
        "        return \n",
        "    if root.left == None and root.right == None:\n",
        "        print(root.data)\n",
        "    \n",
        "    noSiblings(root.left)\n",
        "    noSiblings(root.right)\n",
        "    \n",
        "root = treeInput() \n",
        "noSiblings(root)"
      ],
      "execution_count": 0,
      "outputs": [
        {
          "output_type": "stream",
          "text": [
            "2\n",
            "35\n",
            "2\n",
            "-1\n",
            "-1\n",
            "3\n",
            "-1\n",
            "-1\n",
            "10\n",
            "-1\n",
            "2\n",
            "-1\n",
            "-1\n",
            "2\n",
            "3\n",
            "2\n"
          ],
          "name": "stdout"
        }
      ]
    },
    {
      "cell_type": "markdown",
      "metadata": {
        "id": "cybv_g79rTre",
        "colab_type": "text"
      },
      "source": [
        "# Remove Leaf Nodes"
      ]
    },
    {
      "cell_type": "code",
      "metadata": {
        "id": "H-FETca5rTrf",
        "colab_type": "code",
        "colab": {},
        "outputId": "b11bae2f-4746-4342-b0d3-2bd31c631677"
      },
      "source": [
        "def removeLeaf(root):\n",
        "    if root == None:\n",
        "        return None\n",
        "    if root.left == None and root.right == None:\n",
        "        return None\n",
        "    \n",
        "    root.left = removeLeaf(root.left)\n",
        "    root.right = removeLeaf(root.right)\n",
        "    return root\n",
        "\n",
        "root = treeInput()\n",
        "printTree(root)\n",
        "print()\n",
        "root = removeLeaf(root)\n",
        "printTree(root)"
      ],
      "execution_count": 0,
      "outputs": [
        {
          "output_type": "stream",
          "text": [
            "1\n",
            "2\n",
            "4\n",
            "-1\n",
            "-1\n",
            "5\n",
            "8\n",
            "-1\n",
            "-1\n",
            "9\n",
            "-1\n",
            "-1\n",
            "2\n",
            "6\n",
            "-1\n",
            "-1\n",
            "7\n",
            "-1\n",
            "-1\n",
            "1 : L 2 , R 2\n",
            "2 : L 4 , R 5\n",
            "4 : \n",
            "5 : L 8 , R 9\n",
            "8 : \n",
            "9 : \n",
            "2 : L 6 , R 7\n",
            "6 : \n",
            "7 : \n",
            "\n",
            "1 : L 2 , R 2\n",
            "2 : R 5\n",
            "5 : \n",
            "2 : \n"
          ],
          "name": "stdout"
        }
      ]
    },
    {
      "cell_type": "markdown",
      "metadata": {
        "id": "pFp18eO7rTrn",
        "colab_type": "text"
      },
      "source": [
        "# Mirror Binary Tree"
      ]
    },
    {
      "cell_type": "code",
      "metadata": {
        "id": "Ll7Hp8v4rTro",
        "colab_type": "code",
        "colab": {},
        "outputId": "746ded12-e2e2-4cd2-a8b1-89c2e23081d7"
      },
      "source": [
        "#Mirror the given binary tree. That is, right child of every nodes should become left and left should become right.\n",
        "#Note : You don't need to print or return the tree, just mirror it.\n",
        "#Input format :\n",
        "#Line 1 : Elements in level order form (separated by space)\n",
        "#(If any node does not have left or right child, take -1 in its place\n",
        "#Output format : Elements in level order form (Every level in new line\n",
        "\n",
        "\n",
        "def mirror(root):\n",
        "\n",
        "    if root == None:\n",
        "        return \n",
        "    \n",
        "    if root.left == None and root.right == None:\n",
        "        return root\n",
        "    \n",
        "    root.left, root.right = root.right, root.left\n",
        "    mirror(root.left)\n",
        "    mirror(root.right)\n",
        "    \n",
        "    return root\n",
        "\n",
        "root = treeInput()\n",
        "printTree(root)\n",
        "root = mirror(root)\n",
        "printTree(root)\n"
      ],
      "execution_count": 0,
      "outputs": [
        {
          "output_type": "stream",
          "text": [
            "1\n",
            "2\n",
            "4\n",
            "-1\n",
            "-1\n",
            "5\n",
            "-1\n",
            "-1\n",
            "3\n",
            "6\n",
            "-1\n",
            "-1\n",
            "7\n",
            "-1\n",
            "-1\n",
            "1 : L 2 , R 3\n",
            "2 : L 4 , R 5\n",
            "4 : \n",
            "5 : \n",
            "3 : L 6 , R 7\n",
            "6 : \n",
            "7 : \n",
            "1 : L 3 , R 2\n",
            "3 : L 7 , R 6\n",
            "7 : \n",
            "6 : \n",
            "2 : L 5 , R 4\n",
            "5 : \n",
            "4 : \n"
          ],
          "name": "stdout"
        }
      ]
    },
    {
      "cell_type": "markdown",
      "metadata": {
        "id": "p4SiscwdrTrt",
        "colab_type": "text"
      },
      "source": [
        "# Check if a tree is balanced"
      ]
    },
    {
      "cell_type": "code",
      "metadata": {
        "id": "2i7zxDsgrTru",
        "colab_type": "code",
        "colab": {},
        "outputId": "cc9542bb-f5a8-40b0-e487-3601966399f8"
      },
      "source": [
        "def isBalanced(root):\n",
        "    if root ==  None:\n",
        "        return True\n",
        "    \n",
        "    lh = height(root.left)\n",
        "    rh = height(root.right)\n",
        "    \n",
        "    if lh-rh > 1 or rh-lh > 1:\n",
        "        return False\n",
        "    isLeftBalanced = isBalanced(root.left)\n",
        "    isRightBalanced = isBalanced(root.right)\n",
        "    if isLeftBalanced and isRightBalanced :\n",
        "        return True\n",
        "    else:\n",
        "        return False\n",
        "\n",
        "#to calculate height\n",
        "def height(root):\n",
        "    if root == None:\n",
        "        return 0\n",
        "    \n",
        "    leftHeight = height(root.left)\n",
        "    rightHeight = height(root.right)\n",
        "    \n",
        "    if leftHeight > rightHeight :\n",
        "        return leftHeight + 1\n",
        "    else:\n",
        "        return rightHeight + 1\n",
        "    \n",
        "root = treeInput()\n",
        "print(isBalanced(root))"
      ],
      "execution_count": 0,
      "outputs": [
        {
          "output_type": "stream",
          "text": [
            "1\n",
            "2\n",
            "4\n",
            "-1\n",
            "-1\n",
            "-1\n",
            "3\n",
            "-1\n",
            "-1\n",
            "True\n"
          ],
          "name": "stdout"
        }
      ]
    },
    {
      "cell_type": "markdown",
      "metadata": {
        "id": "DWnM_yc2rTry",
        "colab_type": "text"
      },
      "source": [
        "# Optimal solution for checking if a tree is Balanced or not"
      ]
    },
    {
      "cell_type": "code",
      "metadata": {
        "id": "LS-V3MSWrTrz",
        "colab_type": "code",
        "colab": {},
        "outputId": "76df2c5b-68ae-4700-82ee-caf4b14b7d4d"
      },
      "source": [
        "def isBalanced(root):\n",
        "    if root == None:\n",
        "        return 0 , True\n",
        "    lh, isLeftBalanced = isBalanced(root.left)\n",
        "    rh, isRightBalanced = isBalanced(root.right)\n",
        "    \n",
        "    h = 1 + max(lh, rh)\n",
        "    \n",
        "    if lh-rh > 1 or rh-lh > 1:\n",
        "        return h, False\n",
        "    \n",
        "    if isLeftBalanced and isRightBalanced :\n",
        "        return h, True\n",
        "    else:\n",
        "        return h, False\n",
        "    \n",
        "root = treeInput()\n",
        "print(isBalanced(root))"
      ],
      "execution_count": 0,
      "outputs": [
        {
          "output_type": "stream",
          "text": [
            "1\n",
            "2\n",
            "4\n",
            "-1\n",
            "-1\n",
            "-1\n",
            "3\n",
            "-1\n",
            "-1\n",
            "(3, True)\n"
          ],
          "name": "stdout"
        }
      ]
    },
    {
      "cell_type": "markdown",
      "metadata": {
        "id": "xcS3fmo0rTr4",
        "colab_type": "text"
      },
      "source": [
        "# Diameter Of Binary Tree"
      ]
    },
    {
      "cell_type": "code",
      "metadata": {
        "id": "8App5yV1rTr5",
        "colab_type": "code",
        "colab": {},
        "outputId": "5a5b16d4-c849-4732-8c3d-fd0b6ae95b8b"
      },
      "source": [
        "# Given a Binary Tree, find and return the diameter of input binary tree.\n",
        "#Diameter is - largest count of nodes between any two leaf nodes in the binary tree (both the leaf nodes are inclusive).\n",
        "\n",
        "\n",
        "\n",
        "def diameter(root):\n",
        "    if root == None:\n",
        "        return 0, 0\n",
        "    if root.left == None and root.right == None:\n",
        "        return 1, 0\n",
        "    if root.left != None:\n",
        "        lh, ld = diameter(root.left)\n",
        "    if root.right != None:\n",
        "        rh, rd = diameter(root.right)\n",
        "    \n",
        "    h = 1 + max(lh, rh)\n",
        "    \n",
        "    return h, max(lh+rh, max(ld, rd))\n",
        "\n",
        "root = treeInput()\n",
        "height, diameter = diameter(root)\n",
        "print(diameter)"
      ],
      "execution_count": 0,
      "outputs": [
        {
          "output_type": "stream",
          "text": [
            "1\n",
            "2\n",
            "-1\n",
            "-1\n",
            "3\n",
            "-1\n",
            "-1\n",
            "2\n"
          ],
          "name": "stdout"
        }
      ]
    },
    {
      "cell_type": "markdown",
      "metadata": {
        "id": "q2IRHyPyrTr9",
        "colab_type": "text"
      },
      "source": [
        "# LevelWise Input Binary Tree"
      ]
    },
    {
      "cell_type": "code",
      "metadata": {
        "id": "FxsLXRDMrTr-",
        "colab_type": "code",
        "colab": {},
        "outputId": "71bc80d9-f440-4a4a-c1e5-f200287fd5c7"
      },
      "source": [
        "import queue\n",
        "def levelWiseInputBinaryTree():\n",
        "    q = queue.Queue()\n",
        "    print(\"Enter the root \")\n",
        "    rootData = int(input())\n",
        "    if rootData == -1:\n",
        "        return None\n",
        "    root = binaryTreeNode(rootData)\n",
        "    \n",
        "    q.put(root)\n",
        "    \n",
        "    while (not (q.empty())) :\n",
        "        current_node = q.get()\n",
        "        print(\"Enter the left chid of \",current_node.data)\n",
        "        leftChildData = int(input())\n",
        "        if leftChildData != -1:\n",
        "            leftChild = binaryTreeNode(leftChildData)\n",
        "            current_node.left = leftChild\n",
        "            q.put(leftChild)\n",
        "            \n",
        "        print(\"Enter the right chid of \",current_node.data)\n",
        "        rightChildData = int(input())\n",
        "        if rightChildData != -1:\n",
        "            rightChild = binaryTreeNode(rightChildData)\n",
        "            current_node.right = rightChild\n",
        "            q.put(rightChild)\n",
        "            \n",
        "        \n",
        "    return root\n",
        "\n",
        "root = levelWiseInputBinaryTree()\n",
        "printTree(root)        "
      ],
      "execution_count": 0,
      "outputs": [
        {
          "output_type": "stream",
          "text": [
            "Enter the root \n",
            "1\n",
            "Enter the left chid of  1\n",
            "2\n",
            "Enter the right chid of  1\n",
            "3\n",
            "Enter the left chid of  2\n",
            "-1\n",
            "Enter the right chid of  2\n",
            "-1\n",
            "Enter the left chid of  3\n",
            "-1\n",
            "Enter the right chid of  3\n",
            "-1\n",
            "1 : L 2 , R 3\n",
            "2 : \n",
            "3 : \n"
          ],
          "name": "stdout"
        }
      ]
    },
    {
      "cell_type": "markdown",
      "metadata": {
        "id": "QWGK4Mc3rTsC",
        "colab_type": "text"
      },
      "source": [
        "# Print LevelWise Binary Tree"
      ]
    },
    {
      "cell_type": "code",
      "metadata": {
        "id": "c1yO5eGzrTsD",
        "colab_type": "code",
        "colab": {},
        "outputId": "eda2754e-5d89-4d67-fb13-1fe72b7097f0"
      },
      "source": [
        "import queue\n",
        "def printLevelWiseBinaryTree(root):\n",
        "    q = queue.Queue()\n",
        "    \n",
        "    if root != None:\n",
        "        q.put(root)\n",
        "        \n",
        "    while (not q.empty()):\n",
        "        a = q.get()\n",
        "        print(a.data ,end= \" \")\n",
        "        \n",
        "        if a.left != None:\n",
        "            q.put(a.left)\n",
        "        if a.right != None:\n",
        "            q.put(a.right)\n",
        "            \n",
        "root = levelWiseInputBinaryTree()\n",
        "printLevelWiseBinaryTree(root)"
      ],
      "execution_count": 0,
      "outputs": [
        {
          "output_type": "stream",
          "text": [
            "Enter the root \n",
            "1\n",
            "Enter the left chid of  1\n",
            "2\n",
            "Enter the right chid of  1\n",
            "3\n",
            "Enter the left chid of  2\n",
            "4\n",
            "Enter the right chid of  2\n",
            "5\n",
            "Enter the left chid of  3\n",
            "6\n",
            "Enter the right chid of  3\n",
            "7\n",
            "Enter the left chid of  4\n",
            "-1\n",
            "Enter the right chid of  4\n",
            "-1\n",
            "Enter the left chid of  5\n",
            "8\n",
            "Enter the right chid of  5\n",
            "-1\n",
            "Enter the left chid of  6\n",
            "-1\n",
            "Enter the right chid of  6\n",
            "-1\n",
            "Enter the left chid of  7\n",
            "-1\n",
            "Enter the right chid of  7\n",
            "-1\n",
            "Enter the left chid of  8\n",
            "-1\n",
            "Enter the right chid of  8\n",
            "-1\n",
            "1 2 3 4 5 6 7 8 "
          ],
          "name": "stdout"
        }
      ]
    },
    {
      "cell_type": "markdown",
      "metadata": {
        "id": "vTERCT19rTsH",
        "colab_type": "text"
      },
      "source": [
        "# Construct Tree Using Inorder and Preorder"
      ]
    },
    {
      "cell_type": "code",
      "metadata": {
        "id": "sCGSJMHRrTsI",
        "colab_type": "code",
        "colab": {},
        "outputId": "81373d9c-f8b2-4020-ec65-f87b9e958ac7"
      },
      "source": [
        "#Given Preorder and Inorder traversal of a binary tree, create the binary tree associated with the traversals.You just need to construct the tree and return the root.\n",
        "#Note: Assume binary tree contains only unique elements.\n",
        "#Input format :\n",
        "#Line 1 : n (Total number of nodes in binary tree)\n",
        "#Line 2 : Pre order traversal\n",
        "#Line 3 : Inorder Traversal\n",
        "\n",
        "def buildTreeFromPreIn(pre, inorder):\n",
        "    \n",
        "    if len(pre) == 0:\n",
        "        return None\n",
        "    rootData = pre[0]\n",
        "    root = binaryTreeNode(rootData)\n",
        "    \n",
        "    rootIndexInInorder = -1\n",
        "    for i in range(0, len(inorder)):\n",
        "        if inorder[i] == rootData:\n",
        "            rootIndexInInorder = i\n",
        "            break\n",
        "            \n",
        "    if rootIndexInInorder == -1:\n",
        "        return None\n",
        "    \n",
        "    leftInorder = inorder[0: rootIndexInInorder]\n",
        "    rightInorder = inorder[rootIndexInInorder+1 : ]\n",
        "    \n",
        "    lenLeftSubtree = len(leftInorder)\n",
        "    \n",
        "    leftPreorder = pre[1: lenLeftSubtree+1]\n",
        "    rightPreorder = pre[lenLeftSubtree+1 : ]\n",
        "    \n",
        "    leftChild = buildTreeFromPreIn(leftPreorder, leftInorder)\n",
        "    rightChild = buildTreeFromPreIn(rightPreorder, rightInorder)\n",
        "    \n",
        "    root.left = leftChild\n",
        "    root.right = rightChild\n",
        "    \n",
        "    return root\n",
        "\n",
        "pre = [1, 2, 3, 4, 15, 5, 6, 7, 8, 10, 9, 12]\n",
        "inorder = [4, 15, 3, 2, 5, 1, 6, 10, 8, 7, 9, 12]\n",
        "root = buildTreeFromPreIn(pre, inorder)\n",
        "#printTree(root)\n",
        "printLevelWiseBinaryTree(root)"
      ],
      "execution_count": 0,
      "outputs": [
        {
          "output_type": "stream",
          "text": [
            "1 2 6 3 5 7 4 8 9 15 10 12 "
          ],
          "name": "stdout"
        }
      ]
    },
    {
      "cell_type": "markdown",
      "metadata": {
        "id": "-ELo0yMjrTsM",
        "colab_type": "text"
      },
      "source": [
        "# Construct Tree Using Inorder and PostOrder"
      ]
    },
    {
      "cell_type": "code",
      "metadata": {
        "id": "xtc5xVHQrTsM",
        "colab_type": "code",
        "colab": {},
        "outputId": "adfddd6c-9c39-4e3e-8701-5b95eafb4654"
      },
      "source": [
        "#Given Postorder and Inorder traversal of a binary tree, create the binary tree associated with the traversals.You just need to construct the tree and return the root.\n",
        "\n",
        "def TreeFromPostIn(inorder, post):\n",
        "    \n",
        "    if len(post) == 0:\n",
        "        return None\n",
        "    rootData = post[-1]\n",
        "    root = binaryTreeNode(rootData)\n",
        "    \n",
        "    rootIndexInInorder = -1\n",
        "    for i in range(0, len(inorder)):\n",
        "        if inorder[i] == rootData:\n",
        "            rootIndexInInorder = i\n",
        "            break\n",
        "            \n",
        "    if rootIndexInInorder == -1:\n",
        "        return None\n",
        "    \n",
        "    leftInorder = inorder[0: rootIndexInInorder]\n",
        "    rightInorder = inorder[rootIndexInInorder+1 : ]\n",
        "    \n",
        "    lenLeftSubtree = len(leftInorder)\n",
        "    \n",
        "    leftPostorder = post[0: lenLeftSubtree]\n",
        "    rightPostorder = post[lenLeftSubtree: len(post)-1]\n",
        "    \n",
        "    leftChild = TreeFromPostIn(leftInorder, leftPostorder)\n",
        "    rightChild = TreeFromPostIn(rightInorder, rightPostorder)\n",
        "    \n",
        "    root.left = leftChild\n",
        "    root.right = rightChild\n",
        "    \n",
        "    return root\n",
        "\n",
        "postorder = [8, 4, 5, 2, 6, 7, 3, 1]\n",
        "inorder = [4, 8, 2, 5, 1, 6, 3, 7]\n",
        "root = TreeFromPostIn(inorder, postorder)\n",
        "printLevelWiseBinaryTree(root)"
      ],
      "execution_count": 0,
      "outputs": [
        {
          "output_type": "stream",
          "text": [
            "1 2 3 4 5 6 7 8 "
          ],
          "name": "stdout"
        }
      ]
    },
    {
      "cell_type": "markdown",
      "metadata": {
        "id": "hYfqqI6wrTsQ",
        "colab_type": "text"
      },
      "source": [
        "# Create & Insert Duplicate Node"
      ]
    },
    {
      "cell_type": "code",
      "metadata": {
        "id": "mpigqJ9_rTsR",
        "colab_type": "code",
        "colab": {},
        "outputId": "d151ae96-9839-49c6-e947-7e4ab5de9b81"
      },
      "source": [
        "#Given a Binary Tree with N number of nodes, for each node create a new duplicate node, and insert that duplicate as left child of the original node.\n",
        "\n",
        "\n",
        "def duplicate(root):\n",
        "    \n",
        "    if root == None:\n",
        "        return None\n",
        "    \n",
        "    if root.left != None:\n",
        "        left = root.left\n",
        "        duplicate_node = binaryTreeNode(root.data)\n",
        "        root.left = duplicate_node\n",
        "        duplicate_node.left = left\n",
        "    \n",
        "    leftChild = duplicate(root.left)\n",
        "    rightChild = duplicate(root.right)\n",
        "    \n",
        "    root.left = leftChild\n",
        "    root.right = rightChild\n",
        "    \n",
        "    \n",
        "    return root\n",
        "\n",
        "root = levelWiseInputBinaryTree()\n",
        "printLevelWiseBinaryTree(root)\n",
        "root = duplicate(root)\n",
        "printLevelWiseBinaryTree(root)"
      ],
      "execution_count": 0,
      "outputs": [
        {
          "output_type": "stream",
          "text": [
            "Enter the root \n",
            "8\n",
            "Enter the left chid of  8\n",
            "5\n",
            "Enter the right chid of  8\n",
            "10\n",
            "Enter the left chid of  5\n",
            "2\n",
            "Enter the right chid of  5\n",
            "6\n",
            "Enter the left chid of  10\n",
            "-1\n",
            "Enter the right chid of  10\n",
            "-1\n",
            "Enter the left chid of  2\n",
            "-1\n",
            "Enter the right chid of  2\n",
            "-1\n",
            "Enter the left chid of  6\n",
            "-1\n",
            "Enter the right chid of  6\n",
            "17\n",
            "Enter the left chid of  17\n",
            "-1\n",
            "Enter the right chid of  17\n",
            "-1\n",
            "8 5 10 2 6 17 "
          ],
          "name": "stdout"
        },
        {
          "output_type": "error",
          "ename": "RecursionError",
          "evalue": "maximum recursion depth exceeded",
          "traceback": [
            "\u001b[1;31m---------------------------------------------------------------------------\u001b[0m",
            "\u001b[1;31mRecursionError\u001b[0m                            Traceback (most recent call last)",
            "\u001b[1;32m<ipython-input-22-f7c8073c928b>\u001b[0m in \u001b[0;36m<module>\u001b[1;34m\u001b[0m\n\u001b[0;32m     24\u001b[0m \u001b[0mroot\u001b[0m \u001b[1;33m=\u001b[0m \u001b[0mlevelWiseInputBinaryTree\u001b[0m\u001b[1;33m(\u001b[0m\u001b[1;33m)\u001b[0m\u001b[1;33m\u001b[0m\u001b[1;33m\u001b[0m\u001b[0m\n\u001b[0;32m     25\u001b[0m \u001b[0mprintLevelWiseBinaryTree\u001b[0m\u001b[1;33m(\u001b[0m\u001b[0mroot\u001b[0m\u001b[1;33m)\u001b[0m\u001b[1;33m\u001b[0m\u001b[1;33m\u001b[0m\u001b[0m\n\u001b[1;32m---> 26\u001b[1;33m \u001b[0mroot\u001b[0m \u001b[1;33m=\u001b[0m \u001b[0mduplicate\u001b[0m\u001b[1;33m(\u001b[0m\u001b[0mroot\u001b[0m\u001b[1;33m)\u001b[0m\u001b[1;33m\u001b[0m\u001b[1;33m\u001b[0m\u001b[0m\n\u001b[0m\u001b[0;32m     27\u001b[0m \u001b[0mprintLevelWiseBinaryTree\u001b[0m\u001b[1;33m(\u001b[0m\u001b[0mroot\u001b[0m\u001b[1;33m)\u001b[0m\u001b[1;33m\u001b[0m\u001b[1;33m\u001b[0m\u001b[0m\n",
            "\u001b[1;32m<ipython-input-22-f7c8073c928b>\u001b[0m in \u001b[0;36mduplicate\u001b[1;34m(root)\u001b[0m\n\u001b[0;32m     13\u001b[0m         \u001b[0mduplicate_node\u001b[0m\u001b[1;33m.\u001b[0m\u001b[0mleft\u001b[0m \u001b[1;33m=\u001b[0m \u001b[0mleft\u001b[0m\u001b[1;33m\u001b[0m\u001b[1;33m\u001b[0m\u001b[0m\n\u001b[0;32m     14\u001b[0m \u001b[1;33m\u001b[0m\u001b[0m\n\u001b[1;32m---> 15\u001b[1;33m     \u001b[0mleftChild\u001b[0m \u001b[1;33m=\u001b[0m \u001b[0mduplicate\u001b[0m\u001b[1;33m(\u001b[0m\u001b[0mroot\u001b[0m\u001b[1;33m.\u001b[0m\u001b[0mleft\u001b[0m\u001b[1;33m)\u001b[0m\u001b[1;33m\u001b[0m\u001b[1;33m\u001b[0m\u001b[0m\n\u001b[0m\u001b[0;32m     16\u001b[0m     \u001b[0mrightChild\u001b[0m \u001b[1;33m=\u001b[0m \u001b[0mduplicate\u001b[0m\u001b[1;33m(\u001b[0m\u001b[0mroot\u001b[0m\u001b[1;33m.\u001b[0m\u001b[0mright\u001b[0m\u001b[1;33m)\u001b[0m\u001b[1;33m\u001b[0m\u001b[1;33m\u001b[0m\u001b[0m\n\u001b[0;32m     17\u001b[0m \u001b[1;33m\u001b[0m\u001b[0m\n",
            "... last 1 frames repeated, from the frame below ...\n",
            "\u001b[1;32m<ipython-input-22-f7c8073c928b>\u001b[0m in \u001b[0;36mduplicate\u001b[1;34m(root)\u001b[0m\n\u001b[0;32m     13\u001b[0m         \u001b[0mduplicate_node\u001b[0m\u001b[1;33m.\u001b[0m\u001b[0mleft\u001b[0m \u001b[1;33m=\u001b[0m \u001b[0mleft\u001b[0m\u001b[1;33m\u001b[0m\u001b[1;33m\u001b[0m\u001b[0m\n\u001b[0;32m     14\u001b[0m \u001b[1;33m\u001b[0m\u001b[0m\n\u001b[1;32m---> 15\u001b[1;33m     \u001b[0mleftChild\u001b[0m \u001b[1;33m=\u001b[0m \u001b[0mduplicate\u001b[0m\u001b[1;33m(\u001b[0m\u001b[0mroot\u001b[0m\u001b[1;33m.\u001b[0m\u001b[0mleft\u001b[0m\u001b[1;33m)\u001b[0m\u001b[1;33m\u001b[0m\u001b[1;33m\u001b[0m\u001b[0m\n\u001b[0m\u001b[0;32m     16\u001b[0m     \u001b[0mrightChild\u001b[0m \u001b[1;33m=\u001b[0m \u001b[0mduplicate\u001b[0m\u001b[1;33m(\u001b[0m\u001b[0mroot\u001b[0m\u001b[1;33m.\u001b[0m\u001b[0mright\u001b[0m\u001b[1;33m)\u001b[0m\u001b[1;33m\u001b[0m\u001b[1;33m\u001b[0m\u001b[0m\n\u001b[0;32m     17\u001b[0m \u001b[1;33m\u001b[0m\u001b[0m\n",
            "\u001b[1;31mRecursionError\u001b[0m: maximum recursion depth exceeded"
          ]
        }
      ]
    },
    {
      "cell_type": "markdown",
      "metadata": {
        "id": "Op2-bGZfrTsV",
        "colab_type": "text"
      },
      "source": [
        "# Min and max"
      ]
    },
    {
      "cell_type": "code",
      "metadata": {
        "id": "N-Q7kZOnrTsW",
        "colab_type": "code",
        "colab": {},
        "outputId": "ae12e622-73c6-427c-a18c-3beef11aa3f1"
      },
      "source": [
        "# Given a binary tree, find and return the min and max data value of given binary tree\n",
        "\n",
        "def minMax(root):\n",
        "    \n",
        "    if root == None:\n",
        "        return 2147483648, -1\n",
        "    #if root.left == None and root.right == None:\n",
        "        #return root.data, root.data\n",
        "    \n",
        "    \n",
        "    leftMin, leftMax = minMax(root.left)\n",
        "    rightMin, rightMax = minMax(root.right)\n",
        "    \n",
        "    return min(leftMin, rightMin, root.data), max(leftMax, rightMax, root.data)\n",
        "\n",
        "root = levelWiseInputBinaryTree()\n",
        "minimum, maximum = minMax(root)\n",
        "print(minimum ,end=\" \")\n",
        "print(maximum )"
      ],
      "execution_count": 0,
      "outputs": [
        {
          "output_type": "stream",
          "text": [
            "Enter the root \n",
            "8\n",
            "Enter the left chid of  8\n",
            "3\n",
            "Enter the right chid of  8\n",
            "10\n",
            "Enter the left chid of  3\n",
            "1\n",
            "Enter the right chid of  3\n",
            "6\n",
            "Enter the left chid of  10\n",
            "-1\n",
            "Enter the right chid of  10\n",
            "14\n",
            "Enter the left chid of  1\n",
            "-1\n",
            "Enter the right chid of  1\n",
            "-1\n",
            "Enter the left chid of  6\n",
            "4\n",
            "Enter the right chid of  6\n",
            "7\n",
            "Enter the left chid of  14\n",
            "13\n",
            "Enter the right chid of  14\n",
            "-1\n",
            "Enter the left chid of  4\n",
            "-1\n",
            "Enter the right chid of  4\n",
            "-1\n",
            "Enter the left chid of  7\n",
            "-1\n",
            "Enter the right chid of  7\n",
            "-1\n",
            "Enter the left chid of  13\n",
            "-1\n",
            "Enter the right chid of  13\n",
            "-1\n",
            "1 14\n"
          ],
          "name": "stdout"
        }
      ]
    },
    {
      "cell_type": "markdown",
      "metadata": {
        "id": "gsACGHPqrTsc",
        "colab_type": "text"
      },
      "source": [
        "# Level order traversal"
      ]
    },
    {
      "cell_type": "code",
      "metadata": {
        "id": "kkhOTcVMrTsd",
        "colab_type": "code",
        "colab": {},
        "outputId": "29a8026b-f97b-4483-bfe5-d433b4d7e575"
      },
      "source": [
        "#Given a binary tree, print the level order traversal. Make sure each level start in new line.\n",
        "\n",
        "import queue\n",
        "def printLevelOrder(root):\n",
        "    \n",
        "    q = queue.Queue()\n",
        "    if root != None:\n",
        "        q.put(root)\n",
        "        q.put(\"null\")\n",
        "        \n",
        "    while (not q.empty()):\n",
        "        current = q.get()\n",
        "        if current != \"null\":\n",
        "            print(current.data, end= \" \")\n",
        "        else:\n",
        "            if (not q.empty()):\n",
        "                print( )\n",
        "                q.put(\"null\")\n",
        "        if current != \"null\":    \n",
        "            if current.left != None:\n",
        "                q.put(current.left)\n",
        "\n",
        "            if current.right != None:\n",
        "                q.put(current.right)\n",
        "                \n",
        "root = levelWiseInputBinaryTree()\n",
        "printLevelOrder(root)               "
      ],
      "execution_count": 0,
      "outputs": [
        {
          "output_type": "stream",
          "text": [
            "Enter the root \n",
            "5\n",
            "Enter the left chid of  5\n",
            "6\n",
            "Enter the right chid of  5\n",
            "10\n",
            "Enter the left chid of  6\n",
            "2\n",
            "Enter the right chid of  6\n",
            "3\n",
            "Enter the left chid of  10\n",
            "-1\n",
            "Enter the right chid of  10\n",
            "-1\n",
            "Enter the left chid of  2\n",
            "-1\n",
            "Enter the right chid of  2\n",
            "-1\n",
            "Enter the left chid of  3\n",
            "-1\n",
            "Enter the right chid of  3\n",
            "9\n",
            "Enter the left chid of  9\n",
            "-1\n",
            "Enter the right chid of  9\n",
            "-1\n",
            "5 \n",
            "6 10 \n",
            "2 3 \n",
            "9 "
          ],
          "name": "stdout"
        }
      ]
    },
    {
      "cell_type": "markdown",
      "metadata": {
        "id": "HLtISoPDrTsh",
        "colab_type": "text"
      },
      "source": [
        "# Path Sum Root to Leaf"
      ]
    },
    {
      "cell_type": "code",
      "metadata": {
        "id": "LJJ-I-LHrTsi",
        "colab_type": "code",
        "colab": {},
        "outputId": "b0908311-7943-47e8-e7aa-c592dfd2bdcf"
      },
      "source": [
        "#Given a binary tree and a number k, print out all root to leaf paths where the sum of all nodes value is same as the given number k.\n",
        "\n",
        "def sumRootToLeaf(root,s,path):\n",
        "    \n",
        "    if root == None:\n",
        "        print(\"No path\")\n",
        "    s = s - root.data\n",
        "    path = path + str(root.data) +\" \"\n",
        "    \n",
        "    if s == 0 and root.left == None and root.right == None:\n",
        "        print(path)\n",
        "        \n",
        "    if root.left != None:\n",
        "        sumRootToLeaf(root.left, s, path)\n",
        "    if root.right != None:\n",
        "        sumRootToLeaf(root.right, s, path)\n",
        "    \n",
        "        \n",
        "root = levelWiseInputBinaryTree()\n",
        "k=13\n",
        "path = \"\"\n",
        "sumRootToLeaf(root,k,path)"
      ],
      "execution_count": 0,
      "outputs": [
        {
          "output_type": "stream",
          "text": [
            "Enter the root \n",
            "5\n",
            "Enter the left chid of  5\n",
            "6\n",
            "Enter the right chid of  5\n",
            "7\n",
            "Enter the left chid of  6\n",
            "2\n",
            "Enter the right chid of  6\n",
            "3\n",
            "Enter the left chid of  7\n",
            "-1\n",
            "Enter the right chid of  7\n",
            "1\n",
            "Enter the left chid of  2\n",
            "-1\n",
            "Enter the right chid of  2\n",
            "-1\n",
            "Enter the left chid of  3\n",
            "-1\n",
            "Enter the right chid of  3\n",
            "9\n",
            "Enter the left chid of  1\n",
            "-1\n",
            "Enter the right chid of  1\n",
            "-1\n",
            "Enter the left chid of  9\n",
            "-1\n",
            "Enter the right chid of  9\n",
            "-1\n",
            "5 6 2 \n",
            "5 7 1 \n"
          ],
          "name": "stdout"
        }
      ]
    },
    {
      "cell_type": "markdown",
      "metadata": {
        "id": "rtehJCv7rTsl",
        "colab_type": "text"
      },
      "source": [
        "# Print nodes at distance k from node"
      ]
    },
    {
      "cell_type": "code",
      "metadata": {
        "id": "zKR2JfLXrTsm",
        "colab_type": "code",
        "colab": {},
        "outputId": "cc6e83a4-1743-494a-9257-5e42b3c4baa5"
      },
      "source": [
        "#Given a binary tree, a node and an integer K, print nodes which are at K distance from the the given node.\n",
        "\n",
        "def printNodes(root, k, value):\n",
        "    \n",
        "    if root == None:\n",
        "        return -1\n",
        "    \n",
        "    if root.data == value:\n",
        "        printDepthK(root, k)\n",
        "        return  0\n",
        "    \n",
        "    ld = printNodes(root.left, k, value)\n",
        "    if ld != -1:\n",
        "        if ld+1 == k:\n",
        "            print(root.data)\n",
        "        else:    \n",
        "            printDepthK(root.right, k-ld-2)    \n",
        "        return ld+1\n",
        "    \n",
        "    rd = printNodes(root.right, k, value)\n",
        "    if rd != -1:\n",
        "        if rd+1 == k:\n",
        "            print(root.data)\n",
        "        else:\n",
        "            printDepthK(root.left, k-rd-2)  \n",
        "        return rd+1\n",
        "        \n",
        "    return -1   \n",
        "        \n",
        "def printDepthK(root, k, d=0):\n",
        "    if root == None:\n",
        "        return \n",
        "    if k == d:\n",
        "        print(root.data)\n",
        "        return \n",
        "    printDepthK(root.left, k, d+1)\n",
        "    printDepthK(root.right, k, d+1)\n",
        "\n",
        "root = levelWiseInputBinaryTree()\n",
        "value = 3\n",
        "k = 1\n",
        "printNodes(root, k, value)"
      ],
      "execution_count": 0,
      "outputs": [
        {
          "output_type": "stream",
          "text": [
            "Enter the root \n",
            "5\n",
            "Enter the left chid of  5\n",
            "6\n",
            "Enter the right chid of  5\n",
            "10\n",
            "Enter the left chid of  6\n",
            "2\n",
            "Enter the right chid of  6\n",
            "3\n",
            "Enter the left chid of  10\n",
            "-1\n",
            "Enter the right chid of  10\n",
            "-1\n",
            "Enter the left chid of  2\n",
            "-1\n",
            "Enter the right chid of  2\n",
            "-1\n",
            "Enter the left chid of  3\n",
            "-1\n",
            "Enter the right chid of  3\n",
            "9\n",
            "Enter the left chid of  9\n",
            "-1\n",
            "Enter the right chid of  9\n",
            "-1\n",
            "9\n",
            "6\n"
          ],
          "name": "stdout"
        },
        {
          "output_type": "execute_result",
          "data": {
            "text/plain": [
              "2"
            ]
          },
          "metadata": {
            "tags": []
          },
          "execution_count": 45
        }
      ]
    },
    {
      "cell_type": "code",
      "metadata": {
        "id": "eqd3tKbIrTsr",
        "colab_type": "code",
        "colab": {}
      },
      "source": [
        ""
      ],
      "execution_count": 0,
      "outputs": []
    },
    {
      "cell_type": "code",
      "metadata": {
        "id": "sQeHa8zQrTsy",
        "colab_type": "code",
        "colab": {}
      },
      "source": [
        ""
      ],
      "execution_count": 0,
      "outputs": []
    },
    {
      "cell_type": "code",
      "metadata": {
        "id": "G9eHSVFerTs5",
        "colab_type": "code",
        "colab": {}
      },
      "source": [
        ""
      ],
      "execution_count": 0,
      "outputs": []
    }
  ]
}