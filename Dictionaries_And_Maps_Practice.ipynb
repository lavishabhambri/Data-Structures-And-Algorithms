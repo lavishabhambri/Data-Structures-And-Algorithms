{
  "nbformat": 4,
  "nbformat_minor": 0,
  "metadata": {
    "kernelspec": {
      "display_name": "Python 3",
      "language": "python",
      "name": "python3"
    },
    "language_info": {
      "codemirror_mode": {
        "name": "ipython",
        "version": 3
      },
      "file_extension": ".py",
      "mimetype": "text/x-python",
      "name": "python",
      "nbconvert_exporter": "python",
      "pygments_lexer": "ipython3",
      "version": "3.7.6"
    },
    "colab": {
      "name": "Dictionaries And Maps_Practice.ipynb",
      "provenance": [],
      "include_colab_link": true
    }
  },
  "cells": [
    {
      "cell_type": "markdown",
      "metadata": {
        "id": "view-in-github",
        "colab_type": "text"
      },
      "source": [
        "<a href=\"https://colab.research.google.com/github/lavishabhambri/Data-Structures-and-Algorithms/blob/master/Dictionaries_And_Maps_Practice.ipynb\" target=\"_parent\"><img src=\"https://colab.research.google.com/assets/colab-badge.svg\" alt=\"Open In Colab\"/></a>"
      ]
    },
    {
      "cell_type": "markdown",
      "metadata": {
        "id": "OkvUyoLBsGpj",
        "colab_type": "text"
      },
      "source": [
        "# Dictionary Introduction"
      ]
    },
    {
      "cell_type": "code",
      "metadata": {
        "id": "En7Y12otsGpl",
        "colab_type": "code",
        "colab": {}
      },
      "source": [
        "#Ways for creating dictionary\n",
        "\n",
        "a = {1:2,\n",
        "    4:3,\n",
        "    \"list\":[1,2,3]}\n",
        "\n",
        "#copy method\n",
        "b = a.copy()\n",
        "\n",
        "c = dict([(1, 'Geeks'), (2, 'For')]) \n",
        "\n",
        "d = dict.fromkeys(['the','a',10])"
      ],
      "execution_count": 0,
      "outputs": []
    },
    {
      "cell_type": "markdown",
      "metadata": {
        "id": "FtPobEhQsGps",
        "colab_type": "text"
      },
      "source": [
        "# Access/ Looping elements in dictionary"
      ]
    },
    {
      "cell_type": "code",
      "metadata": {
        "id": "gB8lLocjsGpt",
        "colab_type": "code",
        "colab": {},
        "outputId": "cb963162-0946-4524-9d1e-ec1baf2bfcc7"
      },
      "source": [
        "#to access keys and values\n",
        "a[1] = 2\n",
        "\n",
        "#get method\n",
        "a.get(1)"
      ],
      "execution_count": 0,
      "outputs": [
        {
          "output_type": "execute_result",
          "data": {
            "text/plain": [
              "2"
            ]
          },
          "metadata": {
            "tags": []
          },
          "execution_count": 3
        }
      ]
    },
    {
      "cell_type": "code",
      "metadata": {
        "id": "pVcn1E29sGp2",
        "colab_type": "code",
        "colab": {},
        "outputId": "251b8dbe-8567-49e6-fcfa-cd58f9380653"
      },
      "source": [
        "#to access all keys\n",
        "a.keys()"
      ],
      "execution_count": 0,
      "outputs": [
        {
          "output_type": "execute_result",
          "data": {
            "text/plain": [
              "dict_keys([1, 4, 'list'])"
            ]
          },
          "metadata": {
            "tags": []
          },
          "execution_count": 4
        }
      ]
    },
    {
      "cell_type": "code",
      "metadata": {
        "id": "sAjqIK00sGp8",
        "colab_type": "code",
        "colab": {},
        "outputId": "537c761c-8be5-4375-91eb-1a27e24b2fd1"
      },
      "source": [
        "#to access all values\n",
        "a.values()"
      ],
      "execution_count": 0,
      "outputs": [
        {
          "output_type": "execute_result",
          "data": {
            "text/plain": [
              "dict_values([2, 3, [1, 2, 3]])"
            ]
          },
          "metadata": {
            "tags": []
          },
          "execution_count": 5
        }
      ]
    },
    {
      "cell_type": "code",
      "metadata": {
        "id": "CUuP1hZFsGqC",
        "colab_type": "code",
        "colab": {},
        "outputId": "905fc06a-6cdb-49af-ffde-2c8bbf0a323f"
      },
      "source": [
        "#to access all keys and valus\n",
        "a.items()"
      ],
      "execution_count": 0,
      "outputs": [
        {
          "output_type": "execute_result",
          "data": {
            "text/plain": [
              "dict_items([(1, 2), (4, 3), ('list', [1, 2, 3])])"
            ]
          },
          "metadata": {
            "tags": []
          },
          "execution_count": 6
        }
      ]
    },
    {
      "cell_type": "code",
      "metadata": {
        "id": "l2-ZsCp9sGqH",
        "colab_type": "code",
        "colab": {},
        "outputId": "ab74155e-9cb0-40a9-c487-50a58afda1a2"
      },
      "source": [
        "#using for loop in dictionary\n",
        "for i in a:\n",
        "    print(i, a[i])"
      ],
      "execution_count": 0,
      "outputs": [
        {
          "output_type": "stream",
          "text": [
            "1 2\n",
            "4 3\n",
            "list [1, 2, 3]\n"
          ],
          "name": "stdout"
        }
      ]
    },
    {
      "cell_type": "code",
      "metadata": {
        "id": "GqS6bAAysGqM",
        "colab_type": "code",
        "colab": {},
        "outputId": "5e254ff6-4ef6-4cb6-fd8d-6d34ac9b048c"
      },
      "source": [
        "#to check whether a key exists in a dictionary\n",
        "print(\"list\" in a)\n",
        "print(\"li\" in a)"
      ],
      "execution_count": 0,
      "outputs": [
        {
          "output_type": "stream",
          "text": [
            "True\n",
            "False\n"
          ],
          "name": "stdout"
        }
      ]
    },
    {
      "cell_type": "code",
      "metadata": {
        "id": "l2q-xtlksGqT",
        "colab_type": "code",
        "colab": {},
        "outputId": "fd84badc-10ab-4b29-b749-f6418c4bf100"
      },
      "source": [
        "#Adding or Removing Data in dictionary\n",
        "a[\"tuple\"] = (1,2,4)\n",
        "a"
      ],
      "execution_count": 0,
      "outputs": [
        {
          "output_type": "execute_result",
          "data": {
            "text/plain": [
              "{1: 2, 4: 3, 'list': [1, 2, 3], 'tuple': (1, 2, 4)}"
            ]
          },
          "metadata": {
            "tags": []
          },
          "execution_count": 12
        }
      ]
    },
    {
      "cell_type": "code",
      "metadata": {
        "id": "SmkRWM42sGqX",
        "colab_type": "code",
        "colab": {},
        "outputId": "3d5a915f-eaf9-46de-eb17-6ab6a5c5e8e4"
      },
      "source": [
        "#to update data\n",
        "a[1] = 7\n",
        "a"
      ],
      "execution_count": 0,
      "outputs": [
        {
          "output_type": "execute_result",
          "data": {
            "text/plain": [
              "{1: 7, 4: 3, 'list': [1, 2, 3], 'tuple': (1, 2, 4)}"
            ]
          },
          "metadata": {
            "tags": []
          },
          "execution_count": 14
        }
      ]
    },
    {
      "cell_type": "code",
      "metadata": {
        "id": "EN4q9gDtsGqd",
        "colab_type": "code",
        "colab": {},
        "outputId": "e6a79a4f-e4db-4d53-c923-1e89a947e9a1"
      },
      "source": [
        "#update function\n",
        "b = {3:5, 'the' : \"hello\"}\n",
        "a.update(b)\n",
        "a"
      ],
      "execution_count": 0,
      "outputs": [
        {
          "output_type": "execute_result",
          "data": {
            "text/plain": [
              "{1: 7, 4: 3, 'list': [1, 2, 3], 'tuple': (1, 2, 4), 3: 5, 'the': 'hello'}"
            ]
          },
          "metadata": {
            "tags": []
          },
          "execution_count": 16
        }
      ]
    },
    {
      "cell_type": "code",
      "metadata": {
        "id": "ZLd2QPf7sGqh",
        "colab_type": "code",
        "colab": {},
        "outputId": "a55f8f59-82fb-40af-9d3c-6ecacd1713f1"
      },
      "source": [
        "#to remove data\n",
        "a.pop(1)"
      ],
      "execution_count": 0,
      "outputs": [
        {
          "output_type": "execute_result",
          "data": {
            "text/plain": [
              "7"
            ]
          },
          "metadata": {
            "tags": []
          },
          "execution_count": 17
        }
      ]
    },
    {
      "cell_type": "code",
      "metadata": {
        "id": "nLsrNe4ssGqm",
        "colab_type": "code",
        "colab": {},
        "outputId": "0f191615-8917-4cbc-e68f-db12be9b4754"
      },
      "source": [
        "del a['tuple']\n",
        "a"
      ],
      "execution_count": 0,
      "outputs": [
        {
          "output_type": "execute_result",
          "data": {
            "text/plain": [
              "{4: 3, 3: 5, 'the': 'hello'}"
            ]
          },
          "metadata": {
            "tags": []
          },
          "execution_count": 22
        }
      ]
    },
    {
      "cell_type": "code",
      "metadata": {
        "id": "az1JZhrvsGqr",
        "colab_type": "code",
        "colab": {},
        "outputId": "1657041d-e078-472e-8569-31482f647f3e"
      },
      "source": [
        "#to clear whole dictionary into an empty dictionary\n",
        "a.clear()\n",
        "a"
      ],
      "execution_count": 0,
      "outputs": [
        {
          "output_type": "execute_result",
          "data": {
            "text/plain": [
              "{}"
            ]
          },
          "metadata": {
            "tags": []
          },
          "execution_count": 24
        }
      ]
    },
    {
      "cell_type": "code",
      "metadata": {
        "id": "Wu4KO_KjsGqv",
        "colab_type": "code",
        "colab": {}
      },
      "source": [
        "#to delete the whole dictionary\n",
        "del a"
      ],
      "execution_count": 0,
      "outputs": []
    },
    {
      "cell_type": "markdown",
      "metadata": {
        "id": "9fKGJQhcsGq0",
        "colab_type": "text"
      },
      "source": [
        "# Print all words with k frequency in a string"
      ]
    },
    {
      "cell_type": "code",
      "metadata": {
        "id": "jyaGLXKCsGq1",
        "colab_type": "code",
        "colab": {},
        "outputId": "721b1299-a7d4-4b24-f24d-0124ec921b40"
      },
      "source": [
        "#Given a string containing different words, you have to print all those words having frequency k where k is an integer.\n",
        "\n",
        "def kFrequency(string, k):\n",
        "    \n",
        "    words = string.split()  #split function returns a list.\n",
        "    d = {}\n",
        "    for w in words:\n",
        "        if w in d:\n",
        "            d[w] = d[w] + 1\n",
        "        else:\n",
        "            d[w] = 1\n",
        "            \n",
        "    for w in d:\n",
        "        if d[w] == k:\n",
        "            print(w)\n",
        "    \n",
        "            \n",
        "string = \"This is a string containing many many words connected with words\"\n",
        "k = 2\n",
        "kFrequency(string, k)"
      ],
      "execution_count": 0,
      "outputs": [
        {
          "output_type": "stream",
          "text": [
            "many\n",
            "words\n"
          ],
          "name": "stdout"
        }
      ]
    },
    {
      "cell_type": "markdown",
      "metadata": {
        "id": "wpAZhckPsGq5",
        "colab_type": "text"
      },
      "source": [
        "# Optimised solution to print all words with k frequency in a string"
      ]
    },
    {
      "cell_type": "code",
      "metadata": {
        "id": "SOsCbWPZsGq6",
        "colab_type": "code",
        "colab": {},
        "outputId": "04085e37-9fe2-4b91-dbbe-ca1ce790debd"
      },
      "source": [
        "def kFrequencyOptimised(string, k):\n",
        "    \n",
        "    words = string.split()  #split function returns a list.\n",
        "    s = {}\n",
        "    for w in words:\n",
        "            s[w] = s.get(w, 0) + 1\n",
        "        \n",
        "    for w in s:\n",
        "        if s[w] == k:\n",
        "            print(w)\n",
        "    \n",
        "            \n",
        "string = \"This is a string containing many many words connected with words\"\n",
        "k = 2\n",
        "kFrequencyOptimised(string, k)"
      ],
      "execution_count": 0,
      "outputs": [
        {
          "output_type": "stream",
          "text": [
            "many\n",
            "words\n"
          ],
          "name": "stdout"
        }
      ]
    },
    {
      "cell_type": "markdown",
      "metadata": {
        "id": "55ccwUpEsGq-",
        "colab_type": "text"
      },
      "source": [
        "# Maximum Frequency"
      ]
    },
    {
      "cell_type": "code",
      "metadata": {
        "id": "EeVAAT8wsGq_",
        "colab_type": "code",
        "colab": {},
        "outputId": "fe859b29-6f4c-4a7a-f863-c3ea64c54a63"
      },
      "source": [
        "#You are given an array of integers that contain numbers in random order. Write a program to find and return the number which occurs the maximum times in the given input.\n",
        "#If two or more elements contend for the maximum frequency, return the element which occurs in the array first.\n",
        "\n",
        "def maxFrequency(array):\n",
        "    d = {}\n",
        "    for i in array:\n",
        "        d[i] = d.get(i, 0) + 1\n",
        "    \n",
        "    max_freq = 0\n",
        "    element = 0\n",
        "    for i in d:\n",
        "        if d[i] > max_freq:\n",
        "            max_freq = d[i]\n",
        "            element = i\n",
        "            \n",
        "    return element\n",
        "\n",
        "array1 = [2, 12, 2, 11, 12, 2, 1, 2, 2, 11, 12, 2, 6 ]\n",
        "array2 = [1,4,5]\n",
        "print(maxFrequency(array1))\n",
        "print(maxFrequency(array2))"
      ],
      "execution_count": 0,
      "outputs": [
        {
          "output_type": "stream",
          "text": [
            "2\n",
            "1\n"
          ],
          "name": "stdout"
        }
      ]
    },
    {
      "cell_type": "markdown",
      "metadata": {
        "id": "ZAmX5E-XsGrH",
        "colab_type": "text"
      },
      "source": [
        "# Pair Sum To 0"
      ]
    },
    {
      "cell_type": "code",
      "metadata": {
        "id": "Zk04WR5DsGrI",
        "colab_type": "code",
        "colab": {},
        "outputId": "ce9a73cd-b8f0-4dd6-d548-7a0cb8305abc"
      },
      "source": [
        "#Given a random integer array A of size N. Find and print the pair of elements in the array which sum to 0.\n",
        "#Array A can contain duplicate elements.\n",
        "#While printing a pair, print the smaller element first.\n",
        "#That is, if a valid pair is (6, -6) print \"-6 6\". There is no constraint that out of 5 pairs which have to be printed in 1st line. You can print pairs in any order, just be careful about the order of elements in a pair.\n",
        "\n",
        "def pairSum(array):\n",
        "    i = 0\n",
        "    j = 0\n",
        "    for i in range(len(array)):\n",
        "        for j in range(i, len(array)):\n",
        "            if array[i] + array[j] == 0:\n",
        "                if array[i] > array[j]:\n",
        "                    print(array[j], array[i])\n",
        "                else:\n",
        "                    print(array[i], array[j])\n",
        "                    \n",
        "array = [2,1,-2,2,3]\n",
        "pairSum(array)"
      ],
      "execution_count": 0,
      "outputs": [
        {
          "output_type": "stream",
          "text": [
            "-2 2\n",
            "-2 2\n"
          ],
          "name": "stdout"
        }
      ]
    },
    {
      "cell_type": "markdown",
      "metadata": {
        "id": "zC1etU41sGrN",
        "colab_type": "text"
      },
      "source": [
        "# How to Insert, Search, Remove elements in MAPS?"
      ]
    },
    {
      "cell_type": "code",
      "metadata": {
        "id": "hAs1UrJFsGrO",
        "colab_type": "code",
        "colab": {},
        "outputId": "282d3735-5589-4813-ee31-387492ae8c2b"
      },
      "source": [
        "class MapNode:\n",
        "    \n",
        "    def __init__(self, key, value):\n",
        "        self.key =  key\n",
        "        self.value = value\n",
        "        self.next = None\n",
        "        \n",
        "class Map:\n",
        "    \n",
        "    def __init__(self):\n",
        "        self.bucketSize = 10\n",
        "        self.buckets = [None for i in range(self.bucketSize)]\n",
        "        self.count = 0\n",
        "        \n",
        "    def size(self):\n",
        "        return self.count\n",
        "    \n",
        "    #compression function\n",
        "    def getBucketIndex (self, hc):\n",
        "        return (abs(hc) % self.bucketSize)\n",
        "    \n",
        "    #insert function\n",
        "    def insert(self, key, value):\n",
        "        hc = hash(key)\n",
        "        index = self.getBucketIndex(hc)\n",
        "        \n",
        "        head = self.buckets[index]\n",
        "        while head is not None:\n",
        "            if head.key == key:\n",
        "                head.value = value\n",
        "                return\n",
        "            else:\n",
        "                head = head.next\n",
        "        head = self.buckets[index]\n",
        "        newNode =MapNode(key, value)\n",
        "        newNode.next = head\n",
        "        self.buckets[index] = newNode\n",
        "        self.count += 1\n",
        "        \n",
        "    #search function\n",
        "    def getValue(self, key):\n",
        "        hc = hash(key)\n",
        "        index = self.getBucketIndex(hc)\n",
        "        \n",
        "        head = self.buckets[index]\n",
        "        while head is not None:\n",
        "            if head.key == key:\n",
        "                return head.value\n",
        "            else:\n",
        "                head = head.next\n",
        "        return None\n",
        "    \n",
        "    #remove function\n",
        "    def remove(self, key):\n",
        "        hc = hash(key)\n",
        "        index = self.getBucketIndex(hc)\n",
        "        \n",
        "        head = self.buckets[index]\n",
        "        prev = None\n",
        "        while head is not None:\n",
        "            if head.key == key:\n",
        "                if prev is None:\n",
        "                    self.buckets[index] = head.next\n",
        "                else:\n",
        "                    prev.next = head.next\n",
        "                self.count -= 1    \n",
        "                return head.value\n",
        "            prev = head\n",
        "            head = head.next\n",
        "        return None\n",
        "        \n",
        "        \n",
        "m = Map()\n",
        "m.insert('Ram', 1)\n",
        "print(m.size())\n",
        "m.insert('Shyam', 2)\n",
        "print(m.size())\n",
        "m.insert('Anuj', 3)\n",
        "print(m.size())\n",
        "print(m.getValue('Anuj'))\n",
        "print(m.getValue('Ajay'))\n",
        "print(m.remove('Ram'))\n",
        "print(m.size())\n"
      ],
      "execution_count": 0,
      "outputs": [
        {
          "output_type": "stream",
          "text": [
            "1\n",
            "2\n",
            "3\n",
            "3\n",
            "None\n",
            "1\n",
            "2\n"
          ],
          "name": "stdout"
        }
      ]
    },
    {
      "cell_type": "markdown",
      "metadata": {
        "id": "L9CsBRkTsGrU",
        "colab_type": "text"
      },
      "source": [
        "# Rehashing"
      ]
    },
    {
      "cell_type": "code",
      "metadata": {
        "id": "7Xo9Wv5ksGrV",
        "colab_type": "code",
        "colab": {},
        "outputId": "51afe03a-4f61-4834-f7e9-4c58a8e05d3a"
      },
      "source": [
        "class MapNode:\n",
        "    \n",
        "    def __init__(self, key, value):\n",
        "        self.key = key\n",
        "        self.value = value\n",
        "        self.next = None\n",
        "        \n",
        "class Map:\n",
        "    \n",
        "    def __init__(self):\n",
        "        self.bucketSize = 5\n",
        "        self.buckets = [None for i in range(self.bucketSize)]\n",
        "        self.count = 0\n",
        "        \n",
        "    def size(self):\n",
        "        return self.count\n",
        "    \n",
        "    #compression function\n",
        "    def getBucketIndex (self, hc):\n",
        "        return (abs(hc) % self.bucketSize)\n",
        "    \n",
        "    #insert function\n",
        "    def insert(self, key, value):\n",
        "        hc = hash(key)\n",
        "        index = self.getBucketIndex(hc)\n",
        "        \n",
        "        head = self.buckets[index]\n",
        "        while head is not None:\n",
        "            if head.key == key:\n",
        "                head.value = value\n",
        "                return \n",
        "            head = head.next\n",
        "        head = self.buckets[index]\n",
        "        newNode = MapNode(key, value)\n",
        "        newNode.next = head\n",
        "        self.buckets[index] = newNode\n",
        "        self.count += 1\n",
        "        \n",
        "        loadFactor = self.count / self.bucketSize\n",
        "        if loadFactor >= 0.7:\n",
        "            self.rehash()\n",
        "            \n",
        "    #rehash function\n",
        "    def rehash(self):\n",
        "        temp = self.buckets\n",
        "        self.buckets = [None for i in range(2 * self.bucketSize)]\n",
        "        self.bucketSize = 2*self.bucketSize\n",
        "        self.count = 0\n",
        "        \n",
        "        for head in temp:\n",
        "            while head is not None:\n",
        "                self.insert(head.key, head.value)\n",
        "                head = head.next\n",
        "                \n",
        "    #to print loadFactors \n",
        "    def printLoadFactors(self):\n",
        "        return self.count / self.bucketSize\n",
        "    \n",
        "    #search function\n",
        "    def getValue(self, key):\n",
        "        hc = hash(key)\n",
        "        index = self.getBucketIndex(hc)\n",
        "        \n",
        "        head = self.buckets[index]\n",
        "        while head is not None:\n",
        "            if head.key == key:\n",
        "                return head.value\n",
        "            head = head.next\n",
        "        return None\n",
        "    \n",
        "    #remove function\n",
        "    def remove(self, key):\n",
        "        hc = hash(key)\n",
        "        index = self.getBucketIndex(hc)\n",
        "        \n",
        "        head = self.buckets[index]\n",
        "        prev = None\n",
        "        while head is not None:\n",
        "            if head.key == key:\n",
        "                if prev is None:\n",
        "                    self.buckets[index] = head.next\n",
        "                else:\n",
        "                    prev.next = head.next\n",
        "                self.count -= 1\n",
        "                return head.value\n",
        "            prev = head\n",
        "            head = head.next\n",
        "        return None\n",
        "\n",
        "m = Map()\n",
        "for i in range(10):\n",
        "    m.insert('ab'+str(i), i+1)\n",
        "    print(m.printLoadFactors())\n",
        "    \n",
        "print(\"----------------\")      \n",
        "\n",
        "for i in range(10):\n",
        "    print(m.getValue('ab'+str(i)))"
      ],
      "execution_count": 0,
      "outputs": [
        {
          "output_type": "stream",
          "text": [
            "0.2\n",
            "0.4\n",
            "0.6\n",
            "0.4\n",
            "0.5\n",
            "0.6\n",
            "0.35\n",
            "0.4\n",
            "0.45\n",
            "0.5\n",
            "----------------\n",
            "1\n",
            "2\n",
            "3\n",
            "4\n",
            "5\n",
            "6\n",
            "7\n",
            "8\n",
            "9\n",
            "10\n"
          ],
          "name": "stdout"
        }
      ]
    },
    {
      "cell_type": "markdown",
      "metadata": {
        "id": "1RIpglRqsGra",
        "colab_type": "text"
      },
      "source": [
        "# Extract Unique characters"
      ]
    },
    {
      "cell_type": "code",
      "metadata": {
        "id": "E0zTJRC7sGrb",
        "colab_type": "code",
        "colab": {},
        "outputId": "6a26f252-a760-4233-8fab-4305e3155e00"
      },
      "source": [
        "#Given a string, you need to remove all the duplicates. That means, the output string should contain each character only once. The respective order of characters should remain same.\n",
        "\n",
        "\n",
        "def unique(string):\n",
        "    \n",
        "    s = {}\n",
        "    output = \" \"\n",
        "    for w in string:\n",
        "        s[w] = s.get(w, 0) + 1\n",
        "        \n",
        "    for w in s:\n",
        "        if s[w] >= 1:\n",
        "            output = output + str(w)\n",
        "            \n",
        "    return output\n",
        "string = input(\"Enter the string\")\n",
        "print(unique(string))\n",
        "\n",
        "\n",
        "            "
      ],
      "execution_count": 0,
      "outputs": [
        {
          "output_type": "stream",
          "text": [
            "Enter the stringabcde\n",
            " abcde\n"
          ],
          "name": "stdout"
        }
      ]
    },
    {
      "cell_type": "markdown",
      "metadata": {
        "id": "ZyA9pAjlsGrh",
        "colab_type": "text"
      },
      "source": [
        "# Longest consecutive Sequence"
      ]
    },
    {
      "cell_type": "code",
      "metadata": {
        "id": "GIALPZJIsGri",
        "colab_type": "code",
        "colab": {},
        "outputId": "df6b90b3-e400-4fd0-afcb-2882e4b21fba"
      },
      "source": [
        "#You are given with an array of integers that contain numbers in random order. Write a program to find the longest possible sequence of consecutive numbers using the numbers from given array.\n",
        "#You need to return the output array which contains consecutive elements. Order of elements in the output is not important.\n",
        "#Best solution takes O(n) time.\n",
        "#If two sequences are of equal length then return the sequence starting with the number whose occurrence is earlier in the array\n",
        "\n",
        "def sequence(array):\n",
        "\n",
        "    d= {}\n",
        "    d = dict.fromkeys(array)\n",
        "    ans = 0\n",
        "    start = 0\n",
        "    for i in range(len(array)):\n",
        "        if array[i] in d:\n",
        "            j = array[i]                         #ERROR\n",
        "            \n",
        "            while j in d:\n",
        "                j = j+1\n",
        "             \n",
        "            ans = max(ans, j- array[i])\n",
        "            \n",
        "    return ans, start\n",
        "                \n",
        "                \n",
        "array = [9,1,8,6,3,4,2,7,10,15]\n",
        "#array =[7, 2, 1, 9, 8, 5]\n",
        "length , start= sequence(array)\n",
        "for i in range(length):\n",
        "    print(i + start)"
      ],
      "execution_count": 0,
      "outputs": [
        {
          "output_type": "stream",
          "text": [
            "15\n",
            "16\n",
            "17\n",
            "18\n",
            "19\n"
          ],
          "name": "stdout"
        }
      ]
    },
    {
      "cell_type": "markdown",
      "metadata": {
        "id": "FPZLbw2ysGrn",
        "colab_type": "text"
      },
      "source": [
        "# Pairs with difference K"
      ]
    },
    {
      "cell_type": "code",
      "metadata": {
        "id": "ppibnOmNsGro",
        "colab_type": "code",
        "colab": {},
        "outputId": "8662dbcb-0a11-4f8c-b805-2cafa8ac12db"
      },
      "source": [
        "#You are given with an array of integers and an integer K. Write a program to find and print all pairs which have difference K.\n",
        "#Take difference as absolute.\n",
        "\n",
        "def kPairDifference(array, k):\n",
        "    \n",
        "    for i in range(len(array)):\n",
        "        for j in range(i+1, len(array)):\n",
        "            if abs(array[i] - array[j]) == k:\n",
        "                if array[i] < array[j]:\n",
        "                    print(array[i], array[j])\n",
        "                else:\n",
        "                    print(array[j], array[i])\n",
        "                \n",
        "array = [5, 1, 2, 4]\n",
        "k = 3\n",
        "kPairDifference(array,k)"
      ],
      "execution_count": 0,
      "outputs": [
        {
          "output_type": "stream",
          "text": [
            "2 5\n",
            "1 4\n"
          ],
          "name": "stdout"
        }
      ]
    },
    {
      "cell_type": "markdown",
      "metadata": {
        "id": "rMahtgFNsGrw",
        "colab_type": "text"
      },
      "source": [
        "# Pairs with difference k -OPTIMAL SOLUTION"
      ]
    },
    {
      "cell_type": "code",
      "metadata": {
        "id": "YZiZkbggsGry",
        "colab_type": "code",
        "colab": {},
        "outputId": "e1ae4d63-406c-4c0b-c309-ba4a5e810638"
      },
      "source": [
        "class MapNode:\n",
        "    \n",
        "    def __init__(self, key, value):\n",
        "        self.key =  key\n",
        "        self.value = value\n",
        "        self.next = None\n",
        "        \n",
        "class Map:\n",
        "    \n",
        "    def __init__(self):\n",
        "        self.bucketSize = 10\n",
        "        self.buckets = [None for i in range(self.bucketSize)]\n",
        "        self.count = 0\n",
        "        \n",
        "    def size(self):\n",
        "        return self.count\n",
        "    \n",
        "    #compression function\n",
        "    def getBucketIndex (self, hc):\n",
        "        return (abs(hc) % self.bucketSize)\n",
        "    \n",
        "    #insert function\n",
        "    def insert(self, key, value):\n",
        "        hc = hash(key)\n",
        "        index = self.getBucketIndex(hc)\n",
        "        \n",
        "        head = self.buckets[index]\n",
        "        while head is not None:\n",
        "            if head.key == key:\n",
        "                head.value = value\n",
        "                return\n",
        "            else:\n",
        "                head = head.next\n",
        "        head = self.buckets[index]\n",
        "        newNode =MapNode(key, value)\n",
        "        newNode.next = head\n",
        "        self.buckets[index] = newNode\n",
        "        self.count += 1\n",
        "        \n",
        "    #search function\n",
        "    def getValue(self, key):\n",
        "        hc = hash(key)\n",
        "        index = self.getBucketIndex(hc)\n",
        "        \n",
        "        head = self.buckets[index]\n",
        "        while head is not None:\n",
        "            if head.key == key:\n",
        "                return head.value\n",
        "            else:\n",
        "                head = head.next\n",
        "        return None\n",
        "    \n",
        "    #remove function\n",
        "    def remove(self, key):\n",
        "        hc = hash(key)\n",
        "        index = self.getBucketIndex(hc)\n",
        "        \n",
        "        head = self.buckets[index]\n",
        "        prev = None\n",
        "        while head is not None:\n",
        "            if head.key == key:\n",
        "                if prev is None:\n",
        "                    self.buckets[index] = head.next\n",
        "                else:\n",
        "                    prev.next = head.next\n",
        "                self.count -= 1    \n",
        "                return head.value\n",
        "            prev = head\n",
        "            head = head.next\n",
        "        return None\n",
        "        \n",
        "\n",
        "def kPair(array, k):\n",
        "    \n",
        "    d = Frequency(array)\n",
        "    for i in d:\n",
        "        if k==0:\n",
        "            if d[i] <= 1:\n",
        "                return 0\n",
        "        if i+k in array:\n",
        "            for j in range(d[i] * d[i+k]):\n",
        "                print(i, i+k)\n",
        "            \n",
        "        \n",
        "        if i-k in array:\n",
        "            for j in range(d[i] * d[i-k]):\n",
        "                print(i-k, i)\n",
        "        d[i] = 0\n",
        "    \n",
        "def Frequency(array):\n",
        "    d = {}\n",
        "    for i in array:\n",
        "        d[i] = d.get(i, 0) + 1\n",
        "    return d\n",
        "\n",
        "array = [5, 8,1, 2, 4]\n",
        "#Frequency(array)\n",
        "\n",
        "kPair(array, 3)"
      ],
      "execution_count": 0,
      "outputs": [
        {
          "output_type": "stream",
          "text": [
            "5 8\n",
            "2 5\n",
            "1 4\n"
          ],
          "name": "stdout"
        }
      ]
    },
    {
      "cell_type": "markdown",
      "metadata": {
        "id": "Akln30EesGr4",
        "colab_type": "text"
      },
      "source": [
        "# Longest subset zero sum"
      ]
    },
    {
      "cell_type": "code",
      "metadata": {
        "id": "ClQBwLJHsGr5",
        "colab_type": "code",
        "colab": {},
        "outputId": "66895d24-09bf-4e57-e9c7-bd1eb940e54b"
      },
      "source": [
        "#Given an array consisting of positive and negative integers, find the length of the longest subarray whose sum is zero.\n",
        "#NOTE: You have to return the length of longest subarray .\n",
        "\n",
        "\n",
        "def zeroSum(array):\n",
        "    \n",
        "    d = {}\n",
        "    \n",
        "    curr_sum = 0\n",
        "    max_sum = 0\n",
        "    max_length = 0\n",
        "    length = 0\n",
        "    for i in range(len(array)):\n",
        "        curr_sum = curr_sum + array[i]\n",
        "        if curr_sum not in d:\n",
        "            d[curr_sum] = i\n",
        "        else:\n",
        "            max_length = max(i - d[curr_sum], max_length)\n",
        "        \n",
        "    return max_length\n",
        "\n",
        "#array = [6,3,-1,2,-4,2,1,-2,20]\n",
        "array =[95, -97, -387, -435, -5, -70, 897, 127, 23, 284]\n",
        "zeroSum(array)"
      ],
      "execution_count": 0,
      "outputs": [
        {
          "output_type": "execute_result",
          "data": {
            "text/plain": [
              "5"
            ]
          },
          "metadata": {
            "tags": []
          },
          "execution_count": 146
        }
      ]
    },
    {
      "cell_type": "code",
      "metadata": {
        "id": "68ma-zinsGr9",
        "colab_type": "code",
        "colab": {}
      },
      "source": [
        ""
      ],
      "execution_count": 0,
      "outputs": []
    },
    {
      "cell_type": "code",
      "metadata": {
        "id": "7aSt6CRDsGsB",
        "colab_type": "code",
        "colab": {}
      },
      "source": [
        ""
      ],
      "execution_count": 0,
      "outputs": []
    },
    {
      "cell_type": "code",
      "metadata": {
        "id": "OjkD199AsGsF",
        "colab_type": "code",
        "colab": {}
      },
      "source": [
        ""
      ],
      "execution_count": 0,
      "outputs": []
    },
    {
      "cell_type": "code",
      "metadata": {
        "id": "3fHq5JNGsGsL",
        "colab_type": "code",
        "colab": {}
      },
      "source": [
        ""
      ],
      "execution_count": 0,
      "outputs": []
    }
  ]
}