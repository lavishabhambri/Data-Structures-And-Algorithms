{
  "nbformat": 4,
  "nbformat_minor": 0,
  "metadata": {
    "kernelspec": {
      "display_name": "Python 3",
      "language": "python",
      "name": "python3"
    },
    "language_info": {
      "codemirror_mode": {
        "name": "ipython",
        "version": 3
      },
      "file_extension": ".py",
      "mimetype": "text/x-python",
      "name": "python",
      "nbconvert_exporter": "python",
      "pygments_lexer": "ipython3",
      "version": "3.7.6"
    },
    "colab": {
      "name": "Functions.ipynb",
      "provenance": [],
      "include_colab_link": true
    }
  },
  "cells": [
    {
      "cell_type": "markdown",
      "metadata": {
        "id": "view-in-github",
        "colab_type": "text"
      },
      "source": [
        "<a href=\"https://colab.research.google.com/github/lavishabhambri/Data-Structures-and-Algorithms/blob/master/Functions.ipynb\" target=\"_parent\"><img src=\"https://colab.research.google.com/assets/colab-badge.svg\" alt=\"Open In Colab\"/></a>"
      ]
    },
    {
      "cell_type": "markdown",
      "metadata": {
        "id": "628Fbbb-Ghwx",
        "colab_type": "text"
      },
      "source": [
        "# FUNCTIONS"
      ]
    },
    {
      "cell_type": "code",
      "metadata": {
        "id": "yGSZ1DFXGhwz",
        "colab_type": "code",
        "colab": {},
        "outputId": "ea079057-c485-4eb0-eb9b-9e07fa0c6b3e"
      },
      "source": [
        "#To return true or false if a number is present in fibonacci series\n",
        "def fib(n):\n",
        "    a=0\n",
        "    b=1\n",
        "    c=0\n",
        "    for i in range(1,n+1):\n",
        "        if a==n :\n",
        "            return True\n",
        "        c=b+a\n",
        "        a=b\n",
        "        b=c\n",
        "    pass\n",
        "        \n",
        "        \n",
        "l= int(input())\n",
        "if(fib(l)):\n",
        "    print(\"true\")\n",
        "else:\n",
        "    print(\"false\")"
      ],
      "execution_count": 0,
      "outputs": [
        {
          "output_type": "stream",
          "text": [
            "1\n",
            "false\n"
          ],
          "name": "stdout"
        }
      ]
    },
    {
      "cell_type": "code",
      "metadata": {
        "id": "mXODSFdLGhw9",
        "colab_type": "code",
        "colab": {},
        "outputId": "a66817fd-4a96-414a-cb47-b99aa25076c8"
      },
      "source": [
        "#to check whether a number is palindrome or not\n",
        "def palindrome(n):\n",
        "    a=n\n",
        "    rev=0\n",
        "    while(n>0):\n",
        "        rem= n%10;\n",
        "        rev= rev*10 +rem\n",
        "        n=n//10\n",
        "        \n",
        "    if(a== rev):\n",
        "        return True\n",
        "    else:\n",
        "        return False\n",
        "    \n",
        "k = int(input())\n",
        "if(palindrome(k)):\n",
        "    print(\"True\")\n",
        "else:\n",
        "    print(\"False\")\n",
        "\n",
        "        \n",
        "        \n",
        "        "
      ],
      "execution_count": 0,
      "outputs": [
        {
          "output_type": "stream",
          "text": [
            "121\n",
            "True\n"
          ],
          "name": "stdout"
        }
      ]
    },
    {
      "cell_type": "code",
      "metadata": {
        "id": "4yd_c_LnGhxD",
        "colab_type": "code",
        "colab": {},
        "outputId": "70db35f0-4821-493d-87b9-f060fd844522"
      },
      "source": [
        "#To swap every pair of alternate elements in an array\n",
        "n= int(input())\n",
        "arr=[]\n",
        "for i in range(n):\n",
        "    arr.append(int(input(\"enter elements of array\")))\n",
        "    \n",
        "for i in range(n):\n",
        "    if(i%2==0):\n",
        "        arr[i],arr[i+1] = arr[i+1],arr[i]\n",
        "        \n",
        "print(arr)\n",
        "        \n",
        "    "
      ],
      "execution_count": 0,
      "outputs": [
        {
          "output_type": "stream",
          "text": [
            "4\n",
            "enter elements of array1\n",
            "enter elements of array2\n",
            "enter elements of array3\n",
            "enter elements of array4\n",
            "[2, 1, 4, 3]\n"
          ],
          "name": "stdout"
        }
      ]
    },
    {
      "cell_type": "code",
      "metadata": {
        "id": "KlYy7mdEGhxJ",
        "colab_type": "code",
        "colab": {},
        "outputId": "ff10403e-0d9d-4cb7-979c-37d720efed8f"
      },
      "source": [
        "#Find Duplicate- to find the repeated number in an array\n",
        "n= int(input())\n",
        "arr=[]\n",
        "for i in range(n):\n",
        "    arr.append(int(input(\"enter elements of array\")))\n",
        "\n",
        "    \n",
        "for i in range(n):\n",
        "    m=0\n",
        "    for j in range(n):\n",
        "        if(i==j):\n",
        "            continue\n",
        "        if(arr[i]==arr[j]):\n",
        "            m=m+1\n",
        "            break\n",
        "    if (m==1):\n",
        "        duplicate = arr[i]\n",
        "print(duplicate)\n",
        "        "
      ],
      "execution_count": 0,
      "outputs": [
        {
          "output_type": "stream",
          "text": [
            "5\n",
            "enter elements of array1\n",
            "enter elements of array2\n",
            "enter elements of array3\n",
            "enter elements of array4\n",
            "enter elements of array1\n",
            "1\n"
          ],
          "name": "stdout"
        }
      ]
    },
    {
      "cell_type": "code",
      "metadata": {
        "id": "IXmPGE3QGhxP",
        "colab_type": "code",
        "colab": {},
        "outputId": "0ea85878-22a6-4a23-d97b-786a95fcfc4c"
      },
      "source": [
        "#Find Unique- to find the non-repeated number in an array\n",
        "n= int(input())\n",
        "arr=[]\n",
        "for i in range(2*n+1):\n",
        "    arr.append(int(input(\"enter elements of array\")))\n",
        "    \n",
        "for i in range(2*n+1):\n",
        "    m=0\n",
        "    for j in range(2*n+1):\n",
        "        if(i==j):\n",
        "            continue\n",
        "        if(arr[i]==arr[j]):\n",
        "            m=m+1\n",
        "            break\n",
        "    if m==0:\n",
        "        unique=arr[i]\n",
        "print(unique)\n",
        "        \n",
        "        "
      ],
      "execution_count": 0,
      "outputs": [
        {
          "output_type": "stream",
          "text": [
            "3\n",
            "enter elements of array1\n",
            "enter elements of array2\n",
            "enter elements of array3\n",
            "enter elements of array4\n",
            "enter elements of array1\n",
            "enter elements of array2\n",
            "enter elements of array3\n",
            "4\n"
          ],
          "name": "stdout"
        }
      ]
    },
    {
      "cell_type": "code",
      "metadata": {
        "id": "-oAlQMgRGhxX",
        "colab_type": "code",
        "colab": {},
        "outputId": "598ad0c3-2d91-4624-a5e1-900cbb216c89"
      },
      "source": [
        "#Array intersection- to find the common elements between two arrays of different length\n",
        "n= int(input())\n",
        "arr1=[]\n",
        "for i in range(n):\n",
        "    arr1.append(int(input(\"enter elements of array1 : \")))\n",
        "    \n",
        "m= int(input())\n",
        "arr2=[]\n",
        "for i in range(m):\n",
        "    arr2.append(int(input(\"enter elements of array2 : \")))\n",
        "    \n",
        "for i in range(m):\n",
        "    for j in range(n):\n",
        "        if(arr2[i]==arr1[j]):\n",
        "            print(arr2[i])\n",
        "            arr1[j]=-100000\n",
        "            break\n",
        "            "
      ],
      "execution_count": 0,
      "outputs": [
        {
          "output_type": "stream",
          "text": [
            "6\n",
            "enter elements of array1 : 2\n",
            "enter elements of array1 : 6\n",
            "enter elements of array1 : 8\n",
            "enter elements of array1 : 5\n",
            "enter elements of array1 : 4\n",
            "enter elements of array1 : 3\n",
            "4\n",
            "enter elements of array2 : 2\n",
            "enter elements of array2 : 3\n",
            "enter elements of array2 : 4\n",
            "enter elements of array2 : 7\n",
            "2\n",
            "3\n",
            "4\n"
          ],
          "name": "stdout"
        }
      ]
    },
    {
      "cell_type": "code",
      "metadata": {
        "id": "gLqlaHRaGhxf",
        "colab_type": "code",
        "colab": {},
        "outputId": "8536e802-e758-4551-a846-2da98c7faf55"
      },
      "source": [
        "#Pair Sum - to print those pair of elements in the array which sum to X(a random integer)\n",
        "#and in the pai print the numbers in the increasing order i.e (5,6)\n",
        "\n",
        "n= int(input(\"Enter the length of array\"))\n",
        "arr=[]\n",
        "for i in range(n):\n",
        "    arr.append(int(input(\"enter elements of array : \")))\n",
        "    \n",
        "X=int(input(\"Enter the sum\"))\n",
        "\n",
        "for i in range(n):\n",
        "    for k in range(i+1,n):\n",
        "        if(arr[i]+arr[k] == X):\n",
        "            if(arr[i]>=arr[k]):\n",
        "                print(arr[k],\" \",arr[i])\n",
        "            else:\n",
        "                print(arr[i],\" \",arr[k])\n",
        "\n",
        "        \n",
        "    \n",
        "    \n"
      ],
      "execution_count": 0,
      "outputs": [
        {
          "output_type": "stream",
          "text": [
            "Enter the length of array9\n",
            "enter elements of array : 1\n",
            "enter elements of array : 3\n",
            "enter elements of array : 6\n",
            "enter elements of array : 2\n",
            "enter elements of array : 5\n",
            "enter elements of array : 4\n",
            "enter elements of array : 3\n",
            "enter elements of array : 2\n",
            "enter elements of array : 4\n",
            "Enter the sum7\n",
            "1   6\n",
            "3   4\n",
            "3   4\n",
            "2   5\n",
            "2   5\n",
            "3   4\n",
            "3   4\n"
          ],
          "name": "stdout"
        }
      ]
    },
    {
      "cell_type": "code",
      "metadata": {
        "id": "kBEvTnC8Ghxl",
        "colab_type": "code",
        "colab": {},
        "outputId": "f6238e48-429b-43c1-8aac-4a5a12d070e5"
      },
      "source": [
        "#Triple sum - to print those pair of elements in the array which sum to X(a random integer)\n",
        "#and in the pai print the numbers in the increasing order i.e (5,6,8)\n",
        "\n",
        "n= int(input(\"Enter the length of array\"))\n",
        "arr=[]\n",
        "for i in range(n):\n",
        "    arr.append(int(input(\"enter elements of array : \")))\n",
        "    \n",
        "X=int(input(\"Enter the sum\"))\n",
        "list=[]\n",
        "for i in range(n):\n",
        "    for k in range(i+1,n):\n",
        "        for j in range(k+1,n):\n",
        "            if(arr[i]+arr[j]+arr[k]==X):\n",
        "                list=[arr[i],arr[j],arr[k]]\n",
        "                list.sort()\n",
        "print(list)"
      ],
      "execution_count": 0,
      "outputs": [
        {
          "output_type": "stream",
          "text": [
            "Enter the length of array7\n",
            "enter elements of array : 1\n",
            "enter elements of array : 2\n",
            "enter elements of array : 3\n",
            "enter elements of array : 4\n",
            "enter elements of array : 5\n",
            "enter elements of array : 6\n",
            "enter elements of array : 7\n",
            "Enter the sum12\n",
            "[3, 4, 5]\n"
          ],
          "name": "stdout"
        }
      ]
    },
    {
      "cell_type": "code",
      "metadata": {
        "id": "O3m4uJHbGhxs",
        "colab_type": "code",
        "colab": {},
        "outputId": "435b40eb-4310-4594-b9aa-e410b71ec7ab"
      },
      "source": [
        "#to sort(arrnge in ascending order) an array containing 0's and 1's\n",
        "n= int(input(\"Enter the length of array\"))\n",
        "arr=[]\n",
        "for i in range(n):\n",
        "    arr.append(int(input(\"enter elements of array : \")))\n",
        "m=0\n",
        "for i in range(n):\n",
        "    if(arr[i]==0):\n",
        "        m=m+1\n",
        "        \n",
        "for i in range(0,m):\n",
        "    arr[i]=0;\n",
        "\n",
        "for i in range(m,n):\n",
        "    arr[i]=1\n",
        "        \n",
        "print(arr)"
      ],
      "execution_count": 0,
      "outputs": [
        {
          "output_type": "stream",
          "text": [
            "Enter the length of array8\n",
            "enter elements of array : 1\n",
            "enter elements of array : 1\n",
            "enter elements of array : 0\n",
            "enter elements of array : 1\n",
            "enter elements of array : 0\n",
            "enter elements of array : 0\n",
            "enter elements of array : 1\n",
            "enter elements of array : 1\n",
            "[0, 0, 0, 1, 1, 1, 1, 1]\n"
          ],
          "name": "stdout"
        }
      ]
    }
  ]
}