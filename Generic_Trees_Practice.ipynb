{
  "nbformat": 4,
  "nbformat_minor": 0,
  "metadata": {
    "kernelspec": {
      "display_name": "Python 3",
      "language": "python",
      "name": "python3"
    },
    "language_info": {
      "codemirror_mode": {
        "name": "ipython",
        "version": 3
      },
      "file_extension": ".py",
      "mimetype": "text/x-python",
      "name": "python",
      "nbconvert_exporter": "python",
      "pygments_lexer": "ipython3",
      "version": "3.7.6"
    },
    "colab": {
      "name": "Generic Trees_Practice.ipynb",
      "provenance": [],
      "include_colab_link": true
    }
  },
  "cells": [
    {
      "cell_type": "markdown",
      "metadata": {
        "id": "view-in-github",
        "colab_type": "text"
      },
      "source": [
        "<a href=\"https://colab.research.google.com/github/lavishabhambri/Data-Structures-and-Algorithms/blob/master/Generic_Trees_Practice.ipynb\" target=\"_parent\"><img src=\"https://colab.research.google.com/assets/colab-badge.svg\" alt=\"Open In Colab\"/></a>"
      ]
    },
    {
      "cell_type": "markdown",
      "metadata": {
        "id": "c63fohElr1Po",
        "colab_type": "text"
      },
      "source": [
        "# Generic Tree Class"
      ]
    },
    {
      "cell_type": "code",
      "metadata": {
        "id": "EynzvxGbr1Pq",
        "colab_type": "code",
        "colab": {}
      },
      "source": [
        "class GenericTreeNode:\n",
        "    def __init__(self, data):\n",
        "        self.data = data\n",
        "        self.children = list()\n",
        "      "
      ],
      "execution_count": 0,
      "outputs": []
    },
    {
      "cell_type": "markdown",
      "metadata": {
        "id": "r5w7dxojr1Px",
        "colab_type": "text"
      },
      "source": [
        "# Print Tree (RECURSIVELY)"
      ]
    },
    {
      "cell_type": "code",
      "metadata": {
        "id": "aqFtgFXnr1Py",
        "colab_type": "code",
        "colab": {},
        "outputId": "298b162a-45d9-4da2-fd59-2fa78125308f"
      },
      "source": [
        "def printTree(root):\n",
        "    \n",
        "    if root == None:\n",
        "        return \n",
        "    print(root.data)\n",
        "    for child in root.children:\n",
        "        printTree(child)\n",
        " \n",
        "\n",
        "n1 = GenericTreeNode(5)\n",
        "n2 = GenericTreeNode(2)\n",
        "n3 = GenericTreeNode(9)\n",
        "n4 = GenericTreeNode(8)\n",
        "n5 = GenericTreeNode(7)\n",
        "n6 = GenericTreeNode(15)\n",
        "n7 = GenericTreeNode(1)\n",
        "\n",
        "n1.children.append(n2)\n",
        "n1.children.append(n3)\n",
        "n1.children.append(n4)\n",
        "n1.children.append(n5)\n",
        "n3.children.append(n6)\n",
        "n3.children.append(n7)\n",
        "printTree(n1)"
      ],
      "execution_count": 0,
      "outputs": [
        {
          "output_type": "stream",
          "text": [
            "5\n",
            "2\n",
            "9\n",
            "15\n",
            "1\n",
            "8\n",
            "7\n"
          ],
          "name": "stdout"
        }
      ]
    },
    {
      "cell_type": "markdown",
      "metadata": {
        "id": "PmZHUeEsr1P5",
        "colab_type": "text"
      },
      "source": [
        "# Printing Tree in a more Structured way"
      ]
    },
    {
      "cell_type": "code",
      "metadata": {
        "id": "Xzt8nHVbr1P6",
        "colab_type": "code",
        "colab": {},
        "outputId": "7e9b1dff-e0d0-4ad1-9e18-34bedda875c8"
      },
      "source": [
        "def printTreeStructured(root):\n",
        "    \n",
        "    if root == None:\n",
        "        return\n",
        "    \n",
        "    print(root.data,\":\", end = \" \")\n",
        "    for child in root.children:\n",
        "        print(child.data,end= \" , \")\n",
        "    print()\n",
        "    \n",
        "    for child in root.children:\n",
        "        printTreeStructured(child)\n",
        "\n",
        "printTreeStructured(n1)"
      ],
      "execution_count": 0,
      "outputs": [
        {
          "output_type": "stream",
          "text": [
            "5 : 2 , 9 , 8 , 7 , \n",
            "2 : \n",
            "9 : 15 , 1 , \n",
            "15 : \n",
            "1 : \n",
            "8 : \n",
            "7 : \n"
          ],
          "name": "stdout"
        }
      ]
    },
    {
      "cell_type": "markdown",
      "metadata": {
        "id": "OqcBA3LPr1P_",
        "colab_type": "text"
      },
      "source": [
        "# Taking tree input(RECURSIVELY)"
      ]
    },
    {
      "cell_type": "code",
      "metadata": {
        "id": "adgPZFfbr1QA",
        "colab_type": "code",
        "colab": {},
        "outputId": "f690b8ee-5439-4859-fd0b-900b74aa153c"
      },
      "source": [
        "def TreeInput():\n",
        "    \n",
        "    print(\"Enter the root\")\n",
        "    rootData = int(input())\n",
        "    if rootData == -1:\n",
        "        return None\n",
        "    root = GenericTreeNode(rootData)\n",
        "    \n",
        "    print(\"Enter the number of children of\", rootData)\n",
        "    childrenCount = int(input())\n",
        "    \n",
        "    for i in range(childrenCount):\n",
        "        child = TreeInput()\n",
        "        root.children.append(child)\n",
        "        \n",
        "    return root\n",
        "\n",
        "root = TreeInput()\n",
        "printTreeStructured(root)"
      ],
      "execution_count": 0,
      "outputs": [
        {
          "output_type": "stream",
          "text": [
            "Enter the root\n",
            "10\n",
            "Enter the number of children of 10\n",
            "0\n",
            "10 : \n"
          ],
          "name": "stdout"
        }
      ]
    },
    {
      "cell_type": "markdown",
      "metadata": {
        "id": "m4yQ49aSr1QF",
        "colab_type": "text"
      },
      "source": [
        "# Number of Nodes in Generic Trees"
      ]
    },
    {
      "cell_type": "code",
      "metadata": {
        "id": "cLmvc9TBr1QG",
        "colab_type": "code",
        "colab": {}
      },
      "source": [
        "def numNodes(root):\n",
        "    \n",
        "    if root == None:\n",
        "        return 0\n",
        "    \n",
        "    count = 1\n",
        "    for child in root.children:\n",
        "        count = count + numNodes(child)\n",
        "        \n",
        "    return count\n",
        "\n",
        "root = TreeInput()\n",
        "numberNodes = numNodes(root)\n",
        "print(numberNodes)"
      ],
      "execution_count": 0,
      "outputs": []
    },
    {
      "cell_type": "markdown",
      "metadata": {
        "id": "IhY-_77nr1QL",
        "colab_type": "text"
      },
      "source": [
        "# Taking Tree Input LevelWise"
      ]
    },
    {
      "cell_type": "code",
      "metadata": {
        "id": "FLbgcYhvr1QM",
        "colab_type": "code",
        "colab": {},
        "outputId": "21af69c4-3834-4db7-b691-6e0169a36dfc"
      },
      "source": [
        "#Given a generic tree, print the input tree in level wise order. ####For printing a node with data N, you need to follow the exact format -\n",
        "#wherer, N is data of any node present in the binary tree. x1, x2, x3, ...., xn are the children of node N\n",
        "#There is no space in between.\n",
        "#You need to print all nodes in the level order form in different lines.\n",
        "\n",
        "\n",
        "import queue\n",
        "def takeInputLevelWise():\n",
        "    \n",
        "    q = queue.Queue()\n",
        "    print(\"Enter the root\")\n",
        "    rootData = int(input())\n",
        "    if rootData == -1:\n",
        "        return None\n",
        "    \n",
        "    root = GenericTreeNode(rootData)\n",
        "    q.put(root)\n",
        "    \n",
        "    while (not q.empty()):\n",
        "        current_node = q.get()\n",
        "        print(\"Enter the number of children for \", current_node.data)\n",
        "        numChild = int(input())\n",
        "        \n",
        "        for i in range(numChild):\n",
        "            print(\"Enter the next child for \", current_node.data)\n",
        "            childData = int(input())\n",
        "            childNode = GenericTreeNode(childData)\n",
        "            current_node.children.append(childNode)\n",
        "            q.put(childNode)\n",
        "            \n",
        "    return root\n",
        "\n",
        "root = takeInputLevelWise()\n",
        "printTreeStructured(root)"
      ],
      "execution_count": 0,
      "outputs": [
        {
          "output_type": "stream",
          "text": [
            "Enter the root\n",
            "10\n",
            "Enter the number of children for  10\n",
            "0\n",
            "10 : \n"
          ],
          "name": "stdout"
        }
      ]
    },
    {
      "cell_type": "markdown",
      "metadata": {
        "id": "bS0slTxer1QS",
        "colab_type": "text"
      },
      "source": [
        "# Sum of all nodes"
      ]
    },
    {
      "cell_type": "code",
      "metadata": {
        "id": "CgKrbHX2r1QT",
        "colab_type": "code",
        "colab": {},
        "outputId": "e1cfac5d-32bf-46a7-979a-a19c15fc72b3"
      },
      "source": [
        "#Given a generic tree, count and return the sum of all nodes present in the given tree.\n",
        "\n",
        "def sumNodes(root):\n",
        "    sum = root.data\n",
        "    if root == None:\n",
        "        return 0\n",
        "    \n",
        "    for child in root.children:\n",
        "        sum = sum  + sumNodes(child)\n",
        "    return sum\n",
        "\n",
        "root = takeInputLevelWise()\n",
        "print(sumNodes(root))"
      ],
      "execution_count": 0,
      "outputs": [
        {
          "output_type": "stream",
          "text": [
            "Enter the root\n",
            "10\n",
            "Enter the number of children for  10\n",
            "3\n",
            "Enter the next child for  10\n",
            "20\n",
            "Enter the next child for  10\n",
            "30\n",
            "Enter the next child for  10\n",
            "40\n",
            "Enter the number of children for  20\n",
            "2\n",
            "Enter the next child for  20\n",
            "40\n",
            "Enter the next child for  20\n",
            "50\n",
            "Enter the number of children for  30\n",
            "0\n",
            "Enter the number of children for  40\n",
            "0\n",
            "Enter the number of children for  40\n",
            "0\n",
            "Enter the number of children for  50\n",
            "0\n",
            "190\n"
          ],
          "name": "stdout"
        }
      ]
    },
    {
      "cell_type": "markdown",
      "metadata": {
        "id": "XDXgxjrur1QY",
        "colab_type": "text"
      },
      "source": [
        "# Node With Largest Data"
      ]
    },
    {
      "cell_type": "code",
      "metadata": {
        "id": "mxTikVmWr1QZ",
        "colab_type": "code",
        "colab": {},
        "outputId": "bd1a8c5d-232b-4a3c-aee0-8fe07aea80f8"
      },
      "source": [
        "#Given a generic tree, find and return the node with maximum data. You need to return the complete node which is having maximum data.\n",
        "#Return null if tree is empty.\n",
        "\n",
        "def maxNode(root):\n",
        "    \n",
        "    if root == None:\n",
        "        return None\n",
        "    \n",
        "    max_data = root.data\n",
        "    for child in root.children:\n",
        "        if child.data > max_data :\n",
        "            max_data = maxNode(child)\n",
        "    return max_data\n",
        "\n",
        "root = takeInputLevelWise()\n",
        "print(maxNode(root))"
      ],
      "execution_count": 0,
      "outputs": [
        {
          "output_type": "stream",
          "text": [
            "Enter the root\n",
            "10\n",
            "Enter the number of children for  10\n",
            "3\n",
            "Enter the next child for  10\n",
            "20\n",
            "Enter the next child for  10\n",
            "30\n",
            "Enter the next child for  10\n",
            "40\n",
            "Enter the number of children for  20\n",
            "2\n",
            "Enter the next child for  20\n",
            "40\n",
            "Enter the next child for  20\n",
            "50\n",
            "Enter the number of children for  30\n",
            "0\n",
            "Enter the number of children for  40\n",
            "0\n",
            "Enter the number of children for  40\n",
            "0\n",
            "Enter the number of children for  50\n",
            "0\n",
            "50\n"
          ],
          "name": "stdout"
        }
      ]
    },
    {
      "cell_type": "markdown",
      "metadata": {
        "id": "mrxWql8zr1Qe",
        "colab_type": "text"
      },
      "source": [
        "# Height Of Tree"
      ]
    },
    {
      "cell_type": "code",
      "metadata": {
        "id": "sJBr95Mhr1Qf",
        "colab_type": "code",
        "colab": {},
        "outputId": "e00065d9-372b-4f4b-d718-ce5781e12bcc"
      },
      "source": [
        "#Given a generic tree, find and return the height of given tree.\n",
        "\n",
        "\n",
        "def height(root):\n",
        "    \n",
        "    if root == None:\n",
        "        return 0\n",
        "    #height = 0\n",
        "    max_height = 0\n",
        "    for child in root.children:\n",
        "        h = height(child)\n",
        "        if max_height  < h:\n",
        "            max_height = h\n",
        "    return max_height + 1\n",
        "            \n",
        "    #return height\n",
        "\n",
        "root = takeInputLevelWise()\n",
        "print(height(root))"
      ],
      "execution_count": 0,
      "outputs": [
        {
          "output_type": "stream",
          "text": [
            "Enter the root\n",
            "10\n",
            "Enter the number of children for  10\n",
            "3\n",
            "Enter the next child for  10\n",
            "20\n",
            "Enter the next child for  10\n",
            "30\n",
            "Enter the next child for  10\n",
            "40\n",
            "Enter the number of children for  20\n",
            "2\n",
            "Enter the next child for  20\n",
            "40\n",
            "Enter the next child for  20\n",
            "50\n",
            "Enter the number of children for  30\n",
            "0\n",
            "Enter the number of children for  40\n",
            "0\n",
            "Enter the number of children for  40\n",
            "0\n",
            "Enter the number of children for  50\n",
            "0\n",
            "3\n"
          ],
          "name": "stdout"
        }
      ]
    },
    {
      "cell_type": "markdown",
      "metadata": {
        "id": "NG3jx7Isr1Qj",
        "colab_type": "text"
      },
      "source": [
        "# Contains x"
      ]
    },
    {
      "cell_type": "code",
      "metadata": {
        "id": "36L6llr-r1Qk",
        "colab_type": "code",
        "colab": {},
        "outputId": "414903b5-08da-4351-bd13-8aaa4d94a20e"
      },
      "source": [
        "#Given a generic tree and an integer x, check if x is present in the given tree or not. Return true if x is present, return false otherwise.\n",
        "\n",
        "import queue\n",
        "def xPresent(root, x):\n",
        "    \n",
        "    if root == None:\n",
        "        return False\n",
        "    \n",
        "    for child in root.children :                              #Error\n",
        "        if child.data == x:\n",
        "            return True\n",
        "\n",
        "        else:\n",
        "            return xPresent(child, x)\n",
        "    \n",
        "        \n",
        "    \n",
        "            \n",
        "    \n",
        "\n",
        "root = takeInputLevelWise()\n",
        "print(xPresent(root, 4))"
      ],
      "execution_count": 0,
      "outputs": [
        {
          "output_type": "stream",
          "text": [
            "Enter the root\n",
            "19\n",
            "Enter the number of children for  19\n",
            "0\n",
            "None\n"
          ],
          "name": "stdout"
        }
      ]
    },
    {
      "cell_type": "markdown",
      "metadata": {
        "id": "rfnJxPtUr1Qq",
        "colab_type": "text"
      },
      "source": [
        "# Count leaf Nodes"
      ]
    },
    {
      "cell_type": "code",
      "metadata": {
        "id": "Dpqtw0y_r1Qr",
        "colab_type": "code",
        "colab": {},
        "outputId": "1c7141c5-82ac-4c89-e4d3-dbae21539dd3"
      },
      "source": [
        "#Given a generic tree, count and return the number of leaf nodes present in the given tree.\n",
        "\n",
        "def countLeaf(root):\n",
        "    \n",
        "    \n",
        "    count = 1\n",
        "    if root == None:\n",
        "        return 0\n",
        "    \n",
        "    if len(root.children) == 1:                       #Error\n",
        "        return 1\n",
        "    \n",
        "    for child in root.children:\n",
        "        if child == None:\n",
        "            countNum = count + countLeaf(child)\n",
        "            \n",
        "    return countNum\n",
        "\n",
        "root = takeInputLevelWise()\n",
        "print(countLeaf(root))"
      ],
      "execution_count": 0,
      "outputs": [
        {
          "output_type": "stream",
          "text": [
            "Enter the root\n",
            "10\n",
            "Enter the number of children for  10\n",
            "2\n",
            "Enter the next child for  10\n",
            "3\n",
            "Enter the next child for  10\n",
            "4\n",
            "Enter the number of children for  3\n",
            "0\n",
            "Enter the number of children for  4\n",
            "0\n"
          ],
          "name": "stdout"
        },
        {
          "output_type": "error",
          "ename": "UnboundLocalError",
          "evalue": "local variable 'countNum' referenced before assignment",
          "traceback": [
            "\u001b[1;31m---------------------------------------------------------------------------\u001b[0m",
            "\u001b[1;31mUnboundLocalError\u001b[0m                         Traceback (most recent call last)",
            "\u001b[1;32m<ipython-input-15-b40bf9ffbd39>\u001b[0m in \u001b[0;36m<module>\u001b[1;34m\u001b[0m\n\u001b[0;32m     18\u001b[0m \u001b[1;33m\u001b[0m\u001b[0m\n\u001b[0;32m     19\u001b[0m \u001b[0mroot\u001b[0m \u001b[1;33m=\u001b[0m \u001b[0mtakeInputLevelWise\u001b[0m\u001b[1;33m(\u001b[0m\u001b[1;33m)\u001b[0m\u001b[1;33m\u001b[0m\u001b[1;33m\u001b[0m\u001b[0m\n\u001b[1;32m---> 20\u001b[1;33m \u001b[0mprint\u001b[0m\u001b[1;33m(\u001b[0m\u001b[0mcountLeaf\u001b[0m\u001b[1;33m(\u001b[0m\u001b[0mroot\u001b[0m\u001b[1;33m)\u001b[0m\u001b[1;33m)\u001b[0m\u001b[1;33m\u001b[0m\u001b[1;33m\u001b[0m\u001b[0m\n\u001b[0m",
            "\u001b[1;32m<ipython-input-15-b40bf9ffbd39>\u001b[0m in \u001b[0;36mcountLeaf\u001b[1;34m(root)\u001b[0m\n\u001b[0;32m     15\u001b[0m             \u001b[0mcountNum\u001b[0m \u001b[1;33m=\u001b[0m \u001b[0mcount\u001b[0m \u001b[1;33m+\u001b[0m \u001b[0mcountLeaf\u001b[0m\u001b[1;33m(\u001b[0m\u001b[0mchild\u001b[0m\u001b[1;33m)\u001b[0m\u001b[1;33m\u001b[0m\u001b[1;33m\u001b[0m\u001b[0m\n\u001b[0;32m     16\u001b[0m             \u001b[0mcount\u001b[0m \u001b[1;33m=\u001b[0m \u001b[0mcountNum\u001b[0m\u001b[1;33m\u001b[0m\u001b[1;33m\u001b[0m\u001b[0m\n\u001b[1;32m---> 17\u001b[1;33m     \u001b[1;32mreturn\u001b[0m \u001b[0mcountNum\u001b[0m\u001b[1;33m\u001b[0m\u001b[1;33m\u001b[0m\u001b[0m\n\u001b[0m\u001b[0;32m     18\u001b[0m \u001b[1;33m\u001b[0m\u001b[0m\n\u001b[0;32m     19\u001b[0m \u001b[0mroot\u001b[0m \u001b[1;33m=\u001b[0m \u001b[0mtakeInputLevelWise\u001b[0m\u001b[1;33m(\u001b[0m\u001b[1;33m)\u001b[0m\u001b[1;33m\u001b[0m\u001b[1;33m\u001b[0m\u001b[0m\n",
            "\u001b[1;31mUnboundLocalError\u001b[0m: local variable 'countNum' referenced before assignment"
          ]
        }
      ]
    },
    {
      "cell_type": "markdown",
      "metadata": {
        "id": "GxZS1OTrr1Qw",
        "colab_type": "text"
      },
      "source": [
        "# Node with maximum child sum"
      ]
    },
    {
      "cell_type": "code",
      "metadata": {
        "id": "VZSNl-sOr1Qx",
        "colab_type": "code",
        "colab": {},
        "outputId": "73b9a163-9a5d-430a-a08b-153b26353785"
      },
      "source": [
        "#Given a tree, find and return the node for which sum of data of all children and the node itself is maximum. In the sum, data of node itself and data of immediate children is to be taken.\n",
        "\n",
        "\n",
        "def sumChild(root,max_sum, req_node):\n",
        "    \n",
        "    if root == None:\n",
        "        return 0\n",
        "   \n",
        "    cur_sum = root.data\n",
        "    #count = root.child.count\n",
        "    for i in range(len(root.children)):\n",
        "        cur_sum = cur_sum + root.children[i].data\n",
        "        req_node ,max_sum = sumChild(root.children[i], max_sum, req_node)\n",
        "    if cur_sum > max_sum:\n",
        "        req_node = root\n",
        "        max_sum = cur_sum\n",
        "        \n",
        "    return req_node, max_sum\n",
        "        \n",
        "        \n",
        "max_sum = 0\n",
        "req_node = root\n",
        "root = takeInputLevelWise()\n",
        "res_node, max_sum= sumChild(root,0,root)\n",
        "print(res_node.data)"
      ],
      "execution_count": 0,
      "outputs": [
        {
          "output_type": "stream",
          "text": [
            "Enter the root\n",
            "5\n",
            "Enter the number of children for  5\n",
            "3\n",
            "Enter the next child for  5\n",
            "1\n",
            "Enter the next child for  5\n",
            "2\n",
            "Enter the next child for  5\n",
            "3\n",
            "Enter the number of children for  1\n",
            "1\n",
            "Enter the next child for  1\n",
            "15\n",
            "Enter the number of children for  2\n",
            "2\n",
            "Enter the next child for  2\n",
            "4\n",
            "Enter the next child for  2\n",
            "5\n",
            "Enter the number of children for  3\n",
            "1\n",
            "Enter the next child for  3\n",
            "6\n",
            "Enter the number of children for  15\n",
            "0\n",
            "Enter the number of children for  4\n",
            "0\n",
            "Enter the number of children for  5\n",
            "0\n",
            "Enter the number of children for  6\n",
            "0\n",
            "1\n"
          ],
          "name": "stdout"
        }
      ]
    },
    {
      "cell_type": "markdown",
      "metadata": {
        "id": "r6c32TbUr1Q1",
        "colab_type": "text"
      },
      "source": [
        "# Structurally identical"
      ]
    },
    {
      "cell_type": "code",
      "metadata": {
        "id": "Z27acaPvr1Q5",
        "colab_type": "code",
        "colab": {},
        "outputId": "90954b67-21f4-4f69-ea81-5fd029267690"
      },
      "source": [
        "#Given two Generic trees, return true if they are structurally identical i.e. they are made of nodes with the same values arranged in the same way.\n",
        "\n",
        "def identical(root1, root2):\n",
        "    a = True\n",
        "    \n",
        "    if len(root1.children) != len(root2.children):\n",
        "        a = False\n",
        "    \n",
        "    for i in range(len(root1.children)):                  #Error\n",
        "        if root1.children[i] != root2.children[j]:\n",
        "            a =  False\n",
        "            break\n",
        "                \n",
        "           \n",
        "    return a       \n",
        "        \n",
        "    \n",
        "root1 = takeInputLevelWise()\n",
        "root2 = takeInputLevelWise()  \n",
        "print(identical(root1, root2))"
      ],
      "execution_count": 0,
      "outputs": [
        {
          "output_type": "stream",
          "text": [
            "Enter the root\n",
            "10\n",
            "Enter the number of children for  10\n",
            "0\n",
            "Enter the root\n",
            "3\n",
            "Enter the number of children for  3\n",
            "0\n",
            "True\n"
          ],
          "name": "stdout"
        }
      ]
    },
    {
      "cell_type": "markdown",
      "metadata": {
        "id": "1jZeobwbr1Q_",
        "colab_type": "text"
      },
      "source": [
        "# Next larger"
      ]
    },
    {
      "cell_type": "code",
      "metadata": {
        "id": "i8nGYG6nr1RA",
        "colab_type": "code",
        "colab": {}
      },
      "source": [
        "#Given a generic tree and an integer n. Find and return the node with next larger element in the Tree i.e. find a node with value just greater than n.\n",
        "#Return NULL if no node is present with the value greater than n."
      ],
      "execution_count": 0,
      "outputs": []
    },
    {
      "cell_type": "markdown",
      "metadata": {
        "id": "pcHskNwRr1RE",
        "colab_type": "text"
      },
      "source": [
        "# Replace with depth"
      ]
    },
    {
      "cell_type": "code",
      "metadata": {
        "id": "5A1cFx88r1RF",
        "colab_type": "code",
        "colab": {}
      },
      "source": [
        "#In a given Generic Tree, replace each node with its depth value. You need to just update the data of each node, no need to return or print anything."
      ],
      "execution_count": 0,
      "outputs": []
    }
  ]
}