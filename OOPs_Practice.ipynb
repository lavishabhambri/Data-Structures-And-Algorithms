{
  "nbformat": 4,
  "nbformat_minor": 0,
  "metadata": {
    "kernelspec": {
      "display_name": "Python 3",
      "language": "python",
      "name": "python3"
    },
    "language_info": {
      "codemirror_mode": {
        "name": "ipython",
        "version": 3
      },
      "file_extension": ".py",
      "mimetype": "text/x-python",
      "name": "python",
      "nbconvert_exporter": "python",
      "pygments_lexer": "ipython3",
      "version": "3.7.6"
    },
    "colab": {
      "name": "OOPs_Practice.ipynb",
      "provenance": [],
      "include_colab_link": true
    }
  },
  "cells": [
    {
      "cell_type": "markdown",
      "metadata": {
        "id": "view-in-github",
        "colab_type": "text"
      },
      "source": [
        "<a href=\"https://colab.research.google.com/github/lavishabhambri/Data-Structures-and-Algorithms/blob/master/OOPs_Practice.ipynb\" target=\"_parent\"><img src=\"https://colab.research.google.com/assets/colab-badge.svg\" alt=\"Open In Colab\"/></a>"
      ]
    },
    {
      "cell_type": "code",
      "metadata": {
        "id": "9PS3QHACo0Wf",
        "colab_type": "code",
        "colab": {},
        "outputId": "f897c0ab-ef75-4aa2-cf22-0a8a2ce8d3fe"
      },
      "source": [
        "#to create an empty class\n",
        "class Student():\n",
        "    pass\n",
        "\n",
        "#to create objects of this class\n",
        "s1= Student()\n",
        "print(s1)\n",
        "\n",
        "#giving attributes to this object\n",
        "s1.name = 'Rakesh'\n",
        "print(s1.name)\n",
        "s1.age = 23\n",
        "print(s1.__dict__)\n",
        "s1.roll = 12\n",
        "\n",
        "#hasattr\n",
        "print(hasattr(s1,\"name\"))\n",
        "print(hasattr(s1,\"color\"))\n",
        "\n",
        "#getattr\n",
        "getattr(s1,\"name\")\n",
        "\n",
        "#delattr\n",
        "delattr(s1, \"roll\")\n",
        "print(hasattr(s1,\"roll\"))\n",
        "\n"
      ],
      "execution_count": 0,
      "outputs": [
        {
          "output_type": "stream",
          "text": [
            "<__main__.Student object at 0x000002145CC8CF88>\n",
            "Rakesh\n",
            "{'name': 'Rakesh', 'age': 23}\n",
            "True\n",
            "False\n",
            "False\n"
          ],
          "name": "stdout"
        }
      ]
    },
    {
      "cell_type": "code",
      "metadata": {
        "id": "KSw30q_Co0Wv",
        "colab_type": "code",
        "colab": {},
        "outputId": "089e9b02-42f6-465c-f6d0-88258fd27d18"
      },
      "source": [
        "class Student():\n",
        "    \n",
        "    def studentDetails(self, name, rollno):\n",
        "        self.name = name\n",
        "        self.rollno = rollno\n",
        "        \n",
        "s1 = Student()\n",
        "\n",
        "s1.studentDetails('Ram' , 13)\n",
        "s1.__dict__"
      ],
      "execution_count": 0,
      "outputs": [
        {
          "output_type": "execute_result",
          "data": {
            "text/plain": [
              "{'name': 'Ram', 'rollno': 13}"
            ]
          },
          "metadata": {
            "tags": []
          },
          "execution_count": 13
        }
      ]
    },
    {
      "cell_type": "code",
      "metadata": {
        "id": "AD-WCcD5o0W4",
        "colab_type": "code",
        "colab": {},
        "outputId": "3894fcb8-7bcb-426d-e1ca-1d0ce42a84df"
      },
      "source": [
        "class Student():\n",
        "    \n",
        "    def __init__ (self, name, rollno):\n",
        "        self.__name = name\n",
        "        self.rollno = rollno\n",
        "        \n",
        "    def studentDetails(self):\n",
        "        print(self.name)\n",
        "        print(self.rollno)\n",
        "        \n",
        "s1 = Student(\"Ram\" , 15)\n",
        "#print(s1.__name)     gives error\n",
        "s1.__dict__"
      ],
      "execution_count": 0,
      "outputs": [
        {
          "output_type": "execute_result",
          "data": {
            "text/plain": [
              "{'_Student__name': 'Ram', 'rollno': 15}"
            ]
          },
          "metadata": {
            "tags": []
          },
          "execution_count": 16
        }
      ]
    }
  ]
}