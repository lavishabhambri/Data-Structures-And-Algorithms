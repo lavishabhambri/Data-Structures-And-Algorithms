{
  "nbformat": 4,
  "nbformat_minor": 0,
  "metadata": {
    "kernelspec": {
      "display_name": "Python 3",
      "language": "python",
      "name": "python3"
    },
    "language_info": {
      "codemirror_mode": {
        "name": "ipython",
        "version": 3
      },
      "file_extension": ".py",
      "mimetype": "text/x-python",
      "name": "python",
      "nbconvert_exporter": "python",
      "pygments_lexer": "ipython3",
      "version": "3.7.6"
    },
    "colab": {
      "name": "Priority Queues_Practice.ipynb",
      "provenance": [],
      "include_colab_link": true
    }
  },
  "cells": [
    {
      "cell_type": "markdown",
      "metadata": {
        "id": "view-in-github",
        "colab_type": "text"
      },
      "source": [
        "<a href=\"https://colab.research.google.com/github/lavishabhambri/Data-Structures-and-Algorithms/blob/master/Priority_Queues_Practice.ipynb\" target=\"_parent\"><img src=\"https://colab.research.google.com/assets/colab-badge.svg\" alt=\"Open In Colab\"/></a>"
      ]
    },
    {
      "cell_type": "markdown",
      "metadata": {
        "id": "YV3LB-yzsZgG",
        "colab_type": "text"
      },
      "source": [
        "# Implementation of Priority Queues"
      ]
    },
    {
      "cell_type": "markdown",
      "metadata": {
        "id": "kiu9BDCLsZgJ",
        "colab_type": "text"
      },
      "source": [
        "# Inserting and Removing an element in MINHEAP"
      ]
    },
    {
      "cell_type": "code",
      "metadata": {
        "id": "cR8fU6fAsZgK",
        "colab_type": "code",
        "colab": {},
        "outputId": "df733a29-04e1-4b83-be2a-2a743f21e024"
      },
      "source": [
        "class PriorityQueueNode:\n",
        "    \n",
        "    def __init__(self, value, priority):\n",
        "        self.value = value\n",
        "        self.priority = priority\n",
        "        \n",
        "class PriorityQueue:\n",
        "    \n",
        "    def __init__(self):\n",
        "        self.pq = []\n",
        "        \n",
        "    def getMin(self):\n",
        "        if self.isEmpty() is True:\n",
        "            return None\n",
        "        return self.pq[0].value\n",
        "    \n",
        "    def getSize(self):\n",
        "        return len(self.pq)\n",
        "    \n",
        "    def isEmpty(self):\n",
        "        return self.getSize() == 0\n",
        "    \n",
        "    def insert(self, value, priority):\n",
        "        pqNode = PriorityQueueNode(value, priority)\n",
        "        self.pq.append(pqNode)\n",
        "        self.__percolateUp()\n",
        "        \n",
        "    def __percolateUp(self):\n",
        "        childIndex = self.getSize() - 1\n",
        "        \n",
        "        while childIndex > 0:\n",
        "            parentIndex = (childIndex - 1)//2\n",
        "            if self.pq[parentIndex].priority > self.pq[childIndex].priority :\n",
        "                #swap both parent and child\n",
        "                self.pq[parentIndex] , self.pq[childIndex] = self.pq[childIndex] , self.pq[parentIndex]\n",
        "                \n",
        "                childIndex = parentIndex\n",
        "            else:\n",
        "                break\n",
        "                \n",
        "                \n",
        "    #Removing an Element\n",
        "    def remove(self):\n",
        "        if self.isEmpty():\n",
        "            return None\n",
        "\n",
        "        ele = self.pq[0]\n",
        "        self.pq[0] = self.pq[self.getSize()-1]\n",
        "        self.pq.pop()\n",
        "        self.percolateDown()\n",
        "        return ele\n",
        "\n",
        "    def percolateDown(self):\n",
        "\n",
        "        parentIndex = 0\n",
        "        leftChildIndex = 2 * parentIndex + 1\n",
        "        rightChildIndex = 2 * parentIndex + 2\n",
        "\n",
        "        while leftChildIndex < self.getSize():\n",
        "            minIndex = parentIndex\n",
        "            if self.pq[minIndex].priority > self.pq[leftChildIndex].priority:\n",
        "                self.pq[minIndex] , self.pq[leftChildIndex]  = self.pq[leftChildIndex] , self.pq[minIndex]\n",
        "\n",
        "            if rightChildIndex < self.getSize() and self.pq[minIndex].priority > self.pq[rightChildIndex].priority:\n",
        "                self.pq[minIndex] , self.pq[rightChildIndex]  = self.pq[rightChildIndex] , self.pq[minIndex]\n",
        "\n",
        "            if minIndex == parentIndex:\n",
        "                break\n",
        "\n",
        "            parentIndex = minIndex\n",
        "            leftChildIndex = 2* parentIndex + 1\n",
        "            rightChildIndex = 2* parentIndex + 2\n",
        "\n",
        "\n",
        "pq = PriorityQueue()\n",
        "pq.insert('A', 10)\n",
        "pq.insert('B', 4)\n",
        "pq.insert('C', 20)\n",
        "pq.insert('D', 2)\n",
        "\n",
        "for i in range(pq.getSize()):\n",
        "    print(pq.remove().value)\n",
        "\n"
      ],
      "execution_count": 0,
      "outputs": [
        {
          "output_type": "stream",
          "text": [
            "D\n",
            "B\n",
            "A\n",
            "C\n"
          ],
          "name": "stdout"
        }
      ]
    },
    {
      "cell_type": "markdown",
      "metadata": {
        "id": "pfBd6vNbsZgS",
        "colab_type": "text"
      },
      "source": [
        "# Inserting and Removing an element in MAXHEAP"
      ]
    },
    {
      "cell_type": "code",
      "metadata": {
        "id": "qvGpFbwRsZgU",
        "colab_type": "code",
        "colab": {},
        "outputId": "3c7695e8-bf96-41c3-fa1f-223e85854bef"
      },
      "source": [
        "class PriorityQueueNode:\n",
        "    def __init__(self, value, priority):\n",
        "        self.value = value\n",
        "        self.priority = priority\n",
        "        \n",
        "class PriorityQueue:\n",
        "    \n",
        "    def __init__(self):\n",
        "        self.pq = []\n",
        "        \n",
        "    def getSize(self):\n",
        "        return len(self.pq)\n",
        "    \n",
        "    def isEmpty(self):\n",
        "        return self.getSize == 0\n",
        "    \n",
        "    def insert(self, value, priority):\n",
        "        pqNode = PriorityQueueNode(value, priority)\n",
        "        self.pq.append(pqNode)\n",
        "        self.__percolateUp()\n",
        "        \n",
        "    def __percolateUp(self):\n",
        "        childIndex = self.getSize() - 1\n",
        "        \n",
        "        while childIndex > 0:\n",
        "            parentIndex = (childIndex - 1)//2\n",
        "            if self.pq[parentIndex].priority < self.pq[childIndex].priority :\n",
        "                self.pq[parentIndex] , self.pq[childIndex] = self.pq[childIndex] , self.pq[parentIndex]\n",
        "                \n",
        "                childIndex = parentIndex\n",
        "            else:\n",
        "                break\n",
        "                \n",
        "    def removeMax(self):\n",
        "        if self.isEmpty():\n",
        "            return None\n",
        "\n",
        "        ele = self.pq[0]\n",
        "        self.pq[0] = self.pq[self.getSize()-1]\n",
        "        self.pq.pop()\n",
        "        self.__percolateDown()\n",
        "        return ele\n",
        "\n",
        "    def __percolateDown(self):\n",
        "        parentIndex = 0\n",
        "        leftChildIndex = 2 * parentIndex + 1\n",
        "        rightChildIndex = 2 * parentIndex + 2\n",
        "\n",
        "        while leftChildIndex < self.getSize():\n",
        "            maxIndex = parentIndex\n",
        "            if self.pq[maxIndex].priority < self.pq[leftChildIndex].priority:\n",
        "                self.pq[maxIndex] , self.pq[leftChildIndex]  = self.pq[leftChildIndex] , self.pq[maxIndex]\n",
        "\n",
        "            if rightChildIndex < self.getSize() and self.pq[maxIndex].priority < self.pq[rightChildIndex].priority:\n",
        "                self.pq[maxIndex] , self.pq[rightChildIndex]  = self.pq[rightChildIndex] , self.pq[maxIndex]\n",
        "\n",
        "            if maxIndex == parentIndex:\n",
        "                break\n",
        "\n",
        "            parentIndex = maxIndex\n",
        "            leftChildIndex = 2* parentIndex + 1\n",
        "            rightChildIndex = 2* parentIndex + 2\n",
        "        \n",
        "        \n",
        "                \n",
        "        \n",
        "pq = PriorityQueue()\n",
        "pq.insert('A', 10)\n",
        "pq.insert('B', 4)\n",
        "pq.insert('C', 20)\n",
        "pq.insert('D', 2)\n",
        "\n",
        "for i in range(pq.getSize()):\n",
        "    print(pq.removeMax().value)       \n",
        "        "
      ],
      "execution_count": 0,
      "outputs": [
        {
          "output_type": "stream",
          "text": [
            "C\n",
            "A\n",
            "B\n",
            "D\n"
          ],
          "name": "stdout"
        }
      ]
    },
    {
      "cell_type": "markdown",
      "metadata": {
        "id": "F9zPFJDfsZgc",
        "colab_type": "text"
      },
      "source": [
        "# Inplace Heap Sort"
      ]
    },
    {
      "cell_type": "code",
      "metadata": {
        "id": "rj9HjHqxsZgd",
        "colab_type": "code",
        "colab": {},
        "outputId": "5106e124-d9d5-4477-8fe0-b580a9c14088"
      },
      "source": [
        "def heapSort(arr):\n",
        "    \n",
        "    n = len(arr)\n",
        "    \n",
        "    #Building the heap\n",
        "    for i in range(n//2 -1, -1, -1):\n",
        "        down_heapify(arr, i, n)\n",
        "    \n",
        "    #Removing the elements and storing in the same array\n",
        "    for i in range(n-1, 0, -1):\n",
        "        arr[0], arr[i] = arr[i], arr[0]\n",
        "        down_heapify(arr, 0, i)\n",
        "        \n",
        "    return \n",
        "\n",
        "def down_heapify(arr, i, n):\n",
        "    \n",
        "    parentIndex = i\n",
        "    leftChildIndex = 2*parentIndex + 1\n",
        "    rightChildIndex = 2*parentIndex + 2\n",
        "    \n",
        "    while leftChildIndex < n:\n",
        "        minIndex = parentIndex\n",
        "        if arr[minIndex] > arr[leftChildIndex]:\n",
        "            minIndex = leftChildIndex\n",
        "            \n",
        "        if rightChildIndex < n and arr[minIndex] > arr[rightChildIndex]:\n",
        "            minIndex = rightChildIndex\n",
        "            \n",
        "        if minIndex == parentIndex:\n",
        "            return \n",
        "        arr[minIndex], arr[parentIndex] = arr[parentIndex], arr[minIndex]\n",
        "        \n",
        "        parentIndex = minIndex\n",
        "        leftChildIndex = 2*parentIndex + 1\n",
        "        rightChildIndex = 2*parentIndex + 2\n",
        "        \n",
        "    return \n",
        "\n",
        "\n",
        "\n",
        "arr = [int(ele) for ele in input().split()]\n",
        "heapSort(arr)\n",
        "for i in arr[::-1]:\n",
        "    print(i, end = \" \")   "
      ],
      "execution_count": 0,
      "outputs": [
        {
          "output_type": "stream",
          "text": [
            "2 6 8 5 4 3\n",
            "2 3 4 5 6 8 "
          ],
          "name": "stdout"
        }
      ]
    },
    {
      "cell_type": "markdown",
      "metadata": {
        "id": "PJJ09mM4sZgj",
        "colab_type": "text"
      },
      "source": [
        "# Inbuilt MIN Heap Functions"
      ]
    },
    {
      "cell_type": "code",
      "metadata": {
        "id": "iUBAGfHrsZgk",
        "colab_type": "code",
        "colab": {},
        "outputId": "c2172d2e-17f6-442f-fa56-19e806e2f9af"
      },
      "source": [
        "import heapq\n",
        "\n",
        "li = [1, 5, 4, 8, 7, 9, 11]\n",
        "\n",
        "#to build the heap\n",
        "heapq.heapify(li)\n",
        "print(li)\n",
        "\n",
        "#to push element to the heap\n",
        "heapq.heappush(li, 2)\n",
        "print(li)\n",
        "\n",
        "#to pop min element out of minheap\n",
        "print(heapq.heappop(li))\n",
        "print(li)\n",
        "\n",
        "#to replace the min element with some other integer\n",
        "heapq.heapreplace(li, 6)\n",
        "print(li)"
      ],
      "execution_count": 0,
      "outputs": [
        {
          "output_type": "stream",
          "text": [
            "[1, 5, 4, 8, 7, 9, 11]\n",
            "[1, 2, 4, 5, 7, 9, 11, 8]\n",
            "1\n",
            "[2, 5, 4, 8, 7, 9, 11]\n",
            "[4, 5, 6, 8, 7, 9, 11]\n"
          ],
          "name": "stdout"
        }
      ]
    },
    {
      "cell_type": "markdown",
      "metadata": {
        "id": "6xSQv3P_sZgp",
        "colab_type": "text"
      },
      "source": [
        "# Inbuilt MAX Heap Functions"
      ]
    },
    {
      "cell_type": "code",
      "metadata": {
        "id": "EIbY08D7sZgq",
        "colab_type": "code",
        "colab": {},
        "outputId": "caa45d46-8a0f-400f-931d-3ce79fbe20df"
      },
      "source": [
        "import heapq\n",
        "\n",
        "li = [1, 5, 4, 8, 7, 9, 11]\n",
        "\n",
        "#to build the heap\n",
        "heapq._heapify_max(li)\n",
        "print(li)\n",
        "\n",
        "#to pop min element out of minheap\n",
        "heapq._heappop_max(li)\n",
        "print(li)\n",
        "\n",
        "#to replace the min element with some other integer\n",
        "heapq._heapreplace_max(li, 6)\n",
        "print(li)\n",
        "\n",
        "#to push element to the heap\n",
        "li.append(8)\n",
        "heapq._siftdown_max(li, 0, len(li)-1)\n",
        "print(li)"
      ],
      "execution_count": 0,
      "outputs": [
        {
          "output_type": "stream",
          "text": [
            "[11, 8, 9, 5, 7, 1, 4]\n",
            "[9, 8, 4, 5, 7, 1]\n",
            "[8, 7, 4, 5, 6, 1]\n",
            "[8, 7, 8, 5, 6, 1, 4]\n"
          ],
          "name": "stdout"
        }
      ]
    },
    {
      "cell_type": "markdown",
      "metadata": {
        "id": "vFJmyPI2sZgv",
        "colab_type": "text"
      },
      "source": [
        "# K Smallest Elements"
      ]
    },
    {
      "cell_type": "code",
      "metadata": {
        "id": "vWEyquj8sZgw",
        "colab_type": "code",
        "colab": {},
        "outputId": "92f3cb30-f30d-4009-ca87-888ce6f97a3f"
      },
      "source": [
        "#You are given with an integer k and an array of integers that contain numbers in random order. Write a program to find k smallest numbers from given array. You need to save them in an array and return it.\n",
        "#Time complexity should be O(nlogk) and space complexity should be not more than O(k).\n",
        "\n",
        "\n",
        "import heapq\n",
        "\n",
        "def kSmallest(arr, k):\n",
        "    n = len(arr)\n",
        "    heap = arr[:k]\n",
        "    heapq._heapify_max(heap)\n",
        "    \n",
        "    for i in range(k, n):\n",
        "        if heap[0] > arr[i]:\n",
        "            heapq._heapreplace_max(heap, arr[i])\n",
        "            \n",
        "    return heap\n",
        "\n",
        "arr = [10, 6, 7, 2, 3, 8, 9, 11 ,1]\n",
        "elements = kSmallest(arr, 5)\n",
        "\n",
        "for ele in elements:\n",
        "    print(ele, end =\" , \")"
      ],
      "execution_count": 0,
      "outputs": [
        {
          "output_type": "stream",
          "text": [
            "7 , 6 , 1 , 2 , 3 , "
          ],
          "name": "stdout"
        }
      ]
    },
    {
      "cell_type": "markdown",
      "metadata": {
        "id": "WtnGV7IEsZg3",
        "colab_type": "text"
      },
      "source": [
        "# K Largest Elements"
      ]
    },
    {
      "cell_type": "code",
      "metadata": {
        "id": "QHFVTZLFsZg5",
        "colab_type": "code",
        "colab": {},
        "outputId": "6b4908e7-a4d6-47e2-dbdd-c836738af292"
      },
      "source": [
        "#You are given with an integer k and an array of integers that contain numbers in random order. Write a program to find k largest numbers from given array. You need to save them in an array and return it.\n",
        "#Time complexity should be O(nlogk) and space complexity should be not more than O(k).\n",
        "\n",
        "\n",
        "import heapq\n",
        "\n",
        "def kLargest(arr, k):\n",
        "    n = len(arr)\n",
        "    heap = arr[:k]\n",
        "    heapq.heapify(heap)\n",
        "    \n",
        "    for i in range(k, n):\n",
        "        if heap[0] < arr[i]:\n",
        "            heapq.heapreplace(heap, arr[i])\n",
        "            \n",
        "    return heap\n",
        "\n",
        "arr = [10, 6, 7, 2, 3, 8, 9, 11 ,1]\n",
        "elements = kLargest(arr, 5)\n",
        "\n",
        "for ele in elements:\n",
        "    print(ele, end =\" , \")"
      ],
      "execution_count": 0,
      "outputs": [
        {
          "output_type": "stream",
          "text": [
            "7 , 8 , 11 , 9 , 10 , "
          ],
          "name": "stdout"
        }
      ]
    },
    {
      "cell_type": "markdown",
      "metadata": {
        "id": "kBH9cnr4sZg-",
        "colab_type": "text"
      },
      "source": [
        "# Check Max-Heap"
      ]
    },
    {
      "cell_type": "code",
      "metadata": {
        "id": "wcxWZPGZsZg_",
        "colab_type": "code",
        "colab": {},
        "outputId": "e2c9cd5a-fd89-41af-a91c-26de38efc96e"
      },
      "source": [
        "#Given an array of integers, check whether it represents max-heap or not.\n",
        "#Return true or false.\n",
        "\n",
        "def isMaxHeap(arr,i,n):\n",
        "    n = len(arr)\n",
        "    if 2*i+2 > n:\n",
        "        return True\n",
        "    \n",
        "    if(arr[i] >= arr[2 * i + 1] and \n",
        "       arr[i] >= arr[2 * i + 2] and \n",
        "       isMaxHeap(arr, 2 * i + 1, n) and\n",
        "       isMaxHeap(arr, 2 * i + 2, n)): \n",
        "        return True\n",
        "      \n",
        "    return False\n",
        "    \n",
        "arr = [70, 50, 40, 30, 25, 5, 12]\n",
        "#arr = [10,20,30,40,50,60,70]\n",
        "#arr = [8,6,4,7,3,2,0]\n",
        "n= len(arr)\n",
        "isMaxHeap(arr,0,n)            "
      ],
      "execution_count": 0,
      "outputs": [
        {
          "output_type": "execute_result",
          "data": {
            "text/plain": [
              "True"
            ]
          },
          "metadata": {
            "tags": []
          },
          "execution_count": 6
        }
      ]
    },
    {
      "cell_type": "markdown",
      "metadata": {
        "id": "8Dm0aST5sZhE",
        "colab_type": "text"
      },
      "source": [
        "# Kth largest element"
      ]
    },
    {
      "cell_type": "code",
      "metadata": {
        "id": "lH5gssyQsZhF",
        "colab_type": "code",
        "colab": {},
        "outputId": "47822817-c2c3-46a3-ea84-86eb35bacbed"
      },
      "source": [
        "#Given an array A of random integers and an integer k, find and return the kth largest element in the array.\n",
        "#Try to do this question in less than O(nlogn) time.\n",
        "\n",
        "import heapq\n",
        "def kLargestElement(arr, k):\n",
        "    k= k-1\n",
        "    heap = arr[:k]\n",
        "    heapq.heapify(heap)\n",
        "    for i in range(k, n):\n",
        "        if heap[0] < arr[i]:\n",
        "            heapq.heapreplace(heap, arr[i])\n",
        "            \n",
        "    return min(heap)   #returning the min of k-1 largest elements to get kth element\n",
        "\n",
        "arr = [10, 6, 7, 2, 3, 8, 9, 11 ,1]\n",
        "#arr=[2,6,10,11,13,4,1,20]\n",
        "print(kLargestElement(arr,4))"
      ],
      "execution_count": 0,
      "outputs": [
        {
          "output_type": "stream",
          "text": [
            "8\n"
          ],
          "name": "stdout"
        }
      ]
    },
    {
      "cell_type": "markdown",
      "metadata": {
        "id": "QEzF5wgHsZhK",
        "colab_type": "text"
      },
      "source": [
        "# Buy the ticket"
      ]
    },
    {
      "cell_type": "code",
      "metadata": {
        "id": "RKr_HEi_sZhL",
        "colab_type": "code",
        "colab": {}
      },
      "source": [
        "#A queue is maintained for buying the tickets and every person has attached with a priority (an integer, 1 being the lowest priority). The tickets are sold in the following manner -\n",
        "#1. The first person (pi) in the queue asked to comes out.\n",
        "#2. If there is another person present in the queue who has higher priority than pi, then ask pi to move at end of the queue without giving him the ticket.\n",
        "#3. Otherwise, give him the ticket (and don't make him stand in queue again).\n",
        "#Giving a ticket to a person takes exactly 1 minutes and it takes no time for removing and adding a person to the queue. And you can assume that no new person joins the queue.\n",
        "#Given a list of priorities of N persons standing in the queue and the index of your priority (indexing starts from 0). Find and return the time it will take until you get the ticket.\n",
        "\n",
        "import heapq\n",
        "import queue\n",
        "def time(arr, index):\n",
        "    time = 0\n",
        "    heap= arr\n",
        "    heapq._heapify_max(heap)\n",
        "    \n",
        "    q = queue.Queue()\n",
        "    for i in range(len(arr)):\n",
        "        q.put(i)\n",
        "                                                   #ERROR\n",
        "    ele = q.get()\n",
        "    while  not q.empty():\n",
        "        if heap[0] != arr[ele]:\n",
        "            q.put(ele)\n",
        "            ele = q.get()\n",
        "        elif heap[0] == arr[ele] and ele == index:\n",
        "            time = time + 1\n",
        "            ele = q.get()\n",
        "        else:\n",
        "            q.put(ele)\n",
        "            ele = q.get()\n",
        "    return time\n",
        "arr = [3, 9, 4]        \n",
        "time(arr, 3)\n",
        "        \n",
        "            \n",
        "        \n",
        "        \n",
        "        \n",
        "    \n",
        "            "
      ],
      "execution_count": 0,
      "outputs": []
    }
  ]
}