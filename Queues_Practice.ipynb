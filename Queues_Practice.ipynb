{
  "nbformat": 4,
  "nbformat_minor": 0,
  "metadata": {
    "kernelspec": {
      "display_name": "Python 3",
      "language": "python",
      "name": "python3"
    },
    "language_info": {
      "codemirror_mode": {
        "name": "ipython",
        "version": 3
      },
      "file_extension": ".py",
      "mimetype": "text/x-python",
      "name": "python",
      "nbconvert_exporter": "python",
      "pygments_lexer": "ipython3",
      "version": "3.7.6"
    },
    "colab": {
      "name": "Queues_Practice.ipynb",
      "provenance": [],
      "include_colab_link": true
    }
  },
  "cells": [
    {
      "cell_type": "markdown",
      "metadata": {
        "id": "view-in-github",
        "colab_type": "text"
      },
      "source": [
        "<a href=\"https://colab.research.google.com/github/lavishabhambri/Data-Structures-and-Algorithms/blob/master/Queues_Practice.ipynb\" target=\"_parent\"><img src=\"https://colab.research.google.com/assets/colab-badge.svg\" alt=\"Open In Colab\"/></a>"
      ]
    },
    {
      "cell_type": "markdown",
      "metadata": {
        "id": "YltWAqrtrD79",
        "colab_type": "text"
      },
      "source": [
        "# Queue using Array"
      ]
    },
    {
      "cell_type": "code",
      "metadata": {
        "id": "FyCaBcfCrD8A",
        "colab_type": "code",
        "colab": {}
      },
      "source": [
        "class Queue:\n",
        "    \n",
        "    def __init__(self):\n",
        "        self.__arr = []\n",
        "        self.__count = 0\n",
        "        self.__front = 0\n",
        "        \n",
        "    def enqueue(self, data):\n",
        "        self.__arr.append(data)\n",
        "        self.__count += 1\n",
        "        \n",
        "    def dequeue(self):\n",
        "        if self.__count == 0:\n",
        "            return -1\n",
        "        element = self.__arr[self.__front]\n",
        "        self.__front = self.__front + 1\n",
        "        self.__count = self.__count - 1\n",
        "        return element\n",
        "    \n",
        "    def size(self):\n",
        "        return self.__count\n",
        "    \n",
        "    def front(self):\n",
        "        if self.__count == 0:\n",
        "            return -1\n",
        "        return self.__arr[self.__front]\n",
        "    \n",
        "    def isEmpty(self):\n",
        "        return self.__count == 0\n",
        "    \n",
        "    \n",
        "q = Queue()\n",
        "q.enqueue(1)\n",
        "q.enqueue(2)\n",
        "q.enqueue(3)\n",
        "q.enqueue(4)\n",
        "\n",
        "while q.isEmpty() is False:\n",
        "    print(q.front())\n",
        "    q.dequeue()\n",
        "    \n",
        "print(q.dequeue())"
      ],
      "execution_count": 0,
      "outputs": []
    },
    {
      "cell_type": "markdown",
      "metadata": {
        "id": "RByOO6A8rD8J",
        "colab_type": "text"
      },
      "source": [
        "# Queue using Linked List"
      ]
    },
    {
      "cell_type": "code",
      "metadata": {
        "id": "nZLkNlqIrD8K",
        "colab_type": "code",
        "colab": {}
      },
      "source": [
        "class Node:\n",
        "    def __init__(self, data):\n",
        "        self.data = data\n",
        "        self.next = None\n",
        "        \n",
        "class Queue:\n",
        "    \n",
        "    def __init__(self):\n",
        "        self.__head = None\n",
        "        self.__tail = None\n",
        "        self.__count = 0\n",
        "        \n",
        "    def enqueue(self, element):\n",
        "        newNode = Node(element)\n",
        "        if self.__head == None:\n",
        "            self.__head = newNode\n",
        "            self.__tail = newNode\n",
        "        else:\n",
        "            self.__tail.next = newNode\n",
        "            self.__tail = newNode\n",
        "        self.__count += 1\n",
        "        \n",
        "    def dequeue(self):\n",
        "        if self.__head == None:\n",
        "            print(\"Hey the queue is empty!!\")\n",
        "            return \n",
        "        else:\n",
        "            element = self.__head.data\n",
        "            self.__head = self.__head.next\n",
        "            self.__count -= 1\n",
        "            return element\n",
        "        \n",
        "    def front(self):\n",
        "        if self.__head == None:\n",
        "            print(\"Hey the queue is empty!!\")\n",
        "            return \n",
        "        return self.__head.data\n",
        "    \n",
        "    def size(self):\n",
        "        return self.__count\n",
        "    \n",
        "    def isEmpty(self):\n",
        "        return self.__count == 0\n",
        " \n",
        "q = Queue()\n",
        "q.enqueue(1)\n",
        "q.enqueue(2)\n",
        "q.enqueue(3)\n",
        "q.enqueue(4)\n",
        "\n",
        "while q.isEmpty() is False:\n",
        "    print(q.dequeue())\n",
        "    \n",
        "    \n",
        "q.dequeue()"
      ],
      "execution_count": 0,
      "outputs": []
    },
    {
      "cell_type": "markdown",
      "metadata": {
        "id": "Kd9W-IywrD8S",
        "colab_type": "text"
      },
      "source": [
        "# Stack Using 2 Queues"
      ]
    },
    {
      "cell_type": "code",
      "metadata": {
        "id": "yE4CWD_1rD8T",
        "colab_type": "code",
        "colab": {},
        "outputId": "8cc41b1d-aab5-4801-e609-2b65a797a279"
      },
      "source": [
        "#Here enqueue() is O(n) and dequeue() is O(1)\n",
        "class Queue:\n",
        "    \n",
        "    def __init__(self):\n",
        "        self.__s1 = []\n",
        "        self.__s2 = []\n",
        "        \n",
        "    def enqueue(self, data):\n",
        "        \n",
        "        while (len(self.__s1) != 0):\n",
        "            self.__s2.append(self.__s1.pop())\n",
        "            \n",
        "        self.__s1.append(data)\n",
        "        \n",
        "        while (len(self.__s2) != 0):\n",
        "            self.__s1.append(self.__s2.pop())\n",
        "        return \n",
        "    \n",
        "    def dequeue(self):\n",
        "        if (len(self.__s1) == 0):\n",
        "            return -1\n",
        "        return self.__s1.pop()\n",
        "    \n",
        "    def front(self):\n",
        "        if len(self.__s1) == 0:\n",
        "            return -1\n",
        "        return self.__s1[-1]\n",
        "    \n",
        "    def size(self):\n",
        "        return len(self.__s1)\n",
        "    \n",
        "    def isEmpty(self):\n",
        "        return self.size() == 0\n",
        "    \n",
        "q = Queue()\n",
        "q.enqueue(1)\n",
        "q.enqueue(2)\n",
        "q.enqueue(3)\n",
        "q.enqueue(4)\n",
        "\n",
        "while q.isEmpty() is False:\n",
        "    print(q.dequeue())\n",
        "    "
      ],
      "execution_count": 0,
      "outputs": [
        {
          "output_type": "stream",
          "text": [
            "1\n",
            "2\n",
            "3\n",
            "4\n"
          ],
          "name": "stdout"
        }
      ]
    },
    {
      "cell_type": "code",
      "metadata": {
        "id": "CsyLPR9TrD8a",
        "colab_type": "code",
        "colab": {},
        "outputId": "8941d81f-9837-42e7-c2c4-2429f375e414"
      },
      "source": [
        "#Here enqueue() is O(1) , dequeue() is O(n) and front() is also O(n)\n",
        "class Queue:\n",
        "    \n",
        "    def __init__(self):\n",
        "        self.__s1 = []\n",
        "        self.__s2 = []\n",
        "        \n",
        "    def enqueue(self, data):\n",
        "        self.__s1.append(data)\n",
        "        return\n",
        "    \n",
        "    def dequeue(self):\n",
        "        while (len(self.__s1) != 1):\n",
        "            self.__s2.append(self.__s1.pop())\n",
        "        element = self.__s1.pop()\n",
        "        \n",
        "        while (len(self.__s2) !=0):\n",
        "            self.__s1.append(self.__s2.pop())\n",
        "            \n",
        "        return element\n",
        "    \n",
        "    def front(self):\n",
        "        while (len(self.__s1) != 1):\n",
        "            self.__s2.append(self.__s1.pop())\n",
        "        element = self.__s1[-1]\n",
        "        \n",
        "        while (len(self.__s2) !=0):\n",
        "            self.__s1.append(self.__s2.pop())\n",
        "            \n",
        "        return element\n",
        "    \n",
        "    def size(self):\n",
        "        return len(self.__s1)\n",
        "    \n",
        "    def isEmpty(self):\n",
        "        return self.size() == 0\n",
        "    \n",
        "q = Queue()\n",
        "q.enqueue(1)\n",
        "q.enqueue(2)\n",
        "q.enqueue(3)\n",
        "q.enqueue(4)\n",
        "print(q.front())\n",
        "while q.isEmpty() is False:\n",
        "    print(q.dequeue())\n",
        "        "
      ],
      "execution_count": 0,
      "outputs": [
        {
          "output_type": "stream",
          "text": [
            "1\n",
            "1\n",
            "2\n",
            "3\n",
            "4\n"
          ],
          "name": "stdout"
        }
      ]
    },
    {
      "cell_type": "markdown",
      "metadata": {
        "id": "k2jdjDmyrD8h",
        "colab_type": "text"
      },
      "source": [
        "# Reverse Queue"
      ]
    },
    {
      "cell_type": "code",
      "metadata": {
        "id": "tJf1TfqGrD8i",
        "colab_type": "code",
        "colab": {},
        "outputId": "77517363-6f5a-425c-bc87-060767e64981"
      },
      "source": [
        "#Given a queue of integers, reverse it without help of any explicit stack or queue. You need to change in the given queue itself.\n",
        "\n",
        "import queue\n",
        "\n",
        "def reverseQueue(q):\n",
        "    if q.qsize() < 1:\n",
        "        return\n",
        "    \n",
        "    element = q.get()\n",
        "    reverseQueue(q)\n",
        "    q.put(element)\n",
        "    return q \n",
        "\n",
        "q = queue.Queue()\n",
        "n =  int(input(\"Enter the no of elements : \"))\n",
        "for i in range(0, n):\n",
        "    element = int(input())\n",
        "    q.put(element)\n",
        "q = reverseQueue(q)    \n",
        "\n",
        "while q.empty() is False:\n",
        "    print(q.get(), end = \" \")"
      ],
      "execution_count": 0,
      "outputs": [
        {
          "output_type": "stream",
          "text": [
            "Enter the no of elements : 5\n",
            "1\n",
            "2\n",
            "3\n",
            "4\n",
            "5\n",
            "5 4 3 2 1 "
          ],
          "name": "stdout"
        }
      ]
    },
    {
      "cell_type": "markdown",
      "metadata": {
        "id": "FChK7AS7rD8z",
        "colab_type": "text"
      },
      "source": [
        "# Reverse first K elements"
      ]
    },
    {
      "cell_type": "code",
      "metadata": {
        "id": "s3bEulnorD81",
        "colab_type": "code",
        "colab": {},
        "outputId": "596e6436-81d2-4a05-8c02-c14e5ea70b5f"
      },
      "source": [
        "#Given a queue and an integer k, reverse first k elements. Return the updated queue.\n",
        "#Do the problem in O(n) complexity.\n",
        "\n",
        "import queue\n",
        "\n",
        "def kReverse(q, k):\n",
        "    n = q.qsize()\n",
        "    q2 = queue.Queue()\n",
        "    \n",
        "    for i in range(0,k):\n",
        "        q2.put(q.get())\n",
        "        \n",
        "    q2 = reverseQueue(q2)\n",
        "    \n",
        "    for i in range(0, k):\n",
        "        q.put(q2.get())\n",
        "    \n",
        "    for i in range(0,n-k):\n",
        "        q2.put(q.get())\n",
        "        \n",
        "    for i in range(0, n-k):\n",
        "        q.put(q2.get())\n",
        "        \n",
        "    return q\n",
        "\n",
        "def reverseQueue(q):\n",
        "    if q.qsize() < 1:\n",
        "        return\n",
        "    \n",
        "    element = q.get()\n",
        "    reverseQueue(q)\n",
        "    q.put(element)\n",
        "    return q \n",
        "\n",
        "q = queue.Queue()\n",
        "n =  int(input(\"Enter the no of elements : \"))\n",
        "for i in range(0, n):\n",
        "    element = int(input())\n",
        "    q.put(element)\n",
        "k =  int(input(\"Enter the value of k : \"))\n",
        "q = kReverse(q, k)    \n",
        "\n",
        "while q.empty() is False:\n",
        "    print(q.get(), end = \" \")"
      ],
      "execution_count": 0,
      "outputs": [
        {
          "output_type": "stream",
          "text": [
            "Enter the no of elements : 7\n",
            "1\n",
            "2\n",
            "3\n",
            "4\n",
            "5\n",
            "6\n",
            "7\n",
            "Enter the value of k : 4\n",
            "4 3 2 1 5 6 7 "
          ],
          "name": "stdout"
        }
      ]
    },
    {
      "cell_type": "code",
      "metadata": {
        "id": "-Kd4vLbwrD9J",
        "colab_type": "code",
        "colab": {}
      },
      "source": [
        ""
      ],
      "execution_count": 0,
      "outputs": []
    },
    {
      "cell_type": "code",
      "metadata": {
        "id": "mY5j7YzJrD9V",
        "colab_type": "code",
        "colab": {}
      },
      "source": [
        ""
      ],
      "execution_count": 0,
      "outputs": []
    }
  ]
}