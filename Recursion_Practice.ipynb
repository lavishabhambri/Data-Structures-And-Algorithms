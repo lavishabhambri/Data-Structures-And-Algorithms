{
  "nbformat": 4,
  "nbformat_minor": 0,
  "metadata": {
    "kernelspec": {
      "display_name": "Python 3",
      "language": "python",
      "name": "python3"
    },
    "language_info": {
      "codemirror_mode": {
        "name": "ipython",
        "version": 3
      },
      "file_extension": ".py",
      "mimetype": "text/x-python",
      "name": "python",
      "nbconvert_exporter": "python",
      "pygments_lexer": "ipython3",
      "version": "3.7.6"
    },
    "colab": {
      "name": "Recursion_Practice.ipynb",
      "provenance": [],
      "include_colab_link": true
    }
  },
  "cells": [
    {
      "cell_type": "markdown",
      "metadata": {
        "id": "view-in-github",
        "colab_type": "text"
      },
      "source": [
        "<a href=\"https://colab.research.google.com/github/lavishabhambri/Data-Structures-and-Algorithms/blob/master/Recursion_Practice.ipynb\" target=\"_parent\"><img src=\"https://colab.research.google.com/assets/colab-badge.svg\" alt=\"Open In Colab\"/></a>"
      ]
    },
    {
      "cell_type": "markdown",
      "metadata": {
        "id": "rK6ltp95I1Dn",
        "colab_type": "text"
      },
      "source": [
        "# Factorial of a number"
      ]
    },
    {
      "cell_type": "code",
      "metadata": {
        "id": "qRSxb-bMI1Dq",
        "colab_type": "code",
        "colab": {},
        "outputId": "761fdca2-0cbe-4370-e45b-35996828f9e8"
      },
      "source": [
        "def fact(n):\n",
        "    if(n==0):\n",
        "        return 1\n",
        "    else:\n",
        "        return n* fact(n-1)\n",
        "    \n",
        "print(fact(int(input())))\n",
        "    "
      ],
      "execution_count": 0,
      "outputs": [
        {
          "output_type": "stream",
          "text": [
            "8\n",
            "40320\n"
          ],
          "name": "stdout"
        }
      ]
    },
    {
      "cell_type": "markdown",
      "metadata": {
        "id": "CEUiOpZ0I1D3",
        "colab_type": "text"
      },
      "source": [
        "# Sum of first n natural numbers"
      ]
    },
    {
      "cell_type": "code",
      "metadata": {
        "id": "OVrNy3RYI1D4",
        "colab_type": "code",
        "colab": {},
        "outputId": "e7effcaa-5c29-4f6d-aed5-6e9d379c34ef"
      },
      "source": [
        "def sum(n):\n",
        "    if(n==0):\n",
        "        return 0\n",
        "    else:\n",
        "        return n + sum(n-1)\n",
        "    \n",
        "print(sum(int(input())))"
      ],
      "execution_count": 0,
      "outputs": [
        {
          "output_type": "stream",
          "text": [
            "6\n",
            "21\n"
          ],
          "name": "stdout"
        }
      ]
    },
    {
      "cell_type": "markdown",
      "metadata": {
        "id": "9IXMXprJI1D9",
        "colab_type": "text"
      },
      "source": [
        "# Power of a number"
      ]
    },
    {
      "cell_type": "code",
      "metadata": {
        "id": "XS02EEwgI1D_",
        "colab_type": "code",
        "colab": {},
        "outputId": "3687b386-a182-4641-9226-c7844506df07"
      },
      "source": [
        "def power(x,n):\n",
        "    if n==0:\n",
        "        return 1\n",
        "    else:\n",
        "        return x * power(x,n-1)\n",
        "\n",
        "x=int(input())\n",
        "n=int(input())\n",
        "print(power(x,n))"
      ],
      "execution_count": 0,
      "outputs": [
        {
          "output_type": "stream",
          "text": [
            "2\n",
            "3\n",
            "8\n"
          ],
          "name": "stdout"
        }
      ]
    },
    {
      "cell_type": "markdown",
      "metadata": {
        "id": "3S4sMSeHI1EE",
        "colab_type": "text"
      },
      "source": [
        "# print first natural numbers from 1 to n\n"
      ]
    },
    {
      "cell_type": "code",
      "metadata": {
        "id": "EZwqA0eAI1EG",
        "colab_type": "code",
        "colab": {},
        "outputId": "ffa0ca96-428e-490f-ea08-461a96b8593a"
      },
      "source": [
        "#INCREASING ORDER\n",
        "def print_1_to_n(n):\n",
        "    if n==0:\n",
        "        return\n",
        "    else:\n",
        "        print_1_to_n(n-1)\n",
        "    print(n)\n",
        "    \n",
        "print_1_to_n(9)"
      ],
      "execution_count": 0,
      "outputs": [
        {
          "output_type": "stream",
          "text": [
            "1\n",
            "2\n",
            "3\n",
            "4\n",
            "5\n",
            "6\n",
            "7\n",
            "8\n",
            "9\n"
          ],
          "name": "stdout"
        }
      ]
    },
    {
      "cell_type": "code",
      "metadata": {
        "id": "rSzTVWPuI1EN",
        "colab_type": "code",
        "colab": {},
        "outputId": "c5ba85b6-ed7b-4c32-86fb-67a1ff91751c"
      },
      "source": [
        "#DECREASING ORDER\n",
        "def print_n_to_1(n):\n",
        "    if n==0:\n",
        "        return \n",
        "    else:\n",
        "        print(n)\n",
        "        return print_n_to_1(n-1)\n",
        "    \n",
        "print_n_to_1(5)"
      ],
      "execution_count": 0,
      "outputs": [
        {
          "output_type": "stream",
          "text": [
            "5\n",
            "4\n",
            "3\n",
            "2\n",
            "1\n"
          ],
          "name": "stdout"
        }
      ]
    },
    {
      "cell_type": "markdown",
      "metadata": {
        "id": "Q-xk1ib6I1ES",
        "colab_type": "text"
      },
      "source": [
        "# Nth fibonacci number "
      ]
    },
    {
      "cell_type": "code",
      "metadata": {
        "id": "fYb6YIzgI1ET",
        "colab_type": "code",
        "colab": {},
        "outputId": "0ecdb207-2093-49c4-908d-520ef179f1a2"
      },
      "source": [
        "#1,1,2,3,5,8,13,21...\n",
        "\n",
        "def fib(n):\n",
        "    if n==1 or n==0:\n",
        "        return 1\n",
        "    else:\n",
        "        return fib(n-1) + fib(n-2)\n",
        "    \n",
        "print(fib(6))"
      ],
      "execution_count": 0,
      "outputs": [
        {
          "output_type": "stream",
          "text": [
            "13\n"
          ],
          "name": "stdout"
        }
      ]
    },
    {
      "cell_type": "markdown",
      "metadata": {
        "id": "ns32f0kGI1EZ",
        "colab_type": "text"
      },
      "source": [
        "# Check whether a list is sorted or not"
      ]
    },
    {
      "cell_type": "code",
      "metadata": {
        "id": "dBnAYkDNI1Ea",
        "colab_type": "code",
        "colab": {},
        "outputId": "49aace66-9374-4aa2-fdcb-6d741c3418f5"
      },
      "source": [
        "#BY MAKING COPY OF ARRAY\n",
        "\n",
        "list=[1,2,3,9,4,5]\n",
        "\n",
        "def isSorted(list):\n",
        "    l = len(list)\n",
        "    if l==0 or l==1:\n",
        "        return True\n",
        "    \n",
        "    if list[0] >  list[1]:\n",
        "        return False\n",
        "    \n",
        "    \n",
        "    smaller_list = list[1: ]\n",
        "    isSmallerListSorted = isSorted(smaller_list)\n",
        "    if isSmallerListSorted:\n",
        "        return isSmallerListSorted\n",
        "    else:\n",
        "        return False\n",
        "    \n",
        "print(isSorted(list))"
      ],
      "execution_count": 0,
      "outputs": [
        {
          "output_type": "stream",
          "text": [
            "False\n"
          ],
          "name": "stdout"
        }
      ]
    },
    {
      "cell_type": "code",
      "metadata": {
        "id": "H3eIPXY9I1Ef",
        "colab_type": "code",
        "colab": {},
        "outputId": "6a16a602-7491-4c75-b946-ef1b6f7f20d7"
      },
      "source": [
        "#WITHOUT MAKING COPY OF ARRAY\n",
        "\n",
        "list=[1,2,3,9,4,5]\n",
        "\n",
        "def isSortedBetter(list, si):\n",
        "    l = len(list)\n",
        "    if si == l or si== l-1:\n",
        "        return True\n",
        "    if list[si] > list[si+1]:\n",
        "        return False\n",
        "    \n",
        "    isSmallerSortedBetter = isSortedBetter(list,si+1)\n",
        "    if isSmallerSortedBetter:\n",
        "        return True\n",
        "    else:\n",
        "        return False\n",
        "\n",
        "print(isSortedBetter(list,0))"
      ],
      "execution_count": 0,
      "outputs": [
        {
          "output_type": "stream",
          "text": [
            "False\n"
          ],
          "name": "stdout"
        }
      ]
    },
    {
      "cell_type": "markdown",
      "metadata": {
        "id": "FRM2G8jTI1Ek",
        "colab_type": "text"
      },
      "source": [
        "# First Index of a number"
      ]
    },
    {
      "cell_type": "code",
      "metadata": {
        "id": "kpqxfUIdI1El",
        "colab_type": "code",
        "colab": {},
        "outputId": "ff5672e7-ca91-4c27-d7ee-ad1dec308954"
      },
      "source": [
        "#TO FIND THE FIRST OCCURENCE OF A NUMBER\n",
        "#with copying\n",
        " \n",
        "def ocurrence(list):\n",
        "    l=len(list)\n",
        "    \n",
        "    if l==0:\n",
        "        return -1\n",
        "    if list[0]==x:\n",
        "        return 0\n",
        "    \n",
        "    smaller_list= list[1: ]\n",
        "    smaller_ocurrence = ocurrence(smaller_list)\n",
        "    if smaller_ocurrence == -1:\n",
        "        return -1\n",
        "    else:\n",
        "        return smaller_ocurrence+1\n",
        "    \n",
        "list=[1,2,3,4,2,1,3,5]\n",
        "x=2\n",
        "print(ocurrence(list))\n"
      ],
      "execution_count": 0,
      "outputs": [
        {
          "output_type": "stream",
          "text": [
            "1\n"
          ],
          "name": "stdout"
        }
      ]
    },
    {
      "cell_type": "code",
      "metadata": {
        "id": "vhas2R71I1Ep",
        "colab_type": "code",
        "colab": {},
        "outputId": "5fc286b2-23b7-4933-e9cc-c97c5fbfc2bf"
      },
      "source": [
        "#TO FIND THE FIRST OCCURENCE OF A NUMBER\n",
        "#without copying\n",
        "\n",
        "def ocurrence(list,si):\n",
        "    l = len(list)\n",
        "    \n",
        "    if si == l:\n",
        "        return -1\n",
        "    if list[si] == x:\n",
        "        return si\n",
        "    \n",
        "    ocurrence_smaller = ocurrence(list,si+1)\n",
        "    if ocurrence_smaller:\n",
        "        return ocurrence_smaller\n",
        "\n",
        "list=[1,2,3,4,2,1,3,5]\n",
        "x=2\n",
        "print(ocurrence(list,0))"
      ],
      "execution_count": 0,
      "outputs": [
        {
          "output_type": "stream",
          "text": [
            "1\n"
          ],
          "name": "stdout"
        }
      ]
    },
    {
      "cell_type": "markdown",
      "metadata": {
        "id": "Iy2nnoV6I1Eu",
        "colab_type": "text"
      },
      "source": [
        "# Last index of a number"
      ]
    },
    {
      "cell_type": "code",
      "metadata": {
        "id": "eZNJPhe1I1Ev",
        "colab_type": "code",
        "colab": {},
        "outputId": "772d203e-ce03-4732-fd55-45fdde18783f"
      },
      "source": [
        "#TO FIND THE LAST OCCURENCE OF A NUMBER\n",
        "#with copying\n",
        "\n",
        "def ocurrence(list,x):\n",
        "    l = len(list)\n",
        "    if l==0:\n",
        "        return -1\n",
        "    \n",
        "    smaller_list = list[1: ]\n",
        "    smallerListOutput = ocurrence(smaller_list, x)\n",
        "    if smallerListOutput != -1:\n",
        "        return smallerListOutput + 1\n",
        "    else:\n",
        "        if list[0] == x:\n",
        "            return 0\n",
        "        else :\n",
        "            return -1\n",
        "list = [1,2,3,4,5,6,2,4,4]\n",
        "k= ocurrence(list,4)\n",
        "print(k)        \n",
        "    \n",
        "    "
      ],
      "execution_count": 0,
      "outputs": [
        {
          "output_type": "stream",
          "text": [
            "8\n"
          ],
          "name": "stdout"
        }
      ]
    },
    {
      "cell_type": "code",
      "metadata": {
        "id": "ETB5cNKUI1E0",
        "colab_type": "code",
        "colab": {},
        "outputId": "cda16190-b252-4fc2-ae90-19dc2bb19d99"
      },
      "source": [
        "#TO FIND THE LAST OCCURENCE OF A NUMBER\n",
        "#without copying\n",
        "\n",
        "def ocurrenceBetter(list,si,x):\n",
        "    l = len(list)\n",
        "    if si==l:\n",
        "        return -1\n",
        "    \n",
        "    smallerListOutput = ocurrenceBetter(list,si+1,x)\n",
        "    if smallerListOutput != -1:\n",
        "        return smallerListOutput\n",
        "    else:\n",
        "        if list[si] == x:\n",
        "            return si\n",
        "        else:\n",
        "            return -1\n",
        "        \n",
        "list = [1,2,3,4,5,6,2,4,4]\n",
        "k= ocurrenceBetter(list, 0 ,4)\n",
        "print(k)        \n",
        "        "
      ],
      "execution_count": 0,
      "outputs": [
        {
          "output_type": "stream",
          "text": [
            "8\n"
          ],
          "name": "stdout"
        }
      ]
    },
    {
      "cell_type": "markdown",
      "metadata": {
        "id": "k42Xcm_uI1E5",
        "colab_type": "text"
      },
      "source": [
        "# Recursion with strings"
      ]
    },
    {
      "cell_type": "code",
      "metadata": {
        "id": "NE-DCvd8I1E5",
        "colab_type": "code",
        "colab": {},
        "outputId": "23e49fa6-6c5c-4a95-bd18-82868478b4b0"
      },
      "source": [
        "#TO REPLACE A CHARACTER WITH ANOTHER CHARACTER IN A STRING\n",
        "def replaceChar(s,a,b):\n",
        "    if len(s) == 0:\n",
        "        return s\n",
        "    \n",
        "    smallOutput = replaceChar(s[1: ],a,b)\n",
        "    if s[0] == a:\n",
        "        return b + smallOutput\n",
        "    else:\n",
        "        return s[0] + smallOutput\n",
        "    \n",
        "print(replaceChar(\"dacdxcd\" ,\"c\", \"x\"))"
      ],
      "execution_count": 0,
      "outputs": [
        {
          "output_type": "stream",
          "text": [
            "daxdxxd\n"
          ],
          "name": "stdout"
        }
      ]
    },
    {
      "cell_type": "code",
      "metadata": {
        "id": "GCfFrQe0I1E-",
        "colab_type": "code",
        "colab": {},
        "outputId": "e22ed812-8193-4d0a-ce4d-1a7cbef4915d"
      },
      "source": [
        "#TO REPLACE \"PI\" WITH 3.14 IN A STRING\n",
        "\n",
        "def replacePi(s):\n",
        "    if len(s) == 0 or len(s) == 1:\n",
        "        return s\n",
        "    \n",
        "    if s[0]==\"p\" and s[1]==\"i\":\n",
        "        small_output = replacePi(s[2: ])\n",
        "        return \"3.14\" + small_output\n",
        "    else:\n",
        "        small_output = replacePi(s[1: ])\n",
        "        return s[0] + small_output\n",
        "    \n",
        "print(replacePi(\"pipipppabcpippi\"))"
      ],
      "execution_count": 0,
      "outputs": [
        {
          "output_type": "stream",
          "text": [
            "3.143.14pppabc3.14p3.14\n"
          ],
          "name": "stdout"
        }
      ]
    },
    {
      "cell_type": "code",
      "metadata": {
        "id": "4VYGKEGwI1FC",
        "colab_type": "code",
        "colab": {},
        "outputId": "bb2ce20b-2136-47e4-8f1a-ea53d5fa8d5a"
      },
      "source": [
        "#Given a string S, remove consecutive duplicates from it recursively.\n",
        "\n",
        "def replaceConsecutive(s):\n",
        "    if len(s)==1:\n",
        "        return s\n",
        "    \n",
        "    small_output = replaceConsecutive(s[1: ])\n",
        "    if s[0]==s[1]:\n",
        "        return small_output\n",
        "    else:\n",
        "        return s[0] +small_output\n",
        "    \n",
        "print(replaceConsecutive(\"aaabbbcc\"))"
      ],
      "execution_count": 0,
      "outputs": [
        {
          "output_type": "stream",
          "text": [
            "abc\n"
          ],
          "name": "stdout"
        }
      ]
    },
    {
      "cell_type": "markdown",
      "metadata": {
        "id": "KB-GlglBI1FI",
        "colab_type": "text"
      },
      "source": [
        "# Binary Search using Recursion"
      ]
    },
    {
      "cell_type": "code",
      "metadata": {
        "id": "2JC5FrI9I1FJ",
        "colab_type": "code",
        "colab": {},
        "outputId": "e1c11b28-e124-410d-891a-e207c0d158c8"
      },
      "source": [
        "def binarySearch(list,x,si,ei):\n",
        "    if (si>ei):\n",
        "        return -1\n",
        "    \n",
        "    mid = (si+ei)//2\n",
        "    if list[mid] == x:\n",
        "        return mid\n",
        "    elif list[mid] > x:\n",
        "        return binarySearch(list,x,si,mid-1)\n",
        "    else:\n",
        "        return binarySearch(list,x,mid+1,ei)\n",
        "\n",
        "#array has to be sorted\n",
        "list=[1,2,3,4,5,6,7,8]\n",
        "x=4\n",
        "print(binarySearch(list,x,0,len(list)-1))"
      ],
      "execution_count": 0,
      "outputs": [
        {
          "output_type": "stream",
          "text": [
            "3\n"
          ],
          "name": "stdout"
        }
      ]
    },
    {
      "cell_type": "markdown",
      "metadata": {
        "id": "JOebr9IgI1FO",
        "colab_type": "text"
      },
      "source": [
        "# Merge Sort "
      ]
    },
    {
      "cell_type": "code",
      "metadata": {
        "id": "CO1-3t_bI1FP",
        "colab_type": "code",
        "colab": {},
        "outputId": "b7529635-d83a-4f9e-b36f-628f862942e3"
      },
      "source": [
        "def merge(a1, a2, a):\n",
        "    i = 0\n",
        "    j = 0\n",
        "    k = 0\n",
        "    \n",
        "    while (i<len(a1) and j<len(a2)):\n",
        "        if(a1[i] < a2[j]):\n",
        "            a[k] = a1[i]\n",
        "            k = k + 1\n",
        "            i = i + 1\n",
        "        else:\n",
        "            a[k] = a2[j]\n",
        "            k = k + 1\n",
        "            j = j + 1\n",
        "            \n",
        "    while (i<len(a1)):\n",
        "        a[k] = a1[i]\n",
        "        k = k + 1\n",
        "        i = i + 1\n",
        "        \n",
        "    while (j<len(a2)):\n",
        "        a[k] = a2[j]\n",
        "        k = k + 1\n",
        "        j = j + 1\n",
        "        \n",
        "    \n",
        "def mergeSort(a):\n",
        "    if len(a) == 0 or len(a) == 1:\n",
        "        return\n",
        "    \n",
        "    mid= len(a)//2\n",
        "    a1 = a[0 : mid]\n",
        "    a2 = a[mid :  ]\n",
        "    \n",
        "    mergeSort(a1)\n",
        "    mergeSort(a2)\n",
        "    \n",
        "    merge(a1, a2, a)\n",
        " \n",
        "\n",
        "t = [10,5,3,1,7,9,4]\n",
        "mergeSort(t)\n",
        "print(t)"
      ],
      "execution_count": 0,
      "outputs": [
        {
          "output_type": "stream",
          "text": [
            "[1, 3, 4, 5, 7, 9, 10]\n"
          ],
          "name": "stdout"
        }
      ]
    },
    {
      "cell_type": "markdown",
      "metadata": {
        "id": "XZ6MxX_DI1FT",
        "colab_type": "text"
      },
      "source": [
        "# Quick Sort"
      ]
    },
    {
      "cell_type": "code",
      "metadata": {
        "id": "Jf_8k7inI1FU",
        "colab_type": "code",
        "colab": {},
        "outputId": "f91ee1fe-c6e9-4fda-b4cf-8432b5902f2e"
      },
      "source": [
        "def quickSort(a, si, ei):\n",
        "    if si>=ei:\n",
        "        return\n",
        "    \n",
        "    pivot_index = partition(a, si, ei)\n",
        "\n",
        "    quickSort(a, si, pivot_index -1)\n",
        "    quickSort(a, pivot_index + 1, ei)\n",
        "    \n",
        "def partition(a, si, ei):\n",
        "    pivot = a[si]\n",
        "    \n",
        "    #finding no of elements smaller than pivot\n",
        "    count = 0\n",
        "    for i in range(si, ei+1):\n",
        "        if a[i] < pivot:\n",
        "            count = count + 1\n",
        "            \n",
        "    #move the pivot to the right by count no of positions\n",
        "    a[si+count], a[si] = a[si], a[si+count]\n",
        "    \n",
        "    pivot_index = si+count\n",
        "    \n",
        "    #putting all elements to their right positions\n",
        "    i = si\n",
        "    j = ei\n",
        "    while (i<j):\n",
        "        if a[i] < pivot:\n",
        "            i = i + 1\n",
        "        elif a[j] >= pivot:\n",
        "            j = j - 1\n",
        "        else:\n",
        "            a[i], a[j] = a[j], a[i]\n",
        "            i = i + 1\n",
        "            j = j - 1\n",
        "            \n",
        "    return pivot_index\n",
        "\n",
        "a = [1,5,4,2,9,10,7,3,9,2]\n",
        "quickSort(a, 0, len(a)-1)\n",
        "print(a)"
      ],
      "execution_count": 0,
      "outputs": [
        {
          "output_type": "stream",
          "text": [
            "[1, 2, 2, 3, 4, 5, 7, 9, 9, 10]\n"
          ],
          "name": "stdout"
        }
      ]
    },
    {
      "cell_type": "markdown",
      "metadata": {
        "id": "d-QQGLYPI1FY",
        "colab_type": "text"
      },
      "source": [
        "# Tower Of Hanoi"
      ]
    },
    {
      "cell_type": "code",
      "metadata": {
        "id": "HqrsyPfWI1FZ",
        "colab_type": "code",
        "colab": {},
        "outputId": "91bd6911-317c-47a5-ff61-821487880d33"
      },
      "source": [
        "def tower_hanoi(n, a, b, c):\n",
        "    if n==1:\n",
        "        print(\"Move the 1st disc from \" +a+ \" to \" +c)\n",
        "        return\n",
        "    \n",
        "    tower_hanoi(n-1, a, c, b)\n",
        "    print(\"Move the \" +str(n)+ \" disc from \" +a+ \" to \" +c)\n",
        "    \n",
        "    tower_hanoi(n-1, b, a, c)\n",
        "    \n",
        "tower_hanoi(4,\"a\",\"b\",\"c\")"
      ],
      "execution_count": 0,
      "outputs": [
        {
          "output_type": "stream",
          "text": [
            "Move the 1st disc from a to b\n",
            "Move the 2 disc from a to c\n",
            "Move the 1st disc from b to c\n",
            "Move the 3 disc from a to b\n",
            "Move the 1st disc from c to a\n",
            "Move the 2 disc from c to b\n",
            "Move the 1st disc from a to b\n",
            "Move the 4 disc from a to c\n",
            "Move the 1st disc from b to c\n",
            "Move the 2 disc from b to a\n",
            "Move the 1st disc from c to a\n",
            "Move the 3 disc from b to c\n",
            "Move the 1st disc from a to b\n",
            "Move the 2 disc from a to c\n",
            "Move the 1st disc from b to c\n"
          ],
          "name": "stdout"
        }
      ]
    },
    {
      "cell_type": "markdown",
      "metadata": {
        "id": "C-BxM07AI1Fd",
        "colab_type": "text"
      },
      "source": [
        "# Geometric Sum"
      ]
    },
    {
      "cell_type": "code",
      "metadata": {
        "id": "72tRIup3I1Fe",
        "colab_type": "code",
        "colab": {},
        "outputId": "d548fd43-4d18-4995-9193-d324b50586b9"
      },
      "source": [
        "#Given k, find the geometric sum i.e.\n",
        "# 1 + 1/2 + 1/4 + 1/8 + ... + 1/(2^k) \n",
        "\n",
        "def geometricSum(n):\n",
        "    if n ==0:\n",
        "        return 1\n",
        "    \n",
        "    return geometricSum(n-1) + 0.5**n\n",
        "     \n",
        "    \n",
        "k= geometricSum(3)\n",
        "print(k)\n",
        "        "
      ],
      "execution_count": 0,
      "outputs": [
        {
          "output_type": "stream",
          "text": [
            "1.875\n"
          ],
          "name": "stdout"
        }
      ]
    },
    {
      "cell_type": "markdown",
      "metadata": {
        "id": "DNkQR7EgI1Fi",
        "colab_type": "text"
      },
      "source": [
        "# Check Palindrome(recursive)"
      ]
    },
    {
      "cell_type": "code",
      "metadata": {
        "id": "PL4Bv5mSI1Fj",
        "colab_type": "code",
        "colab": {},
        "outputId": "543bd16f-4439-4542-dde9-8f4c569e4359"
      },
      "source": [
        "#Check whether a given String S is a palindrome using recursion. Return true or false.\n",
        "\n",
        "def recursive(a, si, ei):\n",
        "    if (si == ei) :  #for only one character\n",
        "        return True\n",
        "    \n",
        "    if (a[si] != a[ei]):\n",
        "        return False\n",
        "    else:\n",
        "        if (si < ei+1):\n",
        "            return recursive(a, si+1, ei-1)\n",
        "    \n",
        "    return True\n",
        "\n",
        "a = \"racecar\"\n",
        "recursive(a,0,len(a)-1)\n",
        "    "
      ],
      "execution_count": 0,
      "outputs": [
        {
          "output_type": "execute_result",
          "data": {
            "text/plain": [
              "True"
            ]
          },
          "metadata": {
            "tags": []
          },
          "execution_count": 21
        }
      ]
    },
    {
      "cell_type": "markdown",
      "metadata": {
        "id": "hrSKAt26I1Fp",
        "colab_type": "text"
      },
      "source": [
        "# Sum of digits (recursive)"
      ]
    },
    {
      "cell_type": "code",
      "metadata": {
        "id": "Igd8K_iCI1Fq",
        "colab_type": "code",
        "colab": {},
        "outputId": "0c455457-37fd-43b8-8c04-1a93213070b4"
      },
      "source": [
        "#Write a recursive function that returns the sum of the digits of a given integer.\n",
        "\n",
        "def sumDigits(a):\n",
        "    if a<10:\n",
        "        return a\n",
        "    \n",
        "    return sumDigits(a//10) + a%10\n",
        "\n",
        "sumDigits(678)"
      ],
      "execution_count": 0,
      "outputs": [
        {
          "output_type": "execute_result",
          "data": {
            "text/plain": [
              "21"
            ]
          },
          "metadata": {
            "tags": []
          },
          "execution_count": 25
        }
      ]
    },
    {
      "cell_type": "markdown",
      "metadata": {
        "id": "jOGk3qphI1Fv",
        "colab_type": "text"
      },
      "source": [
        "# Multiplication (Recursive)"
      ]
    },
    {
      "cell_type": "code",
      "metadata": {
        "id": "X7NI65duI1Fv",
        "colab_type": "code",
        "colab": {},
        "outputId": "a10be147-07c6-4a03-b59b-5c11524e0c41"
      },
      "source": [
        "#Given two integers M & N, calculate and return their multiplication using recursion. You can only use subtraction and addition for your calculation. No other operators are allowed.\n",
        "\n",
        "def multiplication(a, b):\n",
        "    if a == 0 or b==0:\n",
        "        return 0\n",
        "    elif a==1 :\n",
        "        return b\n",
        "    \n",
        "    return multiplication(a-1, b)+ b\n",
        "\n",
        "multiplication(3,2)"
      ],
      "execution_count": 0,
      "outputs": [
        {
          "output_type": "execute_result",
          "data": {
            "text/plain": [
              "6"
            ]
          },
          "metadata": {
            "tags": []
          },
          "execution_count": 27
        }
      ]
    },
    {
      "cell_type": "markdown",
      "metadata": {
        "id": "KwxBlty-I1F2",
        "colab_type": "text"
      },
      "source": [
        "# Count Zeros"
      ]
    },
    {
      "cell_type": "code",
      "metadata": {
        "id": "_lepLQT3I1F3",
        "colab_type": "code",
        "colab": {},
        "outputId": "8e456818-b9a5-4a54-efe0-b5f6debee45f"
      },
      "source": [
        "#Given an integer N, count and return the number of zeros that are present in the given integer using recursion.\n",
        "\n",
        "def countZeros(n):\n",
        "    if n == 0:\n",
        "        return 0\n",
        "    \n",
        "    count = 0\n",
        "    if n%10 == 0:\n",
        "        count = count+1\n",
        "    return count + countZeros(n//10)\n",
        "        \n",
        "    \n",
        "countZeros(1000)"
      ],
      "execution_count": 0,
      "outputs": [
        {
          "output_type": "execute_result",
          "data": {
            "text/plain": [
              "3"
            ]
          },
          "metadata": {
            "tags": []
          },
          "execution_count": 39
        }
      ]
    },
    {
      "cell_type": "markdown",
      "metadata": {
        "id": "U_H_tc0QI1F7",
        "colab_type": "text"
      },
      "source": [
        "# String to Integer"
      ]
    },
    {
      "cell_type": "code",
      "metadata": {
        "id": "IOjY9l3aI1F8",
        "colab_type": "code",
        "colab": {},
        "outputId": "072df41a-f2dd-4b0c-ddff-bf238281dc3f"
      },
      "source": [
        "#Write a recursive function to convert a given string into the number it represents. That is input will be a numeric string that contains only numbers, you need to convert the string into corresponding integer and return the answer.\n",
        "\n",
        "def stringToNum(s, si, ei):\n",
        "    if si > ei:\n",
        "        return \"\"\n",
        "    print(int(s[si]),end=\"\")\n",
        "    stringToNum(s, si+1, ei )\n",
        "\n",
        "s = \"1234\"\n",
        "stringToNum(s,0,len(s)-1)\n"
      ],
      "execution_count": 0,
      "outputs": [
        {
          "output_type": "stream",
          "text": [
            "1234"
          ],
          "name": "stdout"
        }
      ]
    },
    {
      "cell_type": "markdown",
      "metadata": {
        "id": "EiOXs6plI1GC",
        "colab_type": "text"
      },
      "source": [
        "# Pair star"
      ]
    },
    {
      "cell_type": "code",
      "metadata": {
        "id": "SPUxgritI1GC",
        "colab_type": "code",
        "colab": {},
        "outputId": "f69744fe-1a6b-4881-9400-c93c3b08d338"
      },
      "source": [
        "#Given a string S, compute recursively a new string where identical chars that are adjacent in the original string are separated from each other by a \"*\".\n",
        "\n",
        "def change(s):\n",
        "    if len(s) == 1:\n",
        "        return s\n",
        "    \n",
        "    smallerString = s[1: ]\n",
        "    if s[1] == s[0]:\n",
        "        smallerOutput = s[0] +\"*\" \n",
        "        \n",
        "    else:\n",
        "        smallerOutput = s[0] \n",
        "        \n",
        "    return smallerOutput + change(smallerString)\n",
        "    \n",
        "\n",
        "change(\"aaaa\")"
      ],
      "execution_count": 0,
      "outputs": [
        {
          "output_type": "execute_result",
          "data": {
            "text/plain": [
              "'a*a*a*a'"
            ]
          },
          "metadata": {
            "tags": []
          },
          "execution_count": 22
        }
      ]
    },
    {
      "cell_type": "markdown",
      "metadata": {
        "id": "7KKpauygI1GG",
        "colab_type": "text"
      },
      "source": [
        "# Check AB"
      ]
    },
    {
      "cell_type": "code",
      "metadata": {
        "id": "R77t2NDvI1GH",
        "colab_type": "code",
        "colab": {},
        "outputId": "7cf224ca-a7f1-45d0-b863-58ca9e96be7d"
      },
      "source": [
        "#Suppose a string S is made of only \"a\"s and 'b's.Write a recursive program to check whether the string is made using the following rules:\n",
        "# 1. The string begins with an 'a'\n",
        "# 2. Each 'a' is followed by nothing or an 'a' or 'bb'\n",
        "# 3. Each 'bb' is followed by nothing or an 'a'\n",
        "\n",
        "def checkString(s):\n",
        "    if len(s) == 0 :\n",
        "        return False\n",
        "    \n",
        "    #if s[0] == 'a':\n",
        "        #return True\n",
        "    \n",
        "    \n",
        "    \n",
        "    if (len(s)>=3):\n",
        "        \n",
        "        if s[0] == 'a':\n",
        "            if s[1]==None :\n",
        "                return True\n",
        "\n",
        "            elif s[1] =='a':\n",
        "                smallerString = s[2: ]\n",
        "                return checkString(smallerString)\n",
        "\n",
        "            elif s[1] == s[2] and s[1] =='b':\n",
        "                if s[3] == None:\n",
        "                    return True\n",
        "\n",
        "                elif s[3] == 'a':\n",
        "                    smallerString =s[4: ]\n",
        "                    return checkString(smallerString)\n",
        "            else:\n",
        "                return False\n",
        "            #return checkString(smallerString)\n",
        "\n",
        "                \n",
        "            \n",
        "        \n",
        "            \n",
        "checkString(\"abb\")   "
      ],
      "execution_count": 0,
      "outputs": [
        {
          "output_type": "error",
          "ename": "IndexError",
          "evalue": "string index out of range",
          "traceback": [
            "\u001b[1;31m---------------------------------------------------------------------------\u001b[0m",
            "\u001b[1;31mIndexError\u001b[0m                                Traceback (most recent call last)",
            "\u001b[1;32m<ipython-input-42-1e443697d8a0>\u001b[0m in \u001b[0;36m<module>\u001b[1;34m\u001b[0m\n\u001b[0;32m     38\u001b[0m \u001b[1;33m\u001b[0m\u001b[0m\n\u001b[0;32m     39\u001b[0m \u001b[1;33m\u001b[0m\u001b[0m\n\u001b[1;32m---> 40\u001b[1;33m \u001b[0mcheckString\u001b[0m\u001b[1;33m(\u001b[0m\u001b[1;34m\"abb\"\u001b[0m\u001b[1;33m)\u001b[0m\u001b[1;33m\u001b[0m\u001b[1;33m\u001b[0m\u001b[0m\n\u001b[0m",
            "\u001b[1;32m<ipython-input-42-1e443697d8a0>\u001b[0m in \u001b[0;36mcheckString\u001b[1;34m(s)\u001b[0m\n\u001b[0;32m     24\u001b[0m \u001b[1;33m\u001b[0m\u001b[0m\n\u001b[0;32m     25\u001b[0m             \u001b[1;32melif\u001b[0m \u001b[0ms\u001b[0m\u001b[1;33m[\u001b[0m\u001b[1;36m1\u001b[0m\u001b[1;33m]\u001b[0m \u001b[1;33m==\u001b[0m \u001b[0ms\u001b[0m\u001b[1;33m[\u001b[0m\u001b[1;36m2\u001b[0m\u001b[1;33m]\u001b[0m \u001b[1;32mand\u001b[0m \u001b[0ms\u001b[0m\u001b[1;33m[\u001b[0m\u001b[1;36m1\u001b[0m\u001b[1;33m]\u001b[0m \u001b[1;33m==\u001b[0m\u001b[1;34m'b'\u001b[0m\u001b[1;33m:\u001b[0m\u001b[1;33m\u001b[0m\u001b[1;33m\u001b[0m\u001b[0m\n\u001b[1;32m---> 26\u001b[1;33m                 \u001b[1;32mif\u001b[0m \u001b[0ms\u001b[0m\u001b[1;33m[\u001b[0m\u001b[1;36m3\u001b[0m\u001b[1;33m]\u001b[0m \u001b[1;33m==\u001b[0m \u001b[1;32mNone\u001b[0m\u001b[1;33m:\u001b[0m\u001b[1;33m\u001b[0m\u001b[1;33m\u001b[0m\u001b[0m\n\u001b[0m\u001b[0;32m     27\u001b[0m                     \u001b[1;32mreturn\u001b[0m \u001b[1;32mTrue\u001b[0m\u001b[1;33m\u001b[0m\u001b[1;33m\u001b[0m\u001b[0m\n\u001b[0;32m     28\u001b[0m \u001b[1;33m\u001b[0m\u001b[0m\n",
            "\u001b[1;31mIndexError\u001b[0m: string index out of range"
          ]
        }
      ]
    },
    {
      "cell_type": "code",
      "metadata": {
        "id": "kUlvlBC3I1GO",
        "colab_type": "code",
        "colab": {},
        "outputId": "065cd0b1-ca1e-4425-aa05-32cd4dbde676"
      },
      "source": [
        "def num_steps(n):\n",
        "    if n==0 or n==1:\n",
        "        return 1\n",
        "    if n==2:\n",
        "        return 2\n",
        "    else:\n",
        "        return num_steps(n-1) + num_steps(n-2) +  num_steps(n-3)\n",
        "    \n",
        "num_steps(4)"
      ],
      "execution_count": 0,
      "outputs": [
        {
          "output_type": "execute_result",
          "data": {
            "text/plain": [
              "7"
            ]
          },
          "metadata": {
            "tags": []
          },
          "execution_count": 44
        }
      ]
    }
  ]
}