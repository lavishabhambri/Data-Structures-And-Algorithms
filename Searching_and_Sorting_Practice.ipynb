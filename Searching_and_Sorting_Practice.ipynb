{
  "nbformat": 4,
  "nbformat_minor": 0,
  "metadata": {
    "kernelspec": {
      "display_name": "Python 3",
      "language": "python",
      "name": "python3"
    },
    "language_info": {
      "codemirror_mode": {
        "name": "ipython",
        "version": 3
      },
      "file_extension": ".py",
      "mimetype": "text/x-python",
      "name": "python",
      "nbconvert_exporter": "python",
      "pygments_lexer": "ipython3",
      "version": "3.7.6"
    },
    "colab": {
      "name": "Searching and Sorting_Practice.ipynb",
      "provenance": [],
      "include_colab_link": true
    }
  },
  "cells": [
    {
      "cell_type": "markdown",
      "metadata": {
        "id": "view-in-github",
        "colab_type": "text"
      },
      "source": [
        "<a href=\"https://colab.research.google.com/github/lavishabhambri/Data-Structures-and-Algorithms/blob/master/Searching_and_Sorting_Practice.ipynb\" target=\"_parent\"><img src=\"https://colab.research.google.com/assets/colab-badge.svg\" alt=\"Open In Colab\"/></a>"
      ]
    },
    {
      "cell_type": "markdown",
      "metadata": {
        "id": "qebg1jaOphJQ",
        "colab_type": "text"
      },
      "source": [
        "# SEARCHING AND SORTING"
      ]
    },
    {
      "cell_type": "markdown",
      "metadata": {
        "id": "y7-h8IyMphJS",
        "colab_type": "text"
      },
      "source": [
        "# Binary Sort"
      ]
    },
    {
      "cell_type": "code",
      "metadata": {
        "id": "7B-DCmKnphJU",
        "colab_type": "code",
        "colab": {},
        "outputId": "f64ac98d-5818-44f7-f8c5-4d2f163e3e7e"
      },
      "source": [
        "#Given a sorted integer array (in ascending order) and an element \"VAL\". You need to search this element \"VAL\" in the given input array using Binary Search. Return the index of element in the input.\n",
        "#Indexing starts from 0.\n",
        "#Return -1 if \"VAL\" is not present in the input array.\n",
        "\n",
        "\n",
        "def binarySearch(arr,element):\n",
        "    start=0\n",
        "    end=len(arr)-1\n",
        "    while(start<=end):\n",
        "        mid=(start+end)//2\n",
        "        \n",
        "        if(arr[mid]== element):\n",
        "            return mid\n",
        "        elif(arr[mid]<element):\n",
        "            start=mid+1\n",
        "        else:\n",
        "            end=mid-1\n",
        "            \n",
        "    return -1\n",
        "\n",
        "\n",
        "\n",
        "arr=[1,2,3,4,55,70,78,88,90,93,95]\n",
        "\n",
        "val=int(input(\"Enter the element you want to search\"))\n",
        "\n",
        "index=binarySearch(arr,val)\n",
        "print(index)\n",
        "    "
      ],
      "execution_count": 0,
      "outputs": [
        {
          "output_type": "stream",
          "text": [
            "Enter the element you want to search93\n",
            "9\n"
          ],
          "name": "stdout"
        }
      ]
    },
    {
      "cell_type": "markdown",
      "metadata": {
        "id": "pdybhFf4phJd",
        "colab_type": "text"
      },
      "source": [
        "# Selection Sort"
      ]
    },
    {
      "cell_type": "code",
      "metadata": {
        "id": "8Qc2nHSIphJf",
        "colab_type": "code",
        "colab": {},
        "outputId": "d6f28ea4-a5ff-450b-e7e0-e94216073c1e"
      },
      "source": [
        "def selectionSort(arr):\n",
        "    length=len(arr)\n",
        "    for i in range(length-1):\n",
        "        min_index=i\n",
        "        for j in range(i+1,length):\n",
        "            if(arr[j]<arr[min_index]):\n",
        "                min_index=j\n",
        "        arr[i],arr[min_index]=arr[min_index],arr[i]\n",
        "        \n",
        "arr=[1,3,2,4,6,1,0,5,7]\n",
        "selectionSort(arr)\n",
        "print(arr)"
      ],
      "execution_count": 0,
      "outputs": [
        {
          "output_type": "stream",
          "text": [
            "[0, 1, 1, 2, 3, 4, 5, 6, 7]\n"
          ],
          "name": "stdout"
        }
      ]
    },
    {
      "cell_type": "markdown",
      "metadata": {
        "id": "r5W9gainphJn",
        "colab_type": "text"
      },
      "source": [
        "# Bubble Sort"
      ]
    },
    {
      "cell_type": "code",
      "metadata": {
        "id": "mZkULrJ6phJp",
        "colab_type": "code",
        "colab": {},
        "outputId": "14cd3bdd-72e8-4a23-c039-ea4ee20ea89a"
      },
      "source": [
        "def bubbleSort(arr):\n",
        "    length=len(arr)\n",
        "    for i in range(length-1):\n",
        "        for j in range(length-1-i):\n",
        "            if(arr[j]>arr[j+1]):\n",
        "                arr[j],arr[j+1]=arr[j+1],arr[j]\n",
        "                \n",
        "arr=[1,6,9,3,5,0,2,8]\n",
        "bubbleSort(arr)\n",
        "print(arr)"
      ],
      "execution_count": 0,
      "outputs": [
        {
          "output_type": "stream",
          "text": [
            "[0, 1, 2, 3, 5, 6, 8, 9]\n"
          ],
          "name": "stdout"
        }
      ]
    },
    {
      "cell_type": "markdown",
      "metadata": {
        "id": "cJDAk_iHphJw",
        "colab_type": "text"
      },
      "source": [
        "# Insertion Sort"
      ]
    },
    {
      "cell_type": "code",
      "metadata": {
        "id": "nXPB5aZ0phJx",
        "colab_type": "code",
        "colab": {},
        "outputId": "6b8eb4ab-7bed-4f61-b1f0-2e75ccfc879a"
      },
      "source": [
        "def insertionSort(arr):\n",
        "    length=len(arr)\n",
        "    for i in range(1,length):\n",
        "        j=i-1\n",
        "        temp=arr[i]\n",
        "        while(j>=0 and arr[j]>temp):\n",
        "            arr[j+1]=arr[j]\n",
        "            j=j-1\n",
        "        arr[j+1]=temp\n",
        "        \n",
        "arr=[2,1,4,5,3,8,6,4]\n",
        "insertionSort(arr)\n",
        "print(arr)"
      ],
      "execution_count": 0,
      "outputs": [
        {
          "output_type": "stream",
          "text": [
            "[1, 2, 3, 4, 4, 5, 6, 8]\n"
          ],
          "name": "stdout"
        }
      ]
    },
    {
      "cell_type": "markdown",
      "metadata": {
        "id": "NuqQlRwrphJ6",
        "colab_type": "text"
      },
      "source": [
        "# Merge two sorted arrays"
      ]
    },
    {
      "cell_type": "code",
      "metadata": {
        "id": "H1-Lbv0MphJ7",
        "colab_type": "code",
        "colab": {},
        "outputId": "0ca2e894-7c4f-4ef9-8edb-c25db354924e"
      },
      "source": [
        "def mergeSortedArray(arr1,arr2):\n",
        "    i=0\n",
        "    j=0\n",
        "    len1=len(arr1)\n",
        "    len2=len(arr2)\n",
        "    \n",
        "    arr=[]\n",
        "    \n",
        "    while((i<len1) and (j<len2)):\n",
        "        if(arr1[i]< arr2[j]):\n",
        "            arr.append(arr1[i])\n",
        "            i=i+1\n",
        "        else:\n",
        "            arr.append(arr2[j])\n",
        "            j=j+1\n",
        "    \n",
        "    while(i<len1):\n",
        "        arr.append(arr1[i])\n",
        "        i=i+1\n",
        "        \n",
        "    while(j<len2):\n",
        "        arr.append(arr2[j])\n",
        "        j=j+1\n",
        "        \n",
        "    return arr\n",
        "\n",
        "arr1=[1,3,6,9]\n",
        "arr2=[2,4,8,10]\n",
        "arr = mergeSortedArray(arr1,arr2)\n",
        "print(arr)"
      ],
      "execution_count": 0,
      "outputs": [
        {
          "output_type": "stream",
          "text": [
            "[1, 2, 3, 4, 6, 8, 9, 10]\n"
          ],
          "name": "stdout"
        }
      ]
    },
    {
      "cell_type": "markdown",
      "metadata": {
        "id": "6jbfMBQsphKF",
        "colab_type": "text"
      },
      "source": [
        "# Merge Sort"
      ]
    },
    {
      "cell_type": "code",
      "metadata": {
        "id": "i8pNMUFLphKG",
        "colab_type": "code",
        "colab": {},
        "outputId": "1311fb72-dce4-4bbc-def2-5d331dc283a0"
      },
      "source": [
        "def merge(a1, a2, a):\n",
        "    i = 0\n",
        "    j = 0\n",
        "    k = 0\n",
        "    \n",
        "    while (i<len(a1) and j<len(a2)):\n",
        "        if(a1[i] < a2[j]):\n",
        "            a[k] = a1[i]\n",
        "            k = k + 1\n",
        "            i = i + 1\n",
        "        else:\n",
        "            a[k] = a2[j]\n",
        "            k = k + 1\n",
        "            j = j + 1\n",
        "            \n",
        "    while (i<len(a1)):\n",
        "        a[k] = a1[i]\n",
        "        k = k + 1\n",
        "        i = i + 1\n",
        "        \n",
        "    while (j<len(a2)):\n",
        "        a[k] = a2[j]\n",
        "        k = k + 1\n",
        "        j = j + 1\n",
        "        \n",
        "    \n",
        "def mergeSort(a):\n",
        "    if len(a) == 0 or len(a) == 1:\n",
        "        return\n",
        "    \n",
        "    mid= len(a)//2\n",
        "    a1 = a[0 : mid]\n",
        "    a2 = a[mid :  ]\n",
        "    \n",
        "    mergeSort(a1)\n",
        "    mergeSort(a2)\n",
        "    \n",
        "    merge(a1, a2, a)\n",
        " \n",
        "\n",
        "t = [10,5,3,1,7,9,4]\n",
        "mergeSort(t)\n",
        "print(t)"
      ],
      "execution_count": 0,
      "outputs": [
        {
          "output_type": "stream",
          "text": [
            "[1, 3, 4, 5, 7, 9, 10]\n"
          ],
          "name": "stdout"
        }
      ]
    },
    {
      "cell_type": "markdown",
      "metadata": {
        "id": "RM9Bk2l3phKN",
        "colab_type": "text"
      },
      "source": [
        "# Questions"
      ]
    },
    {
      "cell_type": "code",
      "metadata": {
        "id": "YhQusQcvphKO",
        "colab_type": "code",
        "colab": {},
        "outputId": "9dc73b6b-2ed7-44f6-d584-25cd3e02bcd8"
      },
      "source": [
        "#PUSH ZEROS TO END\n",
        "\n",
        "#Given a random integer array, push all the zeros that are present to end of the array. The respective order of other elements should remain same.\n",
        "#Change in the input array itself. You don't need to return or print elements. Don't use extra array.\n",
        "\n",
        "def pushZerosToEnd(arr,length):\n",
        "    count=0    #represents the number of nonzeros \n",
        "    for i in range(length):\n",
        "        if(arr[i]!=0):\n",
        "            arr[count]=arr[i]\n",
        "            count=count+1\n",
        "            \n",
        "    while count< length:\n",
        "        arr[count]=0\n",
        "        count=count+1\n",
        "        \n",
        "arr=[2, 0, 4, 1, 3, 0, 28]\n",
        "length=len(arr)\n",
        "pushZerosToEnd(arr,length)\n",
        "print(arr)"
      ],
      "execution_count": 0,
      "outputs": [
        {
          "output_type": "stream",
          "text": [
            "[2, 4, 1, 3, 28, 0, 0]\n"
          ],
          "name": "stdout"
        }
      ]
    },
    {
      "cell_type": "code",
      "metadata": {
        "id": "5K4n7EPYphKV",
        "colab_type": "code",
        "colab": {},
        "outputId": "e15349f8-0673-4872-f3bf-e93e13df1196"
      },
      "source": [
        "#ROTATE ARRAY\n",
        "\n",
        "#Given a random integer array of size n, write a function that rotates the given array by d elements (towards left)\n",
        "#Change in the input array itself. You don't need to return or print elements.\n",
        "\n",
        "def rotate(arr,n):\n",
        "    length=len(arr)\n",
        "    i=1\n",
        "    for i in range(n):\n",
        "        arr.append(arr[0])\n",
        "        arr.remove(arr[0])\n",
        "        \n",
        "arr=[1,2,3,4,5,6,7]\n",
        "rotate(arr,2)\n",
        "print(arr)\n",
        "        "
      ],
      "execution_count": 0,
      "outputs": [
        {
          "output_type": "stream",
          "text": [
            "[3, 4, 5, 6, 7, 1, 2]\n"
          ],
          "name": "stdout"
        }
      ]
    },
    {
      "cell_type": "code",
      "metadata": {
        "id": "J9kjL8gIphKa",
        "colab_type": "code",
        "colab": {},
        "outputId": "3a525f70-016e-4e47-b4d9-ce36ddfcf0f7"
      },
      "source": [
        "#SECOND LARGEST IN ARRAY\n",
        "\n",
        "#Given a random integer array of size n, find and return the second largest element present in the array.\n",
        "#If n <= 1 or all elements are same in the array, return -2147483648 i.e. -2^31.\n",
        "\n",
        "n=int(input(\"Enter the length of array\"))\n",
        "arr=[]\n",
        "for i in range(n):\n",
        "    arr.append(int(input(\"Enter the elements of array\")))\n",
        "   \n",
        "for i in range(n-1):\n",
        "        min_index=i\n",
        "        for j in range(i+1,n):\n",
        "            if(arr[j]<arr[min_index]):\n",
        "                min_index=j\n",
        "        arr[i],arr[min_index]=arr[min_index],arr[i]\n",
        "        \n",
        "print(\"The second largest element is : \",end=\"\")\n",
        "print(arr[n-2])\n",
        "        \n",
        "        \n",
        "    \n",
        "    "
      ],
      "execution_count": 0,
      "outputs": [
        {
          "output_type": "stream",
          "text": [
            "Enter the length of array5\n",
            "Enter the elements of array1\n",
            "Enter the elements of array3\n",
            "Enter the elements of array7\n",
            "Enter the elements of array2\n",
            "Enter the elements of array9\n",
            "The second largest element is : 7\n"
          ],
          "name": "stdout"
        }
      ]
    },
    {
      "cell_type": "code",
      "metadata": {
        "id": "R6i9Y3N0phKg",
        "colab_type": "code",
        "colab": {},
        "outputId": "b16c3992-e4fa-4496-810e-3fd720982ea7"
      },
      "source": [
        "#CHECK ARRAY ROTATION\n",
        "\n",
        "\n",
        "#Given an integer array, which is sorted (in increasing order) and has been rotated by some number k in clockwise direction. Find and return the k.\n",
        "n=int(input(\"Enter the length of array\"))\n",
        "arr=[]\n",
        "for i in range(n):\n",
        "    arr.append(int(input(\"Enter the elements of array\")))\n",
        "  \n",
        "for k in range(n-1):\n",
        "    if(arr[k]>arr[k+1]):\n",
        "        print(k+1)\n",
        "else:\n",
        "    print(\"0\")\n",
        "    \n",
        "    "
      ],
      "execution_count": 0,
      "outputs": [
        {
          "output_type": "stream",
          "text": [
            "Enter the length of array5\n",
            "Enter the elements of array3\n",
            "Enter the elements of array6\n",
            "Enter the elements of array8\n",
            "Enter the elements of array9\n",
            "Enter the elements of array10\n",
            "0\n"
          ],
          "name": "stdout"
        }
      ]
    },
    {
      "cell_type": "code",
      "metadata": {
        "id": "D8O3GKbbphKp",
        "colab_type": "code",
        "colab": {},
        "outputId": "16826706-69ea-4015-8da3-633232df3a6f"
      },
      "source": [
        "#SORT 0 1 2\n",
        "\n",
        "#You are given an integer array containing only 0s, 1s and 2s. Write a solution to sort this array using one scan only.\n",
        "#You need to change in the given array itself. So no need to return or print anything.\n",
        "\n",
        "n=int(input(\"Enter the length of array\"))\n",
        "arr=[]\n",
        "for i in range(n):\n",
        "    arr.append(int(input(\"Enter the elements of array\")))\n",
        "count_0 = 0\n",
        "count_1 = 0\n",
        "count_2 = 0\n",
        "for i in range(n):\n",
        "    if(arr[i]==0):\n",
        "        count_0 = count_0 +1\n",
        "    elif (arr[i]==1):\n",
        "        count_1 = count_1 +1\n",
        "    else:\n",
        "        count_2 = count_2 +1\n",
        "        \n",
        "for i in range(count_0):\n",
        "    arr[i]=0\n",
        "for i in range(count_0,count_1 + count_0):\n",
        "    arr[i]=1\n",
        "    \n",
        "for i in range(count_1 + count_0 ,count_1 + count_0 + count_2):\n",
        "    arr[i]=2\n",
        "    \n",
        "print(arr)"
      ],
      "execution_count": 0,
      "outputs": [
        {
          "output_type": "stream",
          "text": [
            "Enter the length of array8\n",
            "Enter the elements of array1\n",
            "Enter the elements of array0\n",
            "Enter the elements of array2\n",
            "Enter the elements of array0\n",
            "Enter the elements of array0\n",
            "Enter the elements of array1\n",
            "Enter the elements of array2\n",
            "Enter the elements of array1\n",
            "[0, 0, 0, 1, 1, 1, 2, 2]\n"
          ],
          "name": "stdout"
        }
      ]
    },
    {
      "cell_type": "code",
      "metadata": {
        "id": "rs_3HzFdphKy",
        "colab_type": "code",
        "colab": {},
        "outputId": "e986642b-15a3-4cae-b650-b9990bcda3f8"
      },
      "source": [
        "#### SUM OF TWO ARRAYS\n",
        "\n",
        "#Two random integer arrays are given A1 and A2, in which numbers from 0 to 9 are present at every index (i.e. single digit integer is present at every index of both given arrays).\n",
        "#You need to find sum of both the input arrays (like we add two integers) and put the result in another array i.e. output array (output arrays should also contain only single digits at every index).\n",
        "#The size A1 & A2 can be different.\n",
        "#Note : Output array size should be 1 more than the size of bigger array and place 0 at the 0th index if there is no carry. No need to print the elements of output.\n",
        "\n",
        "n1=int(input(\"Enter the length of array1 : \"))\n",
        "arr1=[]\n",
        "for i in range(n1):\n",
        "    arr1.append(int(input(\"Enter the elements of array1 : \")))\n",
        "    \n",
        "n2=int(input(\"Enter the length of array2 : \"))\n",
        "arr2=[]\n",
        "for i in range(n2):\n",
        "    arr2.append(int(input(\"Enter the elements of array2 : \")))\n",
        "    \n",
        "output=[]\n",
        "for i in range(n1):\n",
        "    for j in range(n2):\n",
        "        if (n1==n2):\n",
        "            sum = arr1[i]+arr2[j]\n",
        "        \n",
        "        elif(n2>n1):\n",
        "            for k in range(n2-n1):\n",
        "                arr1[k+1] = arr1[k]\n",
        "                arr1[k] = 0\n",
        "            sum = arr1[i]+arr2[j]\n",
        "                \n",
        "        else:\n",
        "            for k in range(n1-n2):\n",
        "                arr2[k+1]=arr2[k]\n",
        "                arr2[k] = 0  \n",
        "            sum = arr1[i]+arr2[j]\n",
        "        output.append(sum)     \n",
        "\n",
        "            \n",
        "for i in range(0,len(output)+1):\n",
        "    if(output[i]>9):\n",
        "        c=output[i]\n",
        "        output[i]=c//10\n",
        "        output[i+1]=c%10\n",
        "        output.remove(i+2)\n",
        "        output[i+2]=output[i+1]\n",
        "        \n",
        "            \n",
        "print(output)"
      ],
      "execution_count": 0,
      "outputs": [
        {
          "output_type": "stream",
          "text": [
            "Enter the length of array1 : 3\n",
            "Enter the elements of array1 : 6\n",
            "Enter the elements of array1 : 2\n",
            "Enter the elements of array1 : 4\n",
            "Enter the length of array2 : 3\n",
            "Enter the elements of array2 : 7\n",
            "Enter the elements of array2 : 5\n",
            "Enter the elements of array2 : 6\n"
          ],
          "name": "stdout"
        },
        {
          "output_type": "error",
          "ename": "ValueError",
          "evalue": "list.remove(x): x not in list",
          "traceback": [
            "\u001b[1;31m---------------------------------------------------------------------------\u001b[0m",
            "\u001b[1;31mValueError\u001b[0m                                Traceback (most recent call last)",
            "\u001b[1;32m<ipython-input-20-85ad1bc25c93>\u001b[0m in \u001b[0;36m<module>\u001b[1;34m\u001b[0m\n\u001b[0;32m     41\u001b[0m         \u001b[0moutput\u001b[0m\u001b[1;33m[\u001b[0m\u001b[0mi\u001b[0m\u001b[1;33m]\u001b[0m\u001b[1;33m=\u001b[0m\u001b[0mc\u001b[0m\u001b[1;33m//\u001b[0m\u001b[1;36m10\u001b[0m\u001b[1;33m\u001b[0m\u001b[1;33m\u001b[0m\u001b[0m\n\u001b[0;32m     42\u001b[0m         \u001b[0moutput\u001b[0m\u001b[1;33m[\u001b[0m\u001b[0mi\u001b[0m\u001b[1;33m+\u001b[0m\u001b[1;36m1\u001b[0m\u001b[1;33m]\u001b[0m\u001b[1;33m=\u001b[0m\u001b[0mc\u001b[0m\u001b[1;33m%\u001b[0m\u001b[1;36m10\u001b[0m\u001b[1;33m\u001b[0m\u001b[1;33m\u001b[0m\u001b[0m\n\u001b[1;32m---> 43\u001b[1;33m         \u001b[0moutput\u001b[0m\u001b[1;33m.\u001b[0m\u001b[0mremove\u001b[0m\u001b[1;33m(\u001b[0m\u001b[0mi\u001b[0m\u001b[1;33m+\u001b[0m\u001b[1;36m2\u001b[0m\u001b[1;33m)\u001b[0m\u001b[1;33m\u001b[0m\u001b[1;33m\u001b[0m\u001b[0m\n\u001b[0m\u001b[0;32m     44\u001b[0m         \u001b[0moutput\u001b[0m\u001b[1;33m[\u001b[0m\u001b[0mi\u001b[0m\u001b[1;33m+\u001b[0m\u001b[1;36m2\u001b[0m\u001b[1;33m]\u001b[0m\u001b[1;33m=\u001b[0m\u001b[0moutput\u001b[0m\u001b[1;33m[\u001b[0m\u001b[0mi\u001b[0m\u001b[1;33m+\u001b[0m\u001b[1;36m1\u001b[0m\u001b[1;33m]\u001b[0m\u001b[1;33m\u001b[0m\u001b[1;33m\u001b[0m\u001b[0m\n\u001b[0;32m     45\u001b[0m \u001b[1;33m\u001b[0m\u001b[0m\n",
            "\u001b[1;31mValueError\u001b[0m: list.remove(x): x not in list"
          ]
        }
      ]
    },
    {
      "cell_type": "code",
      "metadata": {
        "id": "w75ndh8FphK4",
        "colab_type": "code",
        "colab": {}
      },
      "source": [
        "n1=int(input(\"Enter the length of array1 : \"))\n",
        "arr1=[]\n",
        "for i in range(n1):\n",
        "    arr1.append(int(input(\"Enter the elements of array1 : \")))\n",
        "    \n",
        "n2=int(input(\"Enter the length of array2 : \"))\n",
        "arr2=[]\n",
        "for i in range(n2):\n",
        "    arr2.append(int(input(\"Enter the elements of array2 : \")))\n",
        "    \n",
        "    \n",
        "def sum(arr1,arr2):\n",
        "    len1=len(arr1)\n",
        "    len2=len(arr2)\n",
        "    if(len1>len2):\n",
        "        len3=len1\n",
        "    else:\n",
        "        len3=len2\n",
        "        \n",
        "        \n",
        "    output=[0]*len3\n",
        "    extra=0\n",
        "     while(len3 -1>=0):\n",
        "            sum=0\n",
        "            if(len1 -1>0):\n",
        "                sum=sum+arr1[len1 -1]\n",
        "                "
      ],
      "execution_count": 0,
      "outputs": []
    }
  ]
}