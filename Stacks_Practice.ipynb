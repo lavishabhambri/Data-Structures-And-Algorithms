{
  "nbformat": 4,
  "nbformat_minor": 0,
  "metadata": {
    "kernelspec": {
      "display_name": "Python 3",
      "language": "python",
      "name": "python3"
    },
    "language_info": {
      "codemirror_mode": {
        "name": "ipython",
        "version": 3
      },
      "file_extension": ".py",
      "mimetype": "text/x-python",
      "name": "python",
      "nbconvert_exporter": "python",
      "pygments_lexer": "ipython3",
      "version": "3.7.6"
    },
    "colab": {
      "name": "Stacks_Practice.ipynb",
      "provenance": [],
      "include_colab_link": true
    }
  },
  "cells": [
    {
      "cell_type": "markdown",
      "metadata": {
        "id": "view-in-github",
        "colab_type": "text"
      },
      "source": [
        "<a href=\"https://colab.research.google.com/github/lavishabhambri/Data-Structures-and-Algorithms/blob/master/Stacks_Practice.ipynb\" target=\"_parent\"><img src=\"https://colab.research.google.com/assets/colab-badge.svg\" alt=\"Open In Colab\"/></a>"
      ]
    },
    {
      "cell_type": "markdown",
      "metadata": {
        "id": "88qU2_I8q2vy",
        "colab_type": "text"
      },
      "source": [
        "# Stack using Array"
      ]
    },
    {
      "cell_type": "code",
      "metadata": {
        "id": "kojc_QNyq2v1",
        "colab_type": "code",
        "colab": {},
        "outputId": "fb137fcc-dfdd-4a78-ec8e-88559ee109d8"
      },
      "source": [
        "class Stack:\n",
        "    \n",
        "    def __init__(self):\n",
        "        self.__data = []\n",
        "        \n",
        "    def push(self, item):\n",
        "        self.__data.append(item)\n",
        "        \n",
        "    def pop(self):\n",
        "        if self.isEmpty():\n",
        "            print(\"Hey the stack is empty!!\")\n",
        "            return \n",
        "        return self.__data.pop()\n",
        "    \n",
        "    def top(self):\n",
        "        if self.isEmpty():\n",
        "            print(\"Hey the stack is empty!!\")\n",
        "            return \n",
        "        return self.__data[len(self.__data)-1]\n",
        "    \n",
        "    def size(self):\n",
        "        return len(self.__data)\n",
        "    \n",
        "    def isEmpty(self):\n",
        "        return self.size() == 0\n",
        "    \n",
        "s = Stack()\n",
        "s.push(1)\n",
        "s.push(2)\n",
        "s.push(3)\n",
        "\n",
        "while s.isEmpty() == False:\n",
        "    print(s.pop())\n",
        "    \n",
        "s.top()"
      ],
      "execution_count": 0,
      "outputs": [
        {
          "output_type": "stream",
          "text": [
            "3\n",
            "2\n",
            "1\n",
            "Hey the stack is empty!!\n"
          ],
          "name": "stdout"
        }
      ]
    },
    {
      "cell_type": "markdown",
      "metadata": {
        "id": "VQWNgHEoq2v-",
        "colab_type": "text"
      },
      "source": [
        "# Stack using Linked List"
      ]
    },
    {
      "cell_type": "code",
      "metadata": {
        "id": "IsMco0kfq2v_",
        "colab_type": "code",
        "colab": {},
        "outputId": "4198145b-db2d-41f4-d3d1-fc6358389922"
      },
      "source": [
        "class Node:\n",
        "    def __init__(self, data):\n",
        "        self.data = data\n",
        "        self.next = next\n",
        "        \n",
        "class Stack:\n",
        "    \n",
        "    def __init__(self):\n",
        "        self.__head = None\n",
        "        self.__count = 0\n",
        "        \n",
        "    def push(self, element):\n",
        "        newNode = Node(element)\n",
        "        newNode.next = self.__head\n",
        "        self.__head = newNode\n",
        "        self.__count += 1\n",
        "        \n",
        "    def pop(self):\n",
        "        if self.isEmpty() is True:\n",
        "            print(\"Hey the stack is empty!!\")\n",
        "            return \n",
        "        data = self.__head.data\n",
        "        self.__head = self.__head.next\n",
        "        self.__count -= 1\n",
        "        return data\n",
        "    \n",
        "    def top(self):\n",
        "        if self.isEmpty() is True:\n",
        "            print(\"Hey the stack is empty!!\")\n",
        "            return \n",
        "        return data\n",
        "    \n",
        "    def size(self):\n",
        "        return self.__count\n",
        "    \n",
        "    def isEmpty(self):\n",
        "        return self.size() == 0\n",
        "    \n",
        "    \n",
        "s = Stack()\n",
        "s.push(1)\n",
        "s.push(2)\n",
        "s.push(3)\n",
        "\n",
        "while s.isEmpty() == False:\n",
        "    print(s.pop())\n",
        "    \n",
        "s.top()               "
      ],
      "execution_count": 0,
      "outputs": [
        {
          "output_type": "stream",
          "text": [
            "3\n",
            "2\n",
            "1\n",
            "Hey the stack is empty!!\n"
          ],
          "name": "stdout"
        }
      ]
    },
    {
      "cell_type": "markdown",
      "metadata": {
        "id": "vstJ7cbeq2wF",
        "colab_type": "text"
      },
      "source": [
        "# Inbuilt Stacks and Queues"
      ]
    },
    {
      "cell_type": "code",
      "metadata": {
        "id": "jMKLTrAmq2wG",
        "colab_type": "code",
        "colab": {},
        "outputId": "669145ef-0930-4b79-a664-e4c0a5f3c53f"
      },
      "source": [
        "#inbuilt stack as list\n",
        "s = [1, 2, 3]\n",
        "s.append(4)\n",
        "s.append(5)\n",
        "print(s.pop())\n",
        "print(s.pop())"
      ],
      "execution_count": 0,
      "outputs": [
        {
          "output_type": "stream",
          "text": [
            "5\n",
            "4\n"
          ],
          "name": "stdout"
        }
      ]
    },
    {
      "cell_type": "code",
      "metadata": {
        "id": "ER9g8xTbq2wM",
        "colab_type": "code",
        "colab": {},
        "outputId": "a4251b04-4d8f-4377-bff1-fb0d5ace5801"
      },
      "source": [
        "import queue\n",
        "\n",
        "#inbuilt queue\n",
        "q = queue.Queue()\n",
        "q.put(1)\n",
        "q.put(2)\n",
        "q.put(3)\n",
        "\n",
        "while not q.empty():\n",
        "    print(q.get())\n",
        "    "
      ],
      "execution_count": 0,
      "outputs": [
        {
          "output_type": "stream",
          "text": [
            "1\n",
            "2\n",
            "3\n"
          ],
          "name": "stdout"
        }
      ]
    },
    {
      "cell_type": "code",
      "metadata": {
        "id": "e09W8YRjq2wR",
        "colab_type": "code",
        "colab": {},
        "outputId": "e62b7d6c-6266-482b-c5b6-ec069b2549e3"
      },
      "source": [
        "import queue\n",
        "\n",
        "#inbuilt stack in queue\n",
        "q = queue.LifoQueue()\n",
        "q.put(1)\n",
        "q.put(2)\n",
        "q.put(3)\n",
        "\n",
        "while not q.empty():\n",
        "    print(q.get())"
      ],
      "execution_count": 0,
      "outputs": [
        {
          "output_type": "stream",
          "text": [
            "3\n",
            "2\n",
            "1\n"
          ],
          "name": "stdout"
        }
      ]
    },
    {
      "cell_type": "markdown",
      "metadata": {
        "id": "EUS7K3Qzq2wX",
        "colab_type": "text"
      },
      "source": [
        "# Balanced Paranthesis"
      ]
    },
    {
      "cell_type": "code",
      "metadata": {
        "id": "CRFScQQMq2wY",
        "colab_type": "code",
        "colab": {},
        "outputId": "4a84d84f-8f1d-4b69-e7da-fbca2dc8b45c"
      },
      "source": [
        "#Given a string expression, check if brackets present in the expression are balanced or not. Brackets are balanced if the bracket which opens last, closes first.\n",
        "#You need to return true if it is balanced, false otherwise.\n",
        "#Note: This problem was asked in initial rounds in Facebook\n",
        "\n",
        "\n",
        "def isBalanced(string):\n",
        "    \n",
        "    s=[]\n",
        "    for char in string:\n",
        "        if char in \"({[\":\n",
        "            s.append(char)\n",
        "        elif char is \")\":\n",
        "            if (not s or s[-1] != \"(\"):\n",
        "                return False\n",
        "            s.pop()\n",
        "        elif char is \"}\":\n",
        "            if (not s or s[-1] != \"{\"):\n",
        "                return False\n",
        "            s.pop()\n",
        "        elif char is \"]\":\n",
        "            if (not s or s[-1] != \"[\"):\n",
        "                return False\n",
        "            s.pop()\n",
        "            \n",
        "    if not s:\n",
        "        return True\n",
        "    return False\n",
        "    \n",
        "String = input()\n",
        "print(isBalanced(String))\n",
        "            "
      ],
      "execution_count": 0,
      "outputs": [
        {
          "output_type": "stream",
          "text": [
            "{ a + [ b - c } ]\n",
            "False\n"
          ],
          "name": "stdout"
        }
      ]
    },
    {
      "cell_type": "markdown",
      "metadata": {
        "id": "w3hD2DBnq2wf",
        "colab_type": "text"
      },
      "source": [
        "# Reverse Stack"
      ]
    },
    {
      "cell_type": "code",
      "metadata": {
        "id": "nHM2ld4jq2wh",
        "colab_type": "code",
        "colab": {},
        "outputId": "314b2a37-853b-458b-b953-3ef153a33b9c"
      },
      "source": [
        "#Reverse a given Stack with the help of another empty stack. Two stacks will be given. Out of which first contains some integers and second one is empty. You need to reverse the first one using second stack. Change in the given first stack itself.\n",
        "#Note : You don't need to print or return the stack, just reverse the given stack and it will be printed internally.\n",
        "\n",
        "def reverse(s1, s2):\n",
        "    \n",
        "    if len(s1) <= 1:\n",
        "        return \n",
        "    \n",
        "    while len(s1) != 1:\n",
        "        element = s1.pop()\n",
        "        s2.append(element)\n",
        "        \n",
        "    lastElement = s1.pop()\n",
        "    \n",
        "    while (len(s2) != 0):\n",
        "        element = s2.pop()\n",
        "        s1.append(element)\n",
        "    \n",
        "    reverse(s1, s2)\n",
        "    s1.append(lastElement)\n",
        "    \n",
        "from sys import setrecursionlimit\n",
        "setrecursionlimit(1100000)\n",
        "n = int(input(\"Enter the no of elements you want to enter : \"))\n",
        "s1 = [int(ele) for ele in input().split()]\n",
        "s2 = []\n",
        "reverse(s1, s2)\n",
        "while len(s1) != 0:\n",
        "    print(s1.pop(), end = \" \")"
      ],
      "execution_count": 0,
      "outputs": [
        {
          "output_type": "stream",
          "text": [
            "Enter the no of elements you want to enter : 7 \n",
            "1 2 3 4 5 6 7\n",
            "1 2 3 4 5 6 7 "
          ],
          "name": "stdout"
        }
      ]
    },
    {
      "cell_type": "markdown",
      "metadata": {
        "id": "3sA7Rx2Wq2wm",
        "colab_type": "text"
      },
      "source": [
        "# Check redundant brackets"
      ]
    },
    {
      "cell_type": "code",
      "metadata": {
        "id": "LdYDc7hRq2wn",
        "colab_type": "code",
        "colab": {},
        "outputId": "ff7b91f9-2021-45fe-e0e7-ca31a671586e"
      },
      "source": [
        "#Given a string mathematical expression, return true if redundant brackets are present in the expression. Brackets are redundant if there is nothing inside the bracket or more than one pair of brackets are present.\n",
        "#Assume the given string expression is balanced and contains only one type of bracket i.e. ().\n",
        "#Note: You will not get partial score for this problem. You will get marks only if all test cases are passed.\n",
        "\n",
        "def isRedundant(string):\n",
        "    s=[]\n",
        "    count = 0\n",
        "    for char in string :\n",
        "        if char in \"(\":\n",
        "            s.append(char)\n",
        "            count = count + 1\n",
        "        elif char is \")\":\n",
        "            if (count <= 1 and len(s)==2 ):\n",
        "                return True\n",
        "            \n",
        "            elif (count > 1):\n",
        "                return True\n",
        "    else:\n",
        "        return False\n",
        "String = input()\n",
        "print(isRedundant(String))       "
      ],
      "execution_count": 0,
      "outputs": [
        {
          "output_type": "stream",
          "text": [
            "((a + b)) \n",
            "True\n"
          ],
          "name": "stdout"
        }
      ]
    },
    {
      "cell_type": "markdown",
      "metadata": {
        "id": "j9SyO083q2ws",
        "colab_type": "text"
      },
      "source": [
        "# Stock Span"
      ]
    },
    {
      "cell_type": "code",
      "metadata": {
        "id": "obaj1qPcq2wt",
        "colab_type": "code",
        "colab": {},
        "outputId": "c88370cd-ca3e-4354-cc79-bd25063da49a"
      },
      "source": [
        "#The span si of a stock’s price on a certain day i is the minimum number of consecutive days (up to the current day) the price of the stock has been less than its price on that ith day. If for a particular day, if no stock price is greater then just count the number of days till 0th day including current day.\n",
        "#For eg. if given price array is {3, 6, 8, 1, 2}, span for 4th day (which has price 2) is 2 because minimum count of consecutive days (including 4th day itself) from current day which has price less than 4th day is 2 (i.e. day 3 & 4). Similarly, span for 2nd day is 3 because no stock price in left is greater than 2nd day's price. So count is 3 till 0th day.\n",
        "#Given an input array with all stock prices, you need to return the array with corresponding spans of each day.\n",
        "#Note : Try doing it in O(n)\n",
        "\n",
        "\n",
        "def calculateSpan(price, Span):\n",
        "   \n",
        "    stack = []\n",
        "    stack.append(0)\n",
        "    \n",
        "    n = len(price)\n",
        "    \n",
        "    span[0] = 1  #always true\n",
        "    \n",
        "    for i in range(1, n):\n",
        "        \n",
        "        #when the price[i] is greater than the top price ,remove only till stack is not empty\n",
        "        while (len(stack) > 0 and price[stack[-1]] <= price[i]):\n",
        "            stack.pop()\n",
        "            \n",
        "        #when stack becomes empty\n",
        "        if len(stack) <= 0:\n",
        "            span[i] = i + 1\n",
        "        else:\n",
        "            span[i] = i - stack[-1]\n",
        "            \n",
        "        stack.append(i)\n",
        "\n",
        "n = int(input(\"Enter the elements you want to enter in the price array\"))\n",
        "price = [int(ele) for ele in input().split()]\n",
        "span = [0 for i in range(len(price)+1)]\n",
        "calculateSpan(price, span)\n",
        "for i in range(n):\n",
        "    print(span[i], end = \" \")\n",
        "        \n",
        "        "
      ],
      "execution_count": 0,
      "outputs": [
        {
          "output_type": "stream",
          "text": [
            "Enter the elements you want to enter in the price array8\n",
            "60 70 80 100 90 75 80 120\n",
            "1 2 3 4 1 1 2 8 "
          ],
          "name": "stdout"
        }
      ]
    },
    {
      "cell_type": "markdown",
      "metadata": {
        "id": "Wwk9NMeEq2wy",
        "colab_type": "text"
      },
      "source": [
        "# Minimum bracket Reversal"
      ]
    },
    {
      "cell_type": "code",
      "metadata": {
        "id": "yFhBOtqDq2wz",
        "colab_type": "code",
        "colab": {},
        "outputId": "83c56dca-70f0-456f-e372-703c03a018b2"
      },
      "source": [
        "#Given a string expression which consists only ‘}’ and ‘{‘. The expression may not be balanced. You need to find the minimum number of bracket reversals which are required to make the expression balanced.\n",
        "#Return -1 if the given expression can't be balanced.\n",
        "\n",
        "def minReversal(string):\n",
        "    \n",
        "    s=[]\n",
        "    if len(string)%2 != 0:\n",
        "        return -1\n",
        "        \n",
        "    count = 0\n",
        "    for char in string:\n",
        "        #to remove balanced part\n",
        "        if char in \"{\":\n",
        "            s.append(char)\n",
        "        elif char is \"}\" and len(s) != 0:\n",
        "            s.pop()\n",
        "        \n",
        "        #working on unbalanced part\n",
        "        elif len(s) == 0 and char is \"}\":\n",
        "            s.append(char)\n",
        "        elif len(s) != 0 and char is \"}\" and s[-1]!= \"{\":\n",
        "            s.append(char)\n",
        "        elif len(s) != 0 and char is \"}\" and s[-1]== \"{\":\n",
        "            s.pop()\n",
        "    while len(s)!= 0:\n",
        "        \n",
        "        c1 = s.pop()\n",
        "        c2 = s.pop()\n",
        "        if c1 == c2:\n",
        "            count = count + 1\n",
        "        else:\n",
        "            count = count +  2\n",
        "            \n",
        "    return count\n",
        "\n",
        "String = input()\n",
        "print(minReversal(String))"
      ],
      "execution_count": 0,
      "outputs": [
        {
          "output_type": "stream",
          "text": [
            "{{}}\n",
            "0\n"
          ],
          "name": "stdout"
        }
      ]
    },
    {
      "cell_type": "code",
      "metadata": {
        "id": "D0Yswu56q2w5",
        "colab_type": "code",
        "colab": {}
      },
      "source": [
        ""
      ],
      "execution_count": 0,
      "outputs": []
    },
    {
      "cell_type": "code",
      "metadata": {
        "id": "M-i8p64uq2w9",
        "colab_type": "code",
        "colab": {}
      },
      "source": [
        ""
      ],
      "execution_count": 0,
      "outputs": []
    }
  ]
}