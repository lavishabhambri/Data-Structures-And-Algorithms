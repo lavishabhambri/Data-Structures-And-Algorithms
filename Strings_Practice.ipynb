{
  "nbformat": 4,
  "nbformat_minor": 0,
  "metadata": {
    "kernelspec": {
      "display_name": "Python 3",
      "language": "python",
      "name": "python3"
    },
    "language_info": {
      "codemirror_mode": {
        "name": "ipython",
        "version": 3
      },
      "file_extension": ".py",
      "mimetype": "text/x-python",
      "name": "python",
      "nbconvert_exporter": "python",
      "pygments_lexer": "ipython3",
      "version": "3.7.6"
    },
    "colab": {
      "name": "Strings_Practice.ipynb",
      "provenance": [],
      "include_colab_link": true
    }
  },
  "cells": [
    {
      "cell_type": "markdown",
      "metadata": {
        "id": "view-in-github",
        "colab_type": "text"
      },
      "source": [
        "<a href=\"https://colab.research.google.com/github/lavishabhambri/Data-Structures-and-Algorithms/blob/master/Strings_Practice.ipynb\" target=\"_parent\"><img src=\"https://colab.research.google.com/assets/colab-badge.svg\" alt=\"Open In Colab\"/></a>"
      ]
    },
    {
      "cell_type": "code",
      "metadata": {
        "id": "eRE2G6qfoAKV",
        "colab_type": "code",
        "colab": {},
        "outputId": "9d93e106-47d6-46ff-93f9-ca04a36a28f3"
      },
      "source": [
        "# CHECK PERMUTATION\n",
        "\n",
        "#Given two strings, S and T, check if they are permutations of each other. Return true or false.\n",
        "#Permutation means - length of both the strings should same and should contain same set of characters. Order of characters doesn't matter.\n",
        "\n",
        "s1 = input(\"Enter the first string : \")\n",
        "s2 = input(\"Enter the second string : \")\n",
        "\n",
        "if(len(s1)!=len(s2)):\n",
        "    result=False\n",
        "for i in range(len(s1)):\n",
        "    if s1[i] not in s2:\n",
        "        result=False\n",
        "        break\n",
        "else:\n",
        "    result=True\n",
        "print(result)    "
      ],
      "execution_count": 0,
      "outputs": [
        {
          "output_type": "stream",
          "text": [
            "Enter the first string : abc\n",
            "Enter the second string : cbd\n",
            "False\n"
          ],
          "name": "stdout"
        }
      ]
    },
    {
      "cell_type": "code",
      "metadata": {
        "id": "9XrCfzhmoAKj",
        "colab_type": "code",
        "colab": {},
        "outputId": "163739e1-53ae-4056-f0db-450f87587a55"
      },
      "source": [
        "#Check whether a string is palindrome or not. Return true or false.\n",
        "\n",
        "string = input(\"Enter the String\")\n",
        "list = []\n",
        "\n",
        "for i in string:\n",
        "    list.append(i)\n",
        "#print(list)\n",
        "\n",
        "for i in range(len(string)):\n",
        "    if list[i]==list[len(string)-i-1]:\n",
        "         a= True\n",
        "    else:\n",
        "        a=False\n",
        "        \n",
        "        \n",
        "if a:\n",
        "    print(\"Palindrome\")\n",
        "else:\n",
        "    print(\"Not a Palindrome\")"
      ],
      "execution_count": 0,
      "outputs": [
        {
          "output_type": "stream",
          "text": [
            "Enter the Stringabc\n",
            "Not a Palindrome\n"
          ],
          "name": "stdout"
        }
      ]
    },
    {
      "cell_type": "code",
      "metadata": {
        "id": "FprmXdunoAKq",
        "colab_type": "code",
        "colab": {},
        "outputId": "a634ff83-249c-4bac-ab9e-41c0b4232f9f"
      },
      "source": [
        "#REMOVE CONSECUTIVE DUPLICATES- to remove the characters which are repeated consecutively and put only one character \n",
        "\n",
        "\n",
        "x = input(\"Enter the string : \")\n",
        "\n",
        "previous_value = None\n",
        "new_lst = []\n",
        "\n",
        "for elem in x:\n",
        "   if elem != previous_value:\n",
        "       new_lst.append(elem)\n",
        "       previous_value = elem\n",
        "\n",
        "print(new_lst)"
      ],
      "execution_count": 0,
      "outputs": [
        {
          "output_type": "stream",
          "text": [
            "Enter the string : aaaabb\n",
            "['a', 'b']\n"
          ],
          "name": "stdout"
        }
      ]
    },
    {
      "cell_type": "code",
      "metadata": {
        "id": "SsNT8EQEoAKw",
        "colab_type": "code",
        "colab": {},
        "outputId": "c0f2e099-2e53-4fdd-e411-54cefcd50ddd"
      },
      "source": [
        "#REVERSE EACH WORD- to reverse each word of a string individually.eg abc def ...output is cba fed\n",
        "\n",
        "string= input(\"Enter the string\")\n",
        "\n",
        "list= string.split(\" \")\n",
        "#print(list)\n",
        "\n",
        "for element in list:\n",
        "        k= element[::-1]\n",
        "        print(k,end=\" \")\n",
        "        \n",
        "    "
      ],
      "execution_count": 0,
      "outputs": [
        {
          "output_type": "stream",
          "text": [
            "Enter the stringGive proper names to variables and functions\n",
            "eviG reporp seman ot selbairav dna snoitcnuf "
          ],
          "name": "stdout"
        }
      ]
    },
    {
      "cell_type": "code",
      "metadata": {
        "id": "yT4hMjL0oAK2",
        "colab_type": "code",
        "colab": {},
        "outputId": "05265425-92a3-4da2-e312-1e43dc41fd04"
      },
      "source": [
        "#REMOVE CHARACTER\n",
        "\n",
        "#Given a string and a character x. Write a function to remove all occurrences of x character from the given string.\n",
        "#Leave the string as it is, if the given character is not present in the string.\n",
        "\n",
        "string= input(\"Enter the string : \")\n",
        "char = input(\"Enter the character you want to remove : \")\n",
        "\n",
        "\n",
        "def remove(string,char):\n",
        "    result=' '\n",
        "    for i in string:\n",
        "        if i == char:\n",
        "            i=\"\"\n",
        "        result += i\n",
        "    print(result)\n",
        "\n",
        "remove(string,char)"
      ],
      "execution_count": 0,
      "outputs": [
        {
          "output_type": "stream",
          "text": [
            "Enter the string : welcome to coding ninjas\n",
            "Enter the character you want to remove : o\n",
            " welcme t cding ninjas\n"
          ],
          "name": "stdout"
        }
      ]
    },
    {
      "cell_type": "code",
      "metadata": {
        "id": "DDtE_qEzoAK8",
        "colab_type": "code",
        "colab": {},
        "outputId": "e89c5fee-d6e7-4aac-8099-2611c0e7a8f9"
      },
      "source": [
        "#HIGHEST OCCURING CHARACTER\n",
        "\n",
        "#Given a string, S, find and return the highest occurring character present in the given string.\n",
        "#If there are 2 characters in the input string with same frequency, return the character which comes first.\n",
        "#Note : Assume all the characters in the given string are lowercase.\n",
        "list=[]\n",
        "string = input(\"Enter the string : \")\n",
        "for i in string:\n",
        "        k=string.count(i)\n",
        "        list.append(k)\n",
        "#print(max(list))\n",
        "            \n",
        "for i in string:\n",
        "    if string.count(i)==max(list):\n",
        "        print(i)\n",
        "        break\n",
        "    "
      ],
      "execution_count": 0,
      "outputs": [
        {
          "output_type": "stream",
          "text": [
            "Enter the string : abababb\n",
            "b\n"
          ],
          "name": "stdout"
        }
      ]
    },
    {
      "cell_type": "code",
      "metadata": {
        "id": "uqNMQJ5boALB",
        "colab_type": "code",
        "colab": {},
        "outputId": "6954f8f8-3529-4939-9686-4163d974e50c"
      },
      "source": [
        "#COMPRESS THE STRING\n",
        "\n",
        "#Write a program to do basic string compression. For a character which is consecutively repeated more than once, replace consecutive duplicate occurrences with the count of repetitions.\n",
        "#For e.g. if a String has 'x' repeated 5 times, replace this \"xxxxx\" with \"x5\".\n",
        "#Note : Consecutive count of every character in input string is less than equal to 9.\n",
        "\n",
        "string =input(\"Enter the string : \")\n",
        "\n",
        "result=\"\"\n",
        "count=1\n",
        "\n",
        "result=result+string[0]\n",
        "for i in range(len(string)-1):\n",
        "    \n",
        "    if string[i]==string[i+1]:\n",
        "        count=count+1\n",
        "    else:\n",
        "        if(count >1):\n",
        "            result=result + str(count)\n",
        "        result=result+ string[i+1]\n",
        "        count=1\n",
        "        \n",
        "    \n",
        "if (count>1):\n",
        "    result= result + str(count)\n",
        "print(result)       \n",
        "        \n",
        "        \n"
      ],
      "execution_count": 0,
      "outputs": [
        {
          "output_type": "stream",
          "text": [
            "Enter the string : aaabbccdsa\n",
            "a3b2c2dsa\n"
          ],
          "name": "stdout"
        }
      ]
    },
    {
      "cell_type": "code",
      "metadata": {
        "id": "qoC-0k6SoALH",
        "colab_type": "code",
        "colab": {},
        "outputId": "f11c0b8e-735a-4d33-eade-0bbbe86dbf34"
      },
      "source": [
        "def compress(string):\n",
        "\n",
        "    res = \"\"\n",
        "\n",
        "    count = 1\n",
        "\n",
        "    #Add in first character\n",
        "    res += string[0]\n",
        "\n",
        "    #Iterate through loop, skipping last one\n",
        "    for i in range(len(string)-1):\n",
        "        if(string[i] == string[i+1]):\n",
        "            count+=1\n",
        "        else:\n",
        "            if(count > 1):\n",
        "                #Ignore if no repeats\n",
        "                res += str(count)\n",
        "            res += string[i+1]\n",
        "            count = 1\n",
        "    #print last one\n",
        "    if(count > 1):\n",
        "        res += str(count)\n",
        "    return res\n",
        "k=compress(\"aaabbccdsa\")\n",
        "print(k)"
      ],
      "execution_count": 0,
      "outputs": [
        {
          "output_type": "stream",
          "text": [
            "a3b2c2dsa\n"
          ],
          "name": "stdout"
        }
      ]
    }
  ]
}