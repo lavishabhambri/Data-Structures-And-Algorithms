{
  "nbformat": 4,
  "nbformat_minor": 0,
  "metadata": {
    "kernelspec": {
      "display_name": "Python 3",
      "language": "python",
      "name": "python3"
    },
    "language_info": {
      "codemirror_mode": {
        "name": "ipython",
        "version": 3
      },
      "file_extension": ".py",
      "mimetype": "text/x-python",
      "name": "python",
      "nbconvert_exporter": "python",
      "pygments_lexer": "ipython3",
      "version": "3.7.6"
    },
    "colab": {
      "name": "Time Complexity Improvement_Practice.ipynb",
      "provenance": [],
      "include_colab_link": true
    }
  },
  "cells": [
    {
      "cell_type": "markdown",
      "metadata": {
        "id": "view-in-github",
        "colab_type": "text"
      },
      "source": [
        "<a href=\"https://colab.research.google.com/github/lavishabhambri/Data-Structures-and-Algorithms/blob/master/Time_Complexity_Improvement_Practice.ipynb\" target=\"_parent\"><img src=\"https://colab.research.google.com/assets/colab-badge.svg\" alt=\"Open In Colab\"/></a>"
      ]
    },
    {
      "cell_type": "markdown",
      "metadata": {
        "id": "cvtl6H6yqH71",
        "colab_type": "text"
      },
      "source": [
        "# Array Intersection"
      ]
    },
    {
      "cell_type": "code",
      "metadata": {
        "id": "M11QtRU3qH74",
        "colab_type": "code",
        "colab": {},
        "outputId": "133cbffe-b1c0-4fed-e4d5-f5bc8ac3ec12"
      },
      "source": [
        "#Given two random integer arrays, print their intersection. That is, print all the elements that are present in both the given arrays.\n",
        "#Input arrays can contain duplicate elements.\n",
        "#Note : Order of elements are not important\n",
        "\n",
        "#defining both arrays\n",
        "arr1 = []\n",
        "arr2 = []\n",
        "m = int(input(\"Enter the length of array1 : \"))\n",
        "n = int(input(\"Enter the length of array2 : \"))\n",
        "\n",
        "for i in range(m):\n",
        "    k=int(input(\"Enter the elements of array1 : \"))\n",
        "    arr1.append(k)\n",
        "    \n",
        "for i in range(n):\n",
        "    k=int(input(\"Enter the elements of array2 : \"))\n",
        "    arr2.append(k)\n",
        "    \n",
        "#calling merge sort on both arrays to sort in less time\n",
        "def merge(a1, a2, a):\n",
        "    i = 0\n",
        "    j = 0\n",
        "    k = 0\n",
        "    \n",
        "    while (i<len(a1) and j<len(a2)):\n",
        "        if(a1[i] < a2[j]):\n",
        "            a[k] = a1[i]\n",
        "            k = k + 1\n",
        "            i = i + 1\n",
        "        else:\n",
        "            a[k] = a2[j]\n",
        "            k = k + 1\n",
        "            j = j + 1\n",
        "            \n",
        "    while (i<len(a1)):\n",
        "        a[k] = a1[i]\n",
        "        k = k + 1\n",
        "        i = i + 1\n",
        "        \n",
        "    while (j<len(a2)):\n",
        "        a[k] = a2[j]\n",
        "        k = k + 1\n",
        "        j = j + 1\n",
        "        \n",
        "    \n",
        "def mergeSort(a):\n",
        "    if len(a) == 0 or len(a) == 1:\n",
        "        return\n",
        "    \n",
        "    mid= len(a)//2\n",
        "    a1 = a[0 : mid]\n",
        "    a2 = a[mid :  ]\n",
        "    \n",
        "    mergeSort(a1)\n",
        "    mergeSort(a2)\n",
        "    \n",
        "    merge(a1, a2, a)\n",
        " \n",
        "mergeSort(arr1)\n",
        "mergeSort(arr2)\n",
        "\n",
        "#checking for common elements in the arrays\n",
        "for i in range(m):\n",
        "    for j in range(n):\n",
        "        if arr1[i] < arr2[j]:\n",
        "            i = i + 1\n",
        "        elif arr1[i] > arr2[j]:\n",
        "            j = j + 1\n",
        "        else:\n",
        "            print(arr1[i])\n",
        "            i = i + 1\n",
        "            j = j + 1\n",
        "            \n",
        "    break       \n",
        "    \n"
      ],
      "execution_count": 0,
      "outputs": [
        {
          "output_type": "stream",
          "text": [
            "Enter the length of array1 : 4\n",
            "Enter the length of array2 : 5\n",
            "Enter the elements of array1 : 2\n",
            "Enter the elements of array1 : 6\n",
            "Enter the elements of array1 : 1\n",
            "Enter the elements of array1 : 2\n",
            "Enter the elements of array2 : 1\n",
            "Enter the elements of array2 : 2\n",
            "Enter the elements of array2 : 3\n",
            "Enter the elements of array2 : 4\n",
            "Enter the elements of array2 : 2\n",
            "1\n",
            "2\n",
            "2\n"
          ],
          "name": "stdout"
        }
      ]
    },
    {
      "cell_type": "markdown",
      "metadata": {
        "id": "Fp-opgxjqH8C",
        "colab_type": "text"
      },
      "source": [
        "# Array Equilibrium Index"
      ]
    },
    {
      "cell_type": "code",
      "metadata": {
        "id": "tvVXEt1lqH8D",
        "colab_type": "code",
        "colab": {},
        "outputId": "34088fa9-604c-4d2e-afbe-3f6959aaf4ac"
      },
      "source": [
        "# Find and return the equilibrium index of an array. Equilibrium index of an array is an index i such that the sum of elements at indices less than i is equal to the sum of elements at indices greater than i.\n",
        "#Element at index i is not included in either part.\n",
        "#If more than one equilibrium index is present, you need to return the first one. And return -1 if no equilibrium index is present.\n",
        "import time\n",
        "\n",
        "arr = []\n",
        "m = int(input(\"Enter the length of array : \"))\n",
        "for i in range(m):\n",
        "    k=int(input(\"Enter the elements of array : \"))\n",
        "    arr.append(k)\n",
        "\n",
        "\n",
        "totalSum = 0\n",
        "i = 0\n",
        "while (i< m):\n",
        "    totalSum += arr[i]\n",
        "    i = i + 1\n",
        "\n",
        "leftSum = 0\n",
        "index = 0\n",
        "while (index < m):\n",
        "    rightSum = totalSum - leftSum -arr[index]\n",
        "    \n",
        "    if rightSum == leftSum:\n",
        "        print(index)\n",
        "        index = index + 1\n",
        "        break\n",
        "        \n",
        "    elif index == m-1 and rightSum != leftSum:\n",
        "        print(\"-1\")\n",
        "        break\n",
        "        \n",
        "    else:\n",
        "        leftSum = leftSum + arr[index]\n",
        "        index = index + 1\n",
        "           "
      ],
      "execution_count": 0,
      "outputs": [
        {
          "output_type": "stream",
          "text": [
            "Enter the length of array : 7\n",
            "Enter the elements of array : -7\n",
            "Enter the elements of array : 1\n",
            "Enter the elements of array : 5\n",
            "Enter the elements of array : 2\n",
            "Enter the elements of array : -4\n",
            "Enter the elements of array : 3\n",
            "Enter the elements of array : 0\n",
            "3\n",
            "0.0\n"
          ],
          "name": "stdout"
        }
      ]
    },
    {
      "cell_type": "markdown",
      "metadata": {
        "id": "HonPsdK9qH8K",
        "colab_type": "text"
      },
      "source": [
        "# Find the Unique Element"
      ]
    },
    {
      "cell_type": "code",
      "metadata": {
        "id": "NlcJ82xZqH8L",
        "colab_type": "code",
        "colab": {}
      },
      "source": [
        "#Given an integer array of size 2N + 1. In this given array, N numbers are present twice and one number is present only once in the array.\n",
        "#You need to find and return that number which is unique in the array.\n",
        "#Note : Given array will always contain odd number of elements.\n",
        "\n"
      ],
      "execution_count": 0,
      "outputs": []
    }
  ]
}