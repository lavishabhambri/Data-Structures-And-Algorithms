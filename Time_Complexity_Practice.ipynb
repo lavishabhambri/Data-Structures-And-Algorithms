{
  "nbformat": 4,
  "nbformat_minor": 0,
  "metadata": {
    "kernelspec": {
      "display_name": "Python 3",
      "language": "python",
      "name": "python3"
    },
    "language_info": {
      "codemirror_mode": {
        "name": "ipython",
        "version": 3
      },
      "file_extension": ".py",
      "mimetype": "text/x-python",
      "name": "python",
      "nbconvert_exporter": "python",
      "pygments_lexer": "ipython3",
      "version": "3.7.6"
    },
    "colab": {
      "name": "Time Complexity_Practice.ipynb",
      "provenance": [],
      "include_colab_link": true
    }
  },
  "cells": [
    {
      "cell_type": "markdown",
      "metadata": {
        "id": "view-in-github",
        "colab_type": "text"
      },
      "source": [
        "<a href=\"https://colab.research.google.com/github/lavishabhambri/Data-Structures-and-Algorithms/blob/master/Time_Complexity_Practice.ipynb\" target=\"_parent\"><img src=\"https://colab.research.google.com/assets/colab-badge.svg\" alt=\"Open In Colab\"/></a>"
      ]
    },
    {
      "cell_type": "markdown",
      "metadata": {
        "id": "iECtNTaCp3tC",
        "colab_type": "text"
      },
      "source": [
        "# EXPERIMENTAL ANALYSIS"
      ]
    },
    {
      "cell_type": "code",
      "metadata": {
        "id": "7HTzTzLZp3tE",
        "colab_type": "code",
        "colab": {}
      },
      "source": [
        "def merge(a1, a2, a):\n",
        "    i = 0\n",
        "    j = 0\n",
        "    k = 0\n",
        "    \n",
        "    while (i<len(a1) and j<len(a2)):\n",
        "        if(a1[i] < a2[j]):\n",
        "            a[k] = a1[i]\n",
        "            k = k + 1\n",
        "            i = i + 1\n",
        "        else:\n",
        "            a[k] = a2[j]\n",
        "            k = k + 1\n",
        "            j = j + 1\n",
        "            \n",
        "    while (i<len(a1)):\n",
        "        a[k] = a1[i]\n",
        "        k = k + 1\n",
        "        i = i + 1\n",
        "        \n",
        "    while (j<len(a2)):\n",
        "        a[k] = a2[j]\n",
        "        k = k + 1\n",
        "        j = j + 1\n",
        "        \n",
        "    \n",
        "def mergeSort(a):\n",
        "    if len(a) == 0 or len(a) == 1:\n",
        "        return\n",
        "    \n",
        "    mid= len(a)//2\n",
        "    a1 = a[0 : mid]\n",
        "    a2 = a[mid :  ]\n",
        "    \n",
        "    mergeSort(a1)\n",
        "    mergeSort(a2)\n",
        "    \n",
        "    merge(a1, a2, a)\n",
        " \n",
        "\n",
        "    return a"
      ],
      "execution_count": 0,
      "outputs": []
    },
    {
      "cell_type": "code",
      "metadata": {
        "id": "W1EWzAQdp3tL",
        "colab_type": "code",
        "colab": {}
      },
      "source": [
        "def selectionSort(arr):\n",
        "    length=len(arr)\n",
        "    for i in range(length-1):\n",
        "        min_index=i\n",
        "        for j in range(i+1,length):\n",
        "            if(arr[j]<arr[min_index]):\n",
        "                min_index=j\n",
        "        arr[i],arr[min_index]=arr[min_index],arr[i]\n",
        "    return arr"
      ],
      "execution_count": 0,
      "outputs": []
    },
    {
      "cell_type": "code",
      "metadata": {
        "id": "CpxlRXx9p3tS",
        "colab_type": "code",
        "colab": {}
      },
      "source": [
        "#defining reverse array\n",
        "def create_rev_array(n):\n",
        "    a=[]\n",
        "    for i in range(n, 0, -1):\n",
        "        a.append(i)\n",
        "    return a\n",
        "        "
      ],
      "execution_count": 0,
      "outputs": []
    },
    {
      "cell_type": "code",
      "metadata": {
        "id": "dnXxwNkwp3tZ",
        "colab_type": "code",
        "colab": {}
      },
      "source": [
        "import time"
      ],
      "execution_count": 0,
      "outputs": []
    },
    {
      "cell_type": "code",
      "metadata": {
        "id": "sL6F-DUxp3tf",
        "colab_type": "code",
        "colab": {}
      },
      "source": [
        "n=1000"
      ],
      "execution_count": 0,
      "outputs": []
    },
    {
      "cell_type": "code",
      "metadata": {
        "id": "bjlZR_c_p3tk",
        "colab_type": "code",
        "colab": {},
        "outputId": "176840c6-1861-4406-aadb-cbecd061d0ae"
      },
      "source": [
        "#calculating time on merge sort\n",
        "a= create_rev_array(n)\n",
        "start = time.time()\n",
        "mergeSort(a)\n",
        "end = time.time()\n",
        "print(n  ,end-start)"
      ],
      "execution_count": 0,
      "outputs": [
        {
          "output_type": "stream",
          "text": [
            "1000 0.015990257263183594\n"
          ],
          "name": "stdout"
        }
      ]
    },
    {
      "cell_type": "code",
      "metadata": {
        "id": "MS5L3V7wp3ts",
        "colab_type": "code",
        "colab": {},
        "outputId": "6afe5f24-4834-45f6-b83e-8654c69bcc71"
      },
      "source": [
        "#calculating time on selection sort\n",
        "a = create_rev_array(n)\n",
        "start = time.time()\n",
        "selectionSort(a)\n",
        "end = time.time()\n",
        "print(n  ,end-start)"
      ],
      "execution_count": 0,
      "outputs": [
        {
          "output_type": "stream",
          "text": [
            "1000 0.1439361572265625\n"
          ],
          "name": "stdout"
        }
      ]
    }
  ]
}