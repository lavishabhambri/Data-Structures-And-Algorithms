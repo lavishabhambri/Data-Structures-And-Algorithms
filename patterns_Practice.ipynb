{
  "nbformat": 4,
  "nbformat_minor": 0,
  "metadata": {
    "kernelspec": {
      "display_name": "Python 3",
      "language": "python",
      "name": "python3"
    },
    "language_info": {
      "codemirror_mode": {
        "name": "ipython",
        "version": 3
      },
      "file_extension": ".py",
      "mimetype": "text/x-python",
      "name": "python",
      "nbconvert_exporter": "python",
      "pygments_lexer": "ipython3",
      "version": "3.7.6"
    },
    "colab": {
      "name": "patterns_Practice.ipynb",
      "provenance": [],
      "include_colab_link": true
    }
  },
  "cells": [
    {
      "cell_type": "markdown",
      "metadata": {
        "id": "view-in-github",
        "colab_type": "text"
      },
      "source": [
        "<a href=\"https://colab.research.google.com/github/lavishabhambri/Data-Structures-and-Algorithms/blob/master/patterns_Practice.ipynb\" target=\"_parent\"><img src=\"https://colab.research.google.com/assets/colab-badge.svg\" alt=\"Open In Colab\"/></a>"
      ]
    },
    {
      "cell_type": "markdown",
      "metadata": {
        "id": "dgWcvxayEm38",
        "colab_type": "text"
      },
      "source": [
        "# PATTERNS"
      ]
    },
    {
      "cell_type": "markdown",
      "metadata": {
        "id": "dP8zduHrEm3-",
        "colab_type": "text"
      },
      "source": [
        "# Using while loop"
      ]
    },
    {
      "cell_type": "code",
      "metadata": {
        "id": "w-NM2zwtEm3_",
        "colab_type": "code",
        "colab": {
          "base_uri": "https://localhost:8080/",
          "height": 119
        },
        "outputId": "42a2aeb0-5e5b-4c0d-8954-3311ca7acafe"
      },
      "source": [
        "a=int(input())\n",
        "i=1\n",
        "while(i<=a):\n",
        "    j=1\n",
        "    while(j<=i):\n",
        "        if (j==1 and i==1):\n",
        "            print(\"1\",end=\"\")\n",
        "        elif(j==i or j==1):\n",
        "            print(i-1,end=\"\")\n",
        "        else :\n",
        "            print(\"0\",end=\"\")\n",
        "            \n",
        "        j=j+1\n",
        "    i=i+1\n",
        "    print()"
      ],
      "execution_count": 1,
      "outputs": [
        {
          "output_type": "stream",
          "text": [
            "5\n",
            "1\n",
            "11\n",
            "202\n",
            "3003\n",
            "40004\n"
          ],
          "name": "stdout"
        }
      ]
    },
    {
      "cell_type": "code",
      "metadata": {
        "id": "AYnM04flEm4I",
        "colab_type": "code",
        "colab": {},
        "outputId": "4ad377a5-0233-4d31-e4ed-880df4a00b01"
      },
      "source": [
        "n=int(input())\n",
        "i=0\n",
        "while(i<n):\n",
        "    j=1\n",
        "    while(j<=i+1):\n",
        "        charP = chr(ord(\"A\")+i+j-1)\n",
        "        print(charP,end= \" \")\n",
        "        j=j+1\n",
        "        \n",
        "    i=i+1\n",
        "    print()"
      ],
      "execution_count": 0,
      "outputs": [
        {
          "output_type": "stream",
          "text": [
            "4\n",
            "A \n",
            "B C \n",
            "C D E \n",
            "D E F G \n"
          ],
          "name": "stdout"
        }
      ]
    },
    {
      "cell_type": "code",
      "metadata": {
        "id": "IcgQaF5MEm4O",
        "colab_type": "code",
        "colab": {},
        "outputId": "14611edb-4fb1-42d0-dd0f-b12fc1809759"
      },
      "source": [
        "n=int(input())\n",
        "i=1\n",
        "while(i<=n):\n",
        "    j=1\n",
        "    c=a\n",
        "    while(j<=i):\n",
        "        p= chr(ord(\"A\")-i+c)\n",
        "        print(p,end= \"\")\n",
        "        j=j+1\n",
        "        c=c+1\n",
        "    print()\n",
        "    i=i+1\n",
        "    "
      ],
      "execution_count": 0,
      "outputs": [
        {
          "output_type": "stream",
          "text": [
            "4\n",
            "C\n",
            "BC\n",
            "ABC\n",
            "@ABC\n"
          ],
          "name": "stdout"
        }
      ]
    },
    {
      "cell_type": "code",
      "metadata": {
        "id": "0dQy9T1zEm4T",
        "colab_type": "code",
        "colab": {},
        "outputId": "39862c07-dac3-4955-82c1-87ffa93e734f"
      },
      "source": [
        "a= int(input())\n",
        "i=1\n",
        "while(i<=a):\n",
        "    j=1\n",
        "    while(j<=i):\n",
        "        print(\"1\",end= \"\")\n",
        "        j=j+1\n",
        "    i=i+1\n",
        "    print()"
      ],
      "execution_count": 0,
      "outputs": [
        {
          "output_type": "stream",
          "text": [
            "4\n",
            "1\n",
            "11\n",
            "111\n",
            "1111\n"
          ],
          "name": "stdout"
        }
      ]
    },
    {
      "cell_type": "code",
      "metadata": {
        "id": "rzIHDETWEm4Y",
        "colab_type": "code",
        "colab": {},
        "outputId": "19e1463e-051d-46ab-f38f-30efad4ea727"
      },
      "source": [
        "a=int(input())\n",
        "i=1\n",
        "while(i<=a):\n",
        "    j=1\n",
        "    while(j<=i):\n",
        "        if(j==i or j==1):\n",
        "            print(\"1\",end=\"\")\n",
        "        else:\n",
        "            print(\"2\",end=\"\")\n",
        "            \n",
        "        j=j+1\n",
        "    i=i+1\n",
        "    print()"
      ],
      "execution_count": 0,
      "outputs": [
        {
          "output_type": "stream",
          "text": [
            "4\n",
            "1\n",
            "11\n",
            "121\n",
            "1221\n"
          ],
          "name": "stdout"
        }
      ]
    },
    {
      "cell_type": "code",
      "metadata": {
        "id": "x6vYlFRmEm4d",
        "colab_type": "code",
        "colab": {},
        "outputId": "f4ed0451-b5a8-4969-a8c9-2003b04547c1"
      },
      "source": [
        "a=int(input())\n",
        "i=1\n",
        "while(i<=a):\n",
        "    j=1\n",
        "    while(j<=a-i+1):\n",
        "        print(j,end=\"\")\n",
        "        \n",
        "        j=j+1\n",
        "    i=i+1\n",
        "    print()\n",
        "        "
      ],
      "execution_count": 0,
      "outputs": [
        {
          "output_type": "stream",
          "text": [
            "4\n",
            "1234\n",
            "123\n",
            "12\n",
            "1\n"
          ],
          "name": "stdout"
        }
      ]
    },
    {
      "cell_type": "code",
      "metadata": {
        "id": "WxVY-TTtEm4i",
        "colab_type": "code",
        "colab": {},
        "outputId": "909b16a9-0a01-4f72-955f-18dab8be293a"
      },
      "source": [
        "a= int(input())\n",
        "i=1\n",
        "while(i<=a):\n",
        "    j=1\n",
        "    while(j<=i):\n",
        "        print(chr(ord(\"A\")+i-1),end=\"\")\n",
        "        j=j+1\n",
        "    i=i+1\n",
        "    print()"
      ],
      "execution_count": 0,
      "outputs": [
        {
          "output_type": "stream",
          "text": [
            "3\n",
            "A\n",
            "BB\n",
            "CCC\n"
          ],
          "name": "stdout"
        }
      ]
    },
    {
      "cell_type": "code",
      "metadata": {
        "id": "UX221jrYEm4o",
        "colab_type": "code",
        "colab": {},
        "outputId": "569fb27a-5052-4bad-e0ef-94a4911a4568"
      },
      "source": [
        "a= int(input())\n",
        "i=1\n",
        "while(i<=a):\n",
        "    j=1\n",
        "    while(j<=a):\n",
        "        print(\"*\",end=\"\")\n",
        "        j=j+1\n",
        "    i=i+1\n",
        "    print()"
      ],
      "execution_count": 0,
      "outputs": [
        {
          "output_type": "stream",
          "text": [
            "4\n",
            "****\n",
            "****\n",
            "****\n",
            "****\n"
          ],
          "name": "stdout"
        }
      ]
    },
    {
      "cell_type": "markdown",
      "metadata": {
        "id": "7OhNpT3LEm4t",
        "colab_type": "text"
      },
      "source": [
        "# Square Patterns"
      ]
    },
    {
      "cell_type": "code",
      "metadata": {
        "id": "0-xUgGpUEm4u",
        "colab_type": "code",
        "colab": {},
        "outputId": "7b3730b5-9f9b-4851-b75a-4e9949fd54e2"
      },
      "source": [
        "a= int(input())\n",
        "i=1\n",
        "while(i<=a):\n",
        "    j=1\n",
        "    while(j<=a):\n",
        "        print(i,end=\"\")\n",
        "        j=j+1\n",
        "    i=i+1\n",
        "    print()"
      ],
      "execution_count": 0,
      "outputs": [
        {
          "output_type": "stream",
          "text": [
            "4\n",
            "1111\n",
            "2222\n",
            "3333\n",
            "4444\n"
          ],
          "name": "stdout"
        }
      ]
    },
    {
      "cell_type": "code",
      "metadata": {
        "id": "cax4P2qfEm40",
        "colab_type": "code",
        "colab": {},
        "outputId": "7739e5e7-58ef-43b1-d55e-a51bf831fd72"
      },
      "source": [
        "a= int(input())\n",
        "i=1\n",
        "while(i<=a):\n",
        "    j=1\n",
        "    while(j<=a):\n",
        "        print(j,end=\"\")\n",
        "        j=j+1\n",
        "    i=i+1\n",
        "    print()"
      ],
      "execution_count": 0,
      "outputs": [
        {
          "output_type": "stream",
          "text": [
            "4\n",
            "1234\n",
            "1234\n",
            "1234\n",
            "1234\n"
          ],
          "name": "stdout"
        }
      ]
    },
    {
      "cell_type": "code",
      "metadata": {
        "id": "JZMYloc2Em45",
        "colab_type": "code",
        "colab": {},
        "outputId": "ba503775-8661-41a7-8315-5b7a2872e89e"
      },
      "source": [
        "a=int(input())\n",
        "i=1\n",
        "while(i<=a):\n",
        "    j=1\n",
        "    while(j<=a):\n",
        "        print(a-j+1,end=\"\")\n",
        "        j=j+1\n",
        "    i=i+1\n",
        "    print()\n",
        "    "
      ],
      "execution_count": 0,
      "outputs": [
        {
          "output_type": "stream",
          "text": [
            "4\n",
            "4321\n",
            "4321\n",
            "4321\n",
            "4321\n"
          ],
          "name": "stdout"
        }
      ]
    },
    {
      "cell_type": "markdown",
      "metadata": {
        "id": "mVF6enmqEm4-",
        "colab_type": "text"
      },
      "source": [
        "# Triangular Patterns"
      ]
    },
    {
      "cell_type": "code",
      "metadata": {
        "scrolled": true,
        "id": "BzZZkzVgEm4_",
        "colab_type": "code",
        "colab": {},
        "outputId": "f8265d08-f815-4349-aa6b-3c8d3ffc6e68"
      },
      "source": [
        "a=int(input())\n",
        "i=1\n",
        "while(i<=a):\n",
        "    j=1\n",
        "    while(j<=i):\n",
        "        print(j,end=\"\")\n",
        "        j=j+1\n",
        "    i=i+1\n",
        "    print()"
      ],
      "execution_count": 0,
      "outputs": [
        {
          "output_type": "stream",
          "text": [
            "4\n",
            "1\n",
            "12\n",
            "123\n",
            "1234\n"
          ],
          "name": "stdout"
        }
      ]
    },
    {
      "cell_type": "code",
      "metadata": {
        "id": "fryxd1dmEm5G",
        "colab_type": "code",
        "colab": {},
        "outputId": "7f5c785e-6b5a-4f9b-c3c6-f1c3fea7af64"
      },
      "source": [
        "a=int(input())\n",
        "i=1\n",
        "while(i<=a):\n",
        "    j=1\n",
        "    p=i\n",
        "    while(j<=i):\n",
        "        print(p,end=\"\")\n",
        "        j=j+1\n",
        "        p=p+1\n",
        "    i=i+1\n",
        "    print()"
      ],
      "execution_count": 0,
      "outputs": [
        {
          "output_type": "stream",
          "text": [
            "4\n",
            "1\n",
            "23\n",
            "345\n",
            "4567\n"
          ],
          "name": "stdout"
        }
      ]
    },
    {
      "cell_type": "code",
      "metadata": {
        "id": "VfaODCXIEm5M",
        "colab_type": "code",
        "colab": {},
        "outputId": "1d49f4ef-d86f-443c-80f5-fd290c49e7e8"
      },
      "source": [
        "a=int(input())\n",
        "i=1\n",
        "p=1\n",
        "while(i<=a):\n",
        "    j=1\n",
        "    while(j<=i):\n",
        "        print(p,end=\"\")\n",
        "        j=j+1\n",
        "        p=p+1\n",
        "    i=i+1\n",
        "    print()\n"
      ],
      "execution_count": 0,
      "outputs": [
        {
          "output_type": "stream",
          "text": [
            "4\n",
            "1\n",
            "23\n",
            "456\n",
            "78910\n"
          ],
          "name": "stdout"
        }
      ]
    },
    {
      "cell_type": "markdown",
      "metadata": {
        "id": "YAqSUHplEm5R",
        "colab_type": "text"
      },
      "source": [
        "# For Alphabetical patterns"
      ]
    },
    {
      "cell_type": "code",
      "metadata": {
        "id": "EQepOvXfEm5S",
        "colab_type": "code",
        "colab": {},
        "outputId": "b6cc4de1-b680-4e03-9daa-bb9feaf17875"
      },
      "source": [
        "a=int(input())\n",
        "i=1\n",
        "while(i<=a):\n",
        "    j=1\n",
        "    while(j<=a):\n",
        "        print(chr(ord('A')+j-1),end=\"\")\n",
        "        j=j+1\n",
        "    i=i+1\n",
        "    print()\n",
        "        "
      ],
      "execution_count": 0,
      "outputs": [
        {
          "output_type": "stream",
          "text": [
            "4\n",
            "ABCD\n",
            "ABCD\n",
            "ABCD\n",
            "ABCD\n"
          ],
          "name": "stdout"
        }
      ]
    },
    {
      "cell_type": "code",
      "metadata": {
        "id": "FwaGTXEmEm5W",
        "colab_type": "code",
        "colab": {},
        "outputId": "2673d1e6-478b-420c-9c46-0191522a8364"
      },
      "source": [
        "a=int(input())\n",
        "i=1\n",
        "while(i<=a):\n",
        "    j=1\n",
        "    s=chr(ord(s)+i-1)\n",
        "    while (j<=a):\n",
        "        print(chr(ord(s)+j-1),end=\"\")\n",
        "        j=j+1\n",
        "    i=i+1\n",
        "    print()\n",
        "        "
      ],
      "execution_count": 0,
      "outputs": [
        {
          "output_type": "stream",
          "text": [
            "4\n",
            "ABCD\n",
            "BCDE\n",
            "DEFG\n",
            "GHIJ\n"
          ],
          "name": "stdout"
        }
      ]
    },
    {
      "cell_type": "markdown",
      "metadata": {
        "id": "U6ArWNg2Em5b",
        "colab_type": "text"
      },
      "source": [
        "# Triangular patterns"
      ]
    },
    {
      "cell_type": "code",
      "metadata": {
        "id": "3upyRhKzEm5c",
        "colab_type": "code",
        "colab": {},
        "outputId": "d934551e-f6fc-4389-d281-24559e894d10"
      },
      "source": [
        "a=int(input())\n",
        "i=1\n",
        "while(i<=a):\n",
        "    spaces= 1\n",
        "    while(spaces<= a-i):\n",
        "        print(\" \",end=\"\")\n",
        "        spaces=spaces+1\n",
        "    p=1\n",
        "    j=1\n",
        "    while(j<=i):\n",
        "        print(p,end=\"\")\n",
        "        j=j+1\n",
        "        p=p+1\n",
        "    print()\n",
        "    i=i+1\n",
        "    \n",
        "    \n",
        "    "
      ],
      "execution_count": 0,
      "outputs": [
        {
          "output_type": "stream",
          "text": [
            "4\n",
            "   1\n",
            "  12\n",
            " 123\n",
            "1234\n"
          ],
          "name": "stdout"
        }
      ]
    },
    {
      "cell_type": "code",
      "metadata": {
        "id": "Ydar5NLBEm5j",
        "colab_type": "code",
        "colab": {},
        "outputId": "32b4d583-6c40-465d-cee6-15739e88a5fe"
      },
      "source": [
        "a=int(input())\n",
        "i=1\n",
        "while(i<=a):\n",
        "    #spaces\n",
        "    spaces= 1\n",
        "    while(spaces<= a-i):\n",
        "        print(\" \",end=\"\")\n",
        "        spaces=spaces+1\n",
        "    p=1\n",
        "    j=1\n",
        "    #increasing sequence\n",
        "    while(j<=i):\n",
        "        print(p,end=\"\")\n",
        "        j=j+1\n",
        "        p=p+1\n",
        "        #decreasing sequence\n",
        "    p=i-1\n",
        "    while(p>=1):\n",
        "        print(p,end=\"\")\n",
        "        p=p-1\n",
        "    print()\n",
        "    i=i+1\n",
        "    "
      ],
      "execution_count": 0,
      "outputs": [
        {
          "output_type": "stream",
          "text": [
            "5\n",
            "    1\n",
            "   121\n",
            "  12321\n",
            " 1234321\n",
            "123454321\n"
          ],
          "name": "stdout"
        }
      ]
    },
    {
      "cell_type": "code",
      "metadata": {
        "id": "jVI5sy0BEm5o",
        "colab_type": "code",
        "colab": {},
        "outputId": "bf5dee57-7bf6-479c-b7c6-b04d289bf0b0"
      },
      "source": [
        "a=int(input())\n",
        "i=1\n",
        "while(i<=a):\n",
        "    #spaces\n",
        "    spaces= 1\n",
        "    while(spaces<= a-i):\n",
        "        print(\" \",end=\"\")\n",
        "        spaces=spaces+1\n",
        "    p=1\n",
        "    j=1\n",
        "    #increasing sequence\n",
        "    while(j<=i):\n",
        "        print(\"*\",end=\"\")\n",
        "        j=j+1\n",
        "        p=p+1\n",
        "        #decreasing sequence\n",
        "    p=i-1\n",
        "    while(p>=1):\n",
        "        print(\"*\",end=\"\")\n",
        "        p=p-1\n",
        "    print()\n",
        "    i=i+1\n",
        "    "
      ],
      "execution_count": 0,
      "outputs": [
        {
          "output_type": "stream",
          "text": [
            "5\n",
            "    *\n",
            "   ***\n",
            "  *****\n",
            " *******\n",
            "*********\n"
          ],
          "name": "stdout"
        }
      ]
    },
    {
      "cell_type": "code",
      "metadata": {
        "id": "zMImSR9cEm5s",
        "colab_type": "code",
        "colab": {},
        "outputId": "f5c58954-2705-4fd9-da0c-fd3a158237c1"
      },
      "source": [
        "a=int(input())\n",
        "i=1\n",
        "while(i<=a):\n",
        "    j=1\n",
        "    while(j<=a-i):\n",
        "        print(\" \",end=\"\")\n",
        "        j=j+1\n",
        "    k=1\n",
        "    p=i\n",
        "    while(k<=i):\n",
        "        print(p,end=\"\")\n",
        "        k=k+1\n",
        "        p=p+1\n",
        "    l=p-2\n",
        "    while(l>=i):\n",
        "        print(l,end=\"\")\n",
        "        l=l-1\n",
        "    print()\n",
        "    i=i+1"
      ],
      "execution_count": 0,
      "outputs": [
        {
          "output_type": "stream",
          "text": [
            "5\n",
            "    1\n",
            "   232\n",
            "  34543\n",
            " 4567654\n",
            "567898765\n"
          ],
          "name": "stdout"
        }
      ]
    },
    {
      "cell_type": "code",
      "metadata": {
        "id": "4FudGJ_mEm5x",
        "colab_type": "code",
        "colab": {},
        "outputId": "46c9e877-8d49-46a6-d3af-c3f18f3d7c42"
      },
      "source": [
        "a=int(input())\n",
        "i=1\n",
        "m=a//2+1\n",
        "while(i<=m):\n",
        "    spaces= 1\n",
        "    while(spaces<= m-i):\n",
        "        print(\" \",end=\"\")\n",
        "        spaces=spaces+1\n",
        "    p=1\n",
        "    j=1\n",
        "    #increasing sequence\n",
        "    while(j<=i):\n",
        "        print(\"*\",end=\"\")\n",
        "        j=j+1\n",
        "        p=p+1\n",
        "        #decreasing sequence\n",
        "    p=i-1\n",
        "    while(p>=1):\n",
        "        print(\"*\",end=\"\")\n",
        "        p=p-1\n",
        "    print()\n",
        "    i=i+1\n",
        "    \n",
        "\n",
        "i=1\n",
        "d=m-1\n",
        "while(i<=d):\n",
        "    spaces=1\n",
        "    while(spaces<= i):\n",
        "        print(\" \",end=\"\")\n",
        "        spaces=spaces+1\n",
        "    h=1\n",
        "    while(h<=d-i+1):\n",
        "        print(\"*\",end=\"\")\n",
        "        h=h+1\n",
        "    p=d-i\n",
        "    while(p>=1):\n",
        "        print(\"*\",end=\"\")\n",
        "        p=p-1\n",
        "    print()\n",
        "    i=i+1\n",
        "    "
      ],
      "execution_count": 0,
      "outputs": [
        {
          "output_type": "stream",
          "text": [
            "5\n",
            "  *\n",
            " ***\n",
            "*****\n",
            " ***\n",
            "  *\n"
          ],
          "name": "stdout"
        }
      ]
    },
    {
      "cell_type": "code",
      "metadata": {
        "id": "oVQ5vXgGEm51",
        "colab_type": "code",
        "colab": {},
        "outputId": "31d16fca-8e56-41cd-f542-93b398c9d0e9"
      },
      "source": [
        "a=int(input())\n",
        "i=1\n",
        "while(i<=a):\n",
        "    j=1\n",
        "    while(j<=i):\n",
        "        print(j,end=\"\")\n",
        "        j=j+1\n",
        "    print()\n",
        "    i=i+1"
      ],
      "execution_count": 0,
      "outputs": [
        {
          "output_type": "stream",
          "text": [
            "5\n",
            "1\n",
            "12\n",
            "123\n",
            "1234\n",
            "12345\n"
          ],
          "name": "stdout"
        }
      ]
    },
    {
      "cell_type": "code",
      "metadata": {
        "id": "Z4F4kipGEm55",
        "colab_type": "code",
        "colab": {},
        "outputId": "5fe2cf1c-d2a9-4dea-cc96-9179c233543e"
      },
      "source": [
        "a=int(input())\n",
        "i=1\n",
        "while(i<=a):\n",
        "    j=1\n",
        "    while(j<=i):\n",
        "        print(j,end=\"\")\n",
        "        j=j+1\n",
        "    k=a*2-i*2\n",
        "    while(k>=1):\n",
        "        print(\" \",end=\"\")\n",
        "        k=k-1\n",
        "    m=i\n",
        "    while(m>=1):\n",
        "        print(m,end=\"\")\n",
        "        m=m-1\n",
        "    print()\n",
        "    i=i+1\n",
        "    \n",
        "    \n",
        " \n",
        "\n"
      ],
      "execution_count": 0,
      "outputs": [
        {
          "output_type": "stream",
          "text": [
            "5\n",
            "1        1\n",
            "12      21\n",
            "123    321\n",
            "1234  4321\n",
            "1234554321\n"
          ],
          "name": "stdout"
        }
      ]
    },
    {
      "cell_type": "code",
      "metadata": {
        "id": "Ha6Y0d4sEm59",
        "colab_type": "code",
        "colab": {}
      },
      "source": [
        "a=int(input())\n",
        "i=1\n",
        "while(i<=a):\n",
        "    j=1\n",
        "    while(j<=i):\n",
        "        if(j==i):\n",
        "            print(\"*\",end=\"\")\n",
        "        else:\n",
        "            print(\"0\",end=\"\")\n",
        "        j=j+1\n",
        "    k=1\n",
        "    while(k<=a-i):\n",
        "        print(\"0\",end=\"\")\n",
        "        k=k+1\n",
        "    m=1\n",
        "    while(m>=1):\n",
        "        print(\"*\",end=\"\")\n",
        "        m=m-1\n",
        "    n=a-i\n",
        "    while(n>=1):\n",
        "        print(\"0\",end=\"\")\n",
        "        n=n-1\n",
        "    o=1\n",
        "    while(o<=i):\n",
        "        if(o==1):\n",
        "            print(\"*\",end=\"\")\n",
        "            o=o+1\n",
        "        else:\n",
        "            print(\"0\",end=\"\")\n",
        "            o=o+1\n",
        "    i=i+1\n",
        "    print()"
      ],
      "execution_count": 0,
      "outputs": []
    },
    {
      "cell_type": "code",
      "metadata": {
        "scrolled": true,
        "id": "X7FOmGEiEm6B",
        "colab_type": "code",
        "colab": {},
        "outputId": "45a13efe-cd5e-481c-f153-f929ba576fa5"
      },
      "source": [
        "a=int(input())\n",
        "i=1\n",
        "while(i<=a):\n",
        "    spaces=1\n",
        "    while(spaces<=a-i):\n",
        "        print(\" \",end=\"\")\n",
        "        spaces=spaces+1\n",
        "        \n",
        "    j=i\n",
        "    while(j>=1):\n",
        "        print(j,end=\"\")\n",
        "        j=j-1\n",
        "        \n",
        "    p=2\n",
        "    while(p<=i):\n",
        "        print(p,end=\"\")\n",
        "        p=p+1\n",
        "    i=i+1\n",
        "    print()\n",
        "    "
      ],
      "execution_count": 0,
      "outputs": [
        {
          "output_type": "stream",
          "text": [
            "5\n",
            "    1\n",
            "   212\n",
            "  32123\n",
            " 4321234\n",
            "543212345\n"
          ],
          "name": "stdout"
        }
      ]
    },
    {
      "cell_type": "code",
      "metadata": {
        "id": "x4q84gq1Em6G",
        "colab_type": "code",
        "colab": {},
        "outputId": "fdd18558-41f0-4974-b557-2da640ee8337"
      },
      "source": [
        "a=int(input())\n",
        "i=1\n",
        "m=a//2+1\n",
        "while(i<=m):\n",
        "    j=1\n",
        "    while(j<=2*i-1):\n",
        "        if(j<=i-1):\n",
        "            print(\" \",end=\"\")\n",
        "        else:\n",
        "            print(\"* \",end=\"\")\n",
        "        j=j+1\n",
        "    \n",
        "    \n",
        "    i=i+1\n",
        "    print()"
      ],
      "execution_count": 0,
      "outputs": [
        {
          "output_type": "stream",
          "text": [
            "11\n",
            "* \n",
            " * * \n",
            "  * * * \n",
            "   * * * * \n",
            "    * * * * * \n",
            "     * * * * * * \n"
          ],
          "name": "stdout"
        }
      ]
    },
    {
      "cell_type": "code",
      "metadata": {
        "id": "tcjd_JraEm6L",
        "colab_type": "code",
        "colab": {},
        "outputId": "441d0bb6-f0bc-4a33-a1a1-54ab6e82fd84"
      },
      "source": [
        "a=int(input())\n",
        "i=1\n",
        "m=a//2+1\n",
        "while(i<=m):\n",
        "    j=1\n",
        "    while(j<=i-1):\n",
        "        print(\" \",end=\"\")\n",
        "        j=j+1\n",
        "        \n",
        "    k=1\n",
        "    while(k<=i):\n",
        "        print(\"* \",end=\"\")\n",
        "        k=k+1\n",
        "    i=i+1\n",
        "    print()\n",
        "    \n",
        "n=m-1\n",
        "l=1\n",
        "while(l<=n):\n",
        "    b=1\n",
        "    while(b<=n-l):\n",
        "        print(\" \",end=\"\")\n",
        "        b=b+1\n",
        "    c=1\n",
        "    while(c<=n-l+1):\n",
        "        print(\"* \",end=\"\")\n",
        "        c=c+1\n",
        "    l=l+1\n",
        "    print()\n",
        "        "
      ],
      "execution_count": 0,
      "outputs": [
        {
          "output_type": "stream",
          "text": [
            "11\n",
            "* \n",
            " * * \n",
            "  * * * \n",
            "   * * * * \n",
            "    * * * * * \n",
            "     * * * * * * \n",
            "    * * * * * \n",
            "   * * * * \n",
            "  * * * \n",
            " * * \n",
            "* \n"
          ],
          "name": "stdout"
        }
      ]
    },
    {
      "cell_type": "markdown",
      "metadata": {
        "id": "gXiNUYbaEm6P",
        "colab_type": "text"
      },
      "source": [
        "# Using for loop"
      ]
    },
    {
      "cell_type": "code",
      "metadata": {
        "id": "m9FyFAJiEm6Q",
        "colab_type": "code",
        "colab": {},
        "outputId": "83a22b4f-d27a-4809-f0c0-e5a2b7b3c8aa"
      },
      "source": [
        "a=int(input())\n",
        "i=0\n",
        "for i in range(a):\n",
        "    j=1\n",
        "    for j in range(a-i):\n",
        "        if(i%2!=0):\n",
        "            print(\"0\",end=\"\")\n",
        "        else:\n",
        "            print(\"1\",end=\"\")\n",
        "            \n",
        "    print()"
      ],
      "execution_count": 0,
      "outputs": [
        {
          "output_type": "stream",
          "text": [
            "4\n",
            "1111\n",
            "000\n",
            "11\n",
            "0\n"
          ],
          "name": "stdout"
        }
      ]
    },
    {
      "cell_type": "code",
      "metadata": {
        "id": "SZ4NCPx4Em6U",
        "colab_type": "code",
        "colab": {},
        "outputId": "3cb65ccb-dfef-43f9-f9ac-94000b69022d"
      },
      "source": [
        "a=int(input())\n",
        "for i in range(a):\n",
        "    for j in range(1,a+1):\n",
        "        if(j<=i):\n",
        "            print(\" \",end=\"\")\n",
        "        else:\n",
        "            print(j,end=\"\")\n",
        "    print()\n",
        "\n",
        "for i in range(1,6):\n",
        "    for j in range(1,a+1):\n",
        "        if(j<a-i):\n",
        "            print(\" \",end=\"\")\n",
        "        else:\n",
        "            print(j,end=\"\")\n",
        "    print()"
      ],
      "execution_count": 0,
      "outputs": [
        {
          "output_type": "stream",
          "text": [
            "6\n",
            "123456\n",
            " 23456\n",
            "  3456\n",
            "   456\n",
            "    56\n",
            "     6\n",
            "    56\n",
            "   456\n",
            "  3456\n",
            " 23456\n",
            "123456\n"
          ],
          "name": "stdout"
        }
      ]
    },
    {
      "cell_type": "code",
      "metadata": {
        "id": "28k0IGjAEm6a",
        "colab_type": "code",
        "colab": {},
        "outputId": "743e62a7-41da-40f8-de9a-6be1ef1cc8e0"
      },
      "source": [
        "a=int(input())\n",
        "m=a//2+1\n",
        "for i in range(m+1):\n",
        "    for j in range(m):\n",
        "        if(i<m-j):\n",
        "            print(\" \",end=\"\")\n",
        "        else:\n",
        "            print(\"*\",end=\"\")\n",
        "    for j in range(i-1):\n",
        "            print(\"*\",end=\"\")\n",
        "    print()\n",
        "    \n",
        "\n",
        "        \n",
        "        "
      ],
      "execution_count": 0,
      "outputs": [
        {
          "output_type": "stream",
          "text": [
            "5\n",
            "   \n",
            "  *\n",
            " ***\n",
            "*****\n"
          ],
          "name": "stdout"
        }
      ]
    },
    {
      "cell_type": "code",
      "metadata": {
        "id": "mapjQ5I-Em6f",
        "colab_type": "code",
        "colab": {},
        "outputId": "bfb8644f-726d-452b-b84e-e8f7f109c736"
      },
      "source": [
        "a=int(input())\n",
        "m=a//2+1\n",
        "for j in range(1,m+1):\n",
        "    for i in range(1,m-j+1):\n",
        "        print(\" \",end=\"\")\n",
        "    for k in range(1,j+1):\n",
        "        print(\"*\",end=\"\")\n",
        "    for l in range(1,j):\n",
        "        print(\"*\",end=\"\")\n",
        "    print()\n",
        "\n",
        "for n in range(1,m):\n",
        "    for i in range(1,n+1):\n",
        "            print(\" \",end=\"\")\n",
        "    for p in range(1,m-n+1):\n",
        "            print(\"*\",end=\"\")\n",
        "    for o in range(m-n-1,0,-1):\n",
        "            print(\"*\",end=\"\")\n",
        "    print()"
      ],
      "execution_count": 0,
      "outputs": [
        {
          "output_type": "stream",
          "text": [
            "5\n",
            "  *\n",
            " ***\n",
            "*****\n",
            " ***\n",
            "  *\n"
          ],
          "name": "stdout"
        }
      ]
    },
    {
      "cell_type": "code",
      "metadata": {
        "id": "YTnLnI9NEm6j",
        "colab_type": "code",
        "colab": {},
        "outputId": "30dacae1-e0eb-434d-ab37-94ec8c838170"
      },
      "source": [
        "a= int(input())\n",
        "for i in range(2*a-1):\n",
        "    for j in range(2*a-1):\n",
        "        if()"
      ],
      "execution_count": 0,
      "outputs": [
        {
          "output_type": "stream",
          "text": [
            "4\n",
            "7654321\n",
            "70-1-2-3-4-5\n",
            "-6-7-8-9-10-11-12\n",
            "-13-14-15-16-17-18-19\n",
            "-20-21-22-23-24-25-26\n",
            "-27-28-29-30-31-32-33\n",
            "-34-35-36-37-38-39-40\n"
          ],
          "name": "stdout"
        }
      ]
    },
    {
      "cell_type": "code",
      "metadata": {
        "id": "rGUlbLBtEm6m",
        "colab_type": "code",
        "colab": {},
        "outputId": "2d081348-bec4-4141-c1df-4aa5c942bcac"
      },
      "source": [
        "a= int(input())\n",
        "arr = []\n",
        "for i in range(0,a):\n",
        "    for j in range(0,a+1):\n",
        "        for k in range(1,a+1):\n",
        "            for x in range(1,k*k+1):\n",
        "                arr[i+k-1][j]= x\n",
        "                arr[i][j+k-1]= x\n",
        "        "
      ],
      "execution_count": 0,
      "outputs": [
        {
          "output_type": "stream",
          "text": [
            "4\n"
          ],
          "name": "stdout"
        },
        {
          "output_type": "error",
          "ename": "IndexError",
          "evalue": "list index out of range",
          "traceback": [
            "\u001b[1;31m---------------------------------------------------------------------------\u001b[0m",
            "\u001b[1;31mIndexError\u001b[0m                                Traceback (most recent call last)",
            "\u001b[1;32m<ipython-input-99-cc19c533613c>\u001b[0m in \u001b[0;36m<module>\u001b[1;34m\u001b[0m\n\u001b[0;32m      5\u001b[0m         \u001b[1;32mfor\u001b[0m \u001b[0mk\u001b[0m \u001b[1;32min\u001b[0m \u001b[0mrange\u001b[0m\u001b[1;33m(\u001b[0m\u001b[1;36m1\u001b[0m\u001b[1;33m,\u001b[0m\u001b[0ma\u001b[0m\u001b[1;33m+\u001b[0m\u001b[1;36m1\u001b[0m\u001b[1;33m)\u001b[0m\u001b[1;33m:\u001b[0m\u001b[1;33m\u001b[0m\u001b[1;33m\u001b[0m\u001b[0m\n\u001b[0;32m      6\u001b[0m             \u001b[1;32mfor\u001b[0m \u001b[0mx\u001b[0m \u001b[1;32min\u001b[0m \u001b[0mrange\u001b[0m\u001b[1;33m(\u001b[0m\u001b[1;36m1\u001b[0m\u001b[1;33m,\u001b[0m\u001b[0mk\u001b[0m\u001b[1;33m*\u001b[0m\u001b[0mk\u001b[0m\u001b[1;33m+\u001b[0m\u001b[1;36m1\u001b[0m\u001b[1;33m)\u001b[0m\u001b[1;33m:\u001b[0m\u001b[1;33m\u001b[0m\u001b[1;33m\u001b[0m\u001b[0m\n\u001b[1;32m----> 7\u001b[1;33m                 \u001b[0marr\u001b[0m\u001b[1;33m[\u001b[0m\u001b[0mi\u001b[0m\u001b[1;33m+\u001b[0m\u001b[0mk\u001b[0m\u001b[1;33m-\u001b[0m\u001b[1;36m1\u001b[0m\u001b[1;33m]\u001b[0m\u001b[1;33m[\u001b[0m\u001b[0mj\u001b[0m\u001b[1;33m]\u001b[0m\u001b[1;33m=\u001b[0m \u001b[0mx\u001b[0m\u001b[1;33m\u001b[0m\u001b[1;33m\u001b[0m\u001b[0m\n\u001b[0m\u001b[0;32m      8\u001b[0m                 \u001b[0marr\u001b[0m\u001b[1;33m[\u001b[0m\u001b[0mi\u001b[0m\u001b[1;33m]\u001b[0m\u001b[1;33m[\u001b[0m\u001b[0mj\u001b[0m\u001b[1;33m+\u001b[0m\u001b[0mk\u001b[0m\u001b[1;33m-\u001b[0m\u001b[1;36m1\u001b[0m\u001b[1;33m]\u001b[0m \u001b[1;33m=\u001b[0m \u001b[0mx\u001b[0m\u001b[1;33m\u001b[0m\u001b[1;33m\u001b[0m\u001b[0m\n\u001b[0;32m      9\u001b[0m \u001b[1;33m\u001b[0m\u001b[0m\n",
            "\u001b[1;31mIndexError\u001b[0m: list index out of range"
          ]
        }
      ]
    },
    {
      "cell_type": "code",
      "metadata": {
        "id": "nnEa5bhOEm6q",
        "colab_type": "code",
        "colab": {},
        "outputId": "e4c33c13-51b4-4a8e-ead4-d115bb241439"
      },
      "source": [
        "a=int(input())\n",
        "\n",
        "for i in range(1,a+1,1):          #a rows\n",
        "    for j in range(a-i):        #spaces\n",
        "        print(\" \",end=\"\")\n",
        "    for k in range(i ,2*i, 1):   #increasing part\n",
        "        print(k,end=\"\")\n",
        "        \n",
        "    for k in range(2*i-2 , i-1, -1):    #decreasing part\n",
        "        print(k,end=\"\")\n",
        "    print()"
      ],
      "execution_count": 0,
      "outputs": [
        {
          "output_type": "stream",
          "text": [
            "4\n",
            "   1\n",
            "  232\n",
            " 34543\n",
            "4567654\n"
          ],
          "name": "stdout"
        }
      ]
    }
  ]
}